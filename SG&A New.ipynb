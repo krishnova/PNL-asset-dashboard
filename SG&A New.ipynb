{
 "cells": [
  {
   "cell_type": "code",
   "execution_count": 1,
   "metadata": {},
   "outputs": [],
   "source": [
    "import numpy as np\n",
    "import pandas as pd\n",
    "import matplotlib as mpl\n",
    "import matplotlib.pyplot as plt\n",
    "import seaborn as sns"
   ]
  },
  {
   "cell_type": "code",
   "execution_count": 2,
   "metadata": {},
   "outputs": [],
   "source": [
    "def mean_absolute_percentage_error(y_true, y_pred): \n",
    "    \n",
    "    \"\"\"\n",
    "    This function calculates mean_absolute_percentage_error\n",
    "    \n",
    "    Input:\n",
    "        y_true (array): True values\n",
    "        y_pred (array): Preicted values\n",
    "\n",
    "    Returns: \n",
    "        Calculated MAPE \n",
    "    \n",
    "    \"\"\"\n",
    "    \n",
    "    y_true, y_pred = np.array(y_true), np.array(y_pred)\n",
    "    return np.mean(np.abs((y_true - y_pred) / y_true)) * 100"
   ]
  },
  {
   "cell_type": "code",
   "execution_count": 3,
   "metadata": {},
   "outputs": [
    {
     "data": {
      "text/html": [
       "<div>\n",
       "<style scoped>\n",
       "    .dataframe tbody tr th:only-of-type {\n",
       "        vertical-align: middle;\n",
       "    }\n",
       "\n",
       "    .dataframe tbody tr th {\n",
       "        vertical-align: top;\n",
       "    }\n",
       "\n",
       "    .dataframe thead th {\n",
       "        text-align: right;\n",
       "    }\n",
       "</style>\n",
       "<table border=\"1\" class=\"dataframe\">\n",
       "  <thead>\n",
       "    <tr style=\"text-align: right;\">\n",
       "      <th></th>\n",
       "      <th>Quaterly</th>\n",
       "      <th>Revenue</th>\n",
       "      <th>Cost of Goods Sold</th>\n",
       "      <th>Gross Profit</th>\n",
       "      <th>Research and Development Expenses</th>\n",
       "      <th>SG&amp;A Expenses</th>\n",
       "      <th>Other Operating Income or Expenses</th>\n",
       "      <th>Operating Expenses</th>\n",
       "      <th>Operating Income</th>\n",
       "      <th>Total Non-Operating Income/Expense</th>\n",
       "      <th>...</th>\n",
       "      <th>Income Taxes</th>\n",
       "      <th>Income After Taxes</th>\n",
       "      <th>Income from Continuous Operations</th>\n",
       "      <th>Net Income</th>\n",
       "      <th>EBITDA</th>\n",
       "      <th>EBIT</th>\n",
       "      <th>Basic Shares Outstanding</th>\n",
       "      <th>Shares Outstanding</th>\n",
       "      <th>Basic EPS</th>\n",
       "      <th>EPS</th>\n",
       "    </tr>\n",
       "  </thead>\n",
       "  <tbody>\n",
       "    <tr>\n",
       "      <th>0</th>\n",
       "      <td>2021-09-30</td>\n",
       "      <td>110812</td>\n",
       "      <td>62930</td>\n",
       "      <td>47882</td>\n",
       "      <td>14380</td>\n",
       "      <td>28661</td>\n",
       "      <td>11.0</td>\n",
       "      <td>105960</td>\n",
       "      <td>4852</td>\n",
       "      <td>-537.0</td>\n",
       "      <td>...</td>\n",
       "      <td>1155</td>\n",
       "      <td>3160</td>\n",
       "      <td>3156</td>\n",
       "      <td>3156</td>\n",
       "      <td>13800</td>\n",
       "      <td>4852</td>\n",
       "      <td>507</td>\n",
       "      <td>515</td>\n",
       "      <td>6.23</td>\n",
       "      <td>6.12</td>\n",
       "    </tr>\n",
       "    <tr>\n",
       "      <th>1</th>\n",
       "      <td>2021-06-30</td>\n",
       "      <td>113080</td>\n",
       "      <td>64176</td>\n",
       "      <td>48904</td>\n",
       "      <td>13871</td>\n",
       "      <td>27320</td>\n",
       "      <td>-11.0</td>\n",
       "      <td>105378</td>\n",
       "      <td>7702</td>\n",
       "      <td>932.0</td>\n",
       "      <td>...</td>\n",
       "      <td>868</td>\n",
       "      <td>7766</td>\n",
       "      <td>7778</td>\n",
       "      <td>7778</td>\n",
       "      <td>15740</td>\n",
       "      <td>7702</td>\n",
       "      <td>505</td>\n",
       "      <td>514</td>\n",
       "      <td>15.40</td>\n",
       "      <td>15.12</td>\n",
       "    </tr>\n",
       "    <tr>\n",
       "      <th>2</th>\n",
       "      <td>2021-03-31</td>\n",
       "      <td>108518</td>\n",
       "      <td>62403</td>\n",
       "      <td>46115</td>\n",
       "      <td>12488</td>\n",
       "      <td>24724</td>\n",
       "      <td>-38.0</td>\n",
       "      <td>99653</td>\n",
       "      <td>8865</td>\n",
       "      <td>1403.0</td>\n",
       "      <td>...</td>\n",
       "      <td>2156</td>\n",
       "      <td>8112</td>\n",
       "      <td>8107</td>\n",
       "      <td>8107</td>\n",
       "      <td>16373</td>\n",
       "      <td>8865</td>\n",
       "      <td>504</td>\n",
       "      <td>513</td>\n",
       "      <td>16.09</td>\n",
       "      <td>15.79</td>\n",
       "    </tr>\n",
       "    <tr>\n",
       "      <th>3</th>\n",
       "      <td>2020-12-31</td>\n",
       "      <td>125555</td>\n",
       "      <td>79284</td>\n",
       "      <td>46271</td>\n",
       "      <td>12051</td>\n",
       "      <td>27844</td>\n",
       "      <td>497.0</td>\n",
       "      <td>118682</td>\n",
       "      <td>6873</td>\n",
       "      <td>892.0</td>\n",
       "      <td>...</td>\n",
       "      <td>566</td>\n",
       "      <td>7199</td>\n",
       "      <td>7222</td>\n",
       "      <td>7222</td>\n",
       "      <td>14491</td>\n",
       "      <td>6873</td>\n",
       "      <td>500</td>\n",
       "      <td>510</td>\n",
       "      <td>14.42</td>\n",
       "      <td>14.15</td>\n",
       "    </tr>\n",
       "    <tr>\n",
       "      <th>4</th>\n",
       "      <td>2020-09-30</td>\n",
       "      <td>96145</td>\n",
       "      <td>57106</td>\n",
       "      <td>39039</td>\n",
       "      <td>10976</td>\n",
       "      <td>21807</td>\n",
       "      <td>-62.0</td>\n",
       "      <td>89951</td>\n",
       "      <td>6194</td>\n",
       "      <td>615.0</td>\n",
       "      <td>...</td>\n",
       "      <td>569</td>\n",
       "      <td>6240</td>\n",
       "      <td>6331</td>\n",
       "      <td>6331</td>\n",
       "      <td>12717</td>\n",
       "      <td>6194</td>\n",
       "      <td>501</td>\n",
       "      <td>512</td>\n",
       "      <td>12.63</td>\n",
       "      <td>12.37</td>\n",
       "    </tr>\n",
       "  </tbody>\n",
       "</table>\n",
       "<p>5 rows × 21 columns</p>\n",
       "</div>"
      ],
      "text/plain": [
       "     Quaterly  Revenue  Cost of Goods Sold  Gross Profit  \\\n",
       "0  2021-09-30   110812               62930         47882   \n",
       "1  2021-06-30   113080               64176         48904   \n",
       "2  2021-03-31   108518               62403         46115   \n",
       "3  2020-12-31   125555               79284         46271   \n",
       "4  2020-09-30    96145               57106         39039   \n",
       "\n",
       "   Research and Development Expenses   SG&A Expenses  \\\n",
       "0                              14380           28661   \n",
       "1                              13871           27320   \n",
       "2                              12488           24724   \n",
       "3                              12051           27844   \n",
       "4                              10976           21807   \n",
       "\n",
       "   Other Operating Income or Expenses  Operating Expenses  Operating Income  \\\n",
       "0                                11.0              105960              4852   \n",
       "1                               -11.0              105378              7702   \n",
       "2                               -38.0               99653              8865   \n",
       "3                               497.0              118682              6873   \n",
       "4                               -62.0               89951              6194   \n",
       "\n",
       "   Total Non-Operating Income/Expense  ...  Income Taxes  Income After Taxes  \\\n",
       "0                              -537.0  ...          1155                3160   \n",
       "1                               932.0  ...           868                7766   \n",
       "2                              1403.0  ...          2156                8112   \n",
       "3                               892.0  ...           566                7199   \n",
       "4                               615.0  ...           569                6240   \n",
       "\n",
       "   Income from Continuous Operations  Net Income  EBITDA  EBIT  \\\n",
       "0                               3156        3156   13800  4852   \n",
       "1                               7778        7778   15740  7702   \n",
       "2                               8107        8107   16373  8865   \n",
       "3                               7222        7222   14491  6873   \n",
       "4                               6331        6331   12717  6194   \n",
       "\n",
       "   Basic Shares Outstanding  Shares Outstanding  Basic EPS    EPS  \n",
       "0                       507                 515       6.23   6.12  \n",
       "1                       505                 514      15.40  15.12  \n",
       "2                       504                 513      16.09  15.79  \n",
       "3                       500                 510      14.42  14.15  \n",
       "4                       501                 512      12.63  12.37  \n",
       "\n",
       "[5 rows x 21 columns]"
      ]
     },
     "execution_count": 3,
     "metadata": {},
     "output_type": "execute_result"
    }
   ],
   "source": [
    "df = pd.read_excel('macrotrends_amazon.xlsx')\n",
    "df.head()"
   ]
  },
  {
   "cell_type": "code",
   "execution_count": 4,
   "metadata": {},
   "outputs": [
    {
     "data": {
      "text/html": [
       "<div>\n",
       "<style scoped>\n",
       "    .dataframe tbody tr th:only-of-type {\n",
       "        vertical-align: middle;\n",
       "    }\n",
       "\n",
       "    .dataframe tbody tr th {\n",
       "        vertical-align: top;\n",
       "    }\n",
       "\n",
       "    .dataframe thead th {\n",
       "        text-align: right;\n",
       "    }\n",
       "</style>\n",
       "<table border=\"1\" class=\"dataframe\">\n",
       "  <thead>\n",
       "    <tr style=\"text-align: right;\">\n",
       "      <th></th>\n",
       "      <th>Quaterly</th>\n",
       "      <th>Revenue</th>\n",
       "      <th>Cost of Goods Sold</th>\n",
       "      <th>Gross Profit</th>\n",
       "      <th>Research and Development Expenses</th>\n",
       "      <th>SG&amp;A Expenses</th>\n",
       "      <th>Other Operating Income or Expenses</th>\n",
       "      <th>Operating Expenses</th>\n",
       "      <th>Operating Income</th>\n",
       "      <th>Total Non-Operating Income/Expense</th>\n",
       "      <th>...</th>\n",
       "      <th>Income Taxes</th>\n",
       "      <th>Income After Taxes</th>\n",
       "      <th>Income from Continuous Operations</th>\n",
       "      <th>Net Income</th>\n",
       "      <th>EBITDA</th>\n",
       "      <th>EBIT</th>\n",
       "      <th>Basic Shares Outstanding</th>\n",
       "      <th>Shares Outstanding</th>\n",
       "      <th>Basic EPS</th>\n",
       "      <th>EPS</th>\n",
       "    </tr>\n",
       "  </thead>\n",
       "  <tbody>\n",
       "    <tr>\n",
       "      <th>2021-09-30</th>\n",
       "      <td>2021-09-30</td>\n",
       "      <td>110812</td>\n",
       "      <td>62930</td>\n",
       "      <td>47882</td>\n",
       "      <td>14380</td>\n",
       "      <td>28661</td>\n",
       "      <td>11.0</td>\n",
       "      <td>105960</td>\n",
       "      <td>4852</td>\n",
       "      <td>-537.0</td>\n",
       "      <td>...</td>\n",
       "      <td>1155</td>\n",
       "      <td>3160</td>\n",
       "      <td>3156</td>\n",
       "      <td>3156</td>\n",
       "      <td>13800</td>\n",
       "      <td>4852</td>\n",
       "      <td>507</td>\n",
       "      <td>515</td>\n",
       "      <td>6.23</td>\n",
       "      <td>6.12</td>\n",
       "    </tr>\n",
       "    <tr>\n",
       "      <th>2021-06-30</th>\n",
       "      <td>2021-06-30</td>\n",
       "      <td>113080</td>\n",
       "      <td>64176</td>\n",
       "      <td>48904</td>\n",
       "      <td>13871</td>\n",
       "      <td>27320</td>\n",
       "      <td>-11.0</td>\n",
       "      <td>105378</td>\n",
       "      <td>7702</td>\n",
       "      <td>932.0</td>\n",
       "      <td>...</td>\n",
       "      <td>868</td>\n",
       "      <td>7766</td>\n",
       "      <td>7778</td>\n",
       "      <td>7778</td>\n",
       "      <td>15740</td>\n",
       "      <td>7702</td>\n",
       "      <td>505</td>\n",
       "      <td>514</td>\n",
       "      <td>15.40</td>\n",
       "      <td>15.12</td>\n",
       "    </tr>\n",
       "    <tr>\n",
       "      <th>2021-03-31</th>\n",
       "      <td>2021-03-31</td>\n",
       "      <td>108518</td>\n",
       "      <td>62403</td>\n",
       "      <td>46115</td>\n",
       "      <td>12488</td>\n",
       "      <td>24724</td>\n",
       "      <td>-38.0</td>\n",
       "      <td>99653</td>\n",
       "      <td>8865</td>\n",
       "      <td>1403.0</td>\n",
       "      <td>...</td>\n",
       "      <td>2156</td>\n",
       "      <td>8112</td>\n",
       "      <td>8107</td>\n",
       "      <td>8107</td>\n",
       "      <td>16373</td>\n",
       "      <td>8865</td>\n",
       "      <td>504</td>\n",
       "      <td>513</td>\n",
       "      <td>16.09</td>\n",
       "      <td>15.79</td>\n",
       "    </tr>\n",
       "    <tr>\n",
       "      <th>2020-12-31</th>\n",
       "      <td>2020-12-31</td>\n",
       "      <td>125555</td>\n",
       "      <td>79284</td>\n",
       "      <td>46271</td>\n",
       "      <td>12051</td>\n",
       "      <td>27844</td>\n",
       "      <td>497.0</td>\n",
       "      <td>118682</td>\n",
       "      <td>6873</td>\n",
       "      <td>892.0</td>\n",
       "      <td>...</td>\n",
       "      <td>566</td>\n",
       "      <td>7199</td>\n",
       "      <td>7222</td>\n",
       "      <td>7222</td>\n",
       "      <td>14491</td>\n",
       "      <td>6873</td>\n",
       "      <td>500</td>\n",
       "      <td>510</td>\n",
       "      <td>14.42</td>\n",
       "      <td>14.15</td>\n",
       "    </tr>\n",
       "    <tr>\n",
       "      <th>2020-09-30</th>\n",
       "      <td>2020-09-30</td>\n",
       "      <td>96145</td>\n",
       "      <td>57106</td>\n",
       "      <td>39039</td>\n",
       "      <td>10976</td>\n",
       "      <td>21807</td>\n",
       "      <td>-62.0</td>\n",
       "      <td>89951</td>\n",
       "      <td>6194</td>\n",
       "      <td>615.0</td>\n",
       "      <td>...</td>\n",
       "      <td>569</td>\n",
       "      <td>6240</td>\n",
       "      <td>6331</td>\n",
       "      <td>6331</td>\n",
       "      <td>12717</td>\n",
       "      <td>6194</td>\n",
       "      <td>501</td>\n",
       "      <td>512</td>\n",
       "      <td>12.63</td>\n",
       "      <td>12.37</td>\n",
       "    </tr>\n",
       "  </tbody>\n",
       "</table>\n",
       "<p>5 rows × 21 columns</p>\n",
       "</div>"
      ],
      "text/plain": [
       "              Quaterly  Revenue  Cost of Goods Sold  Gross Profit  \\\n",
       "2021-09-30  2021-09-30   110812               62930         47882   \n",
       "2021-06-30  2021-06-30   113080               64176         48904   \n",
       "2021-03-31  2021-03-31   108518               62403         46115   \n",
       "2020-12-31  2020-12-31   125555               79284         46271   \n",
       "2020-09-30  2020-09-30    96145               57106         39039   \n",
       "\n",
       "            Research and Development Expenses   SG&A Expenses  \\\n",
       "2021-09-30                              14380           28661   \n",
       "2021-06-30                              13871           27320   \n",
       "2021-03-31                              12488           24724   \n",
       "2020-12-31                              12051           27844   \n",
       "2020-09-30                              10976           21807   \n",
       "\n",
       "            Other Operating Income or Expenses  Operating Expenses  \\\n",
       "2021-09-30                                11.0              105960   \n",
       "2021-06-30                               -11.0              105378   \n",
       "2021-03-31                               -38.0               99653   \n",
       "2020-12-31                               497.0              118682   \n",
       "2020-09-30                               -62.0               89951   \n",
       "\n",
       "            Operating Income  Total Non-Operating Income/Expense  ...  \\\n",
       "2021-09-30              4852                              -537.0  ...   \n",
       "2021-06-30              7702                               932.0  ...   \n",
       "2021-03-31              8865                              1403.0  ...   \n",
       "2020-12-31              6873                               892.0  ...   \n",
       "2020-09-30              6194                               615.0  ...   \n",
       "\n",
       "            Income Taxes  Income After Taxes  \\\n",
       "2021-09-30          1155                3160   \n",
       "2021-06-30           868                7766   \n",
       "2021-03-31          2156                8112   \n",
       "2020-12-31           566                7199   \n",
       "2020-09-30           569                6240   \n",
       "\n",
       "            Income from Continuous Operations  Net Income  EBITDA  EBIT  \\\n",
       "2021-09-30                               3156        3156   13800  4852   \n",
       "2021-06-30                               7778        7778   15740  7702   \n",
       "2021-03-31                               8107        8107   16373  8865   \n",
       "2020-12-31                               7222        7222   14491  6873   \n",
       "2020-09-30                               6331        6331   12717  6194   \n",
       "\n",
       "            Basic Shares Outstanding  Shares Outstanding  Basic EPS    EPS  \n",
       "2021-09-30                       507                 515       6.23   6.12  \n",
       "2021-06-30                       505                 514      15.40  15.12  \n",
       "2021-03-31                       504                 513      16.09  15.79  \n",
       "2020-12-31                       500                 510      14.42  14.15  \n",
       "2020-09-30                       501                 512      12.63  12.37  \n",
       "\n",
       "[5 rows x 21 columns]"
      ]
     },
     "execution_count": 4,
     "metadata": {},
     "output_type": "execute_result"
    }
   ],
   "source": [
    "quater=pd.date_range('2005-03-31',periods=67,freq='Q')\n",
    "df =df.set_index(quater[::-1])\n",
    "df.head()"
   ]
  },
  {
   "cell_type": "code",
   "execution_count": 5,
   "metadata": {},
   "outputs": [
    {
     "data": {
      "text/html": [
       "<div>\n",
       "<style scoped>\n",
       "    .dataframe tbody tr th:only-of-type {\n",
       "        vertical-align: middle;\n",
       "    }\n",
       "\n",
       "    .dataframe tbody tr th {\n",
       "        vertical-align: top;\n",
       "    }\n",
       "\n",
       "    .dataframe thead th {\n",
       "        text-align: right;\n",
       "    }\n",
       "</style>\n",
       "<table border=\"1\" class=\"dataframe\">\n",
       "  <thead>\n",
       "    <tr style=\"text-align: right;\">\n",
       "      <th></th>\n",
       "      <th>Revenue</th>\n",
       "      <th>Cost of Goods Sold</th>\n",
       "      <th>Gross Profit</th>\n",
       "      <th>Research and Development Expenses</th>\n",
       "      <th>SG&amp;A Expenses</th>\n",
       "      <th>Other Operating Income or Expenses</th>\n",
       "      <th>Operating Expenses</th>\n",
       "      <th>Operating Income</th>\n",
       "      <th>Total Non-Operating Income/Expense</th>\n",
       "      <th>Pre-Tax Income</th>\n",
       "      <th>Income Taxes</th>\n",
       "      <th>Income After Taxes</th>\n",
       "      <th>Income from Continuous Operations</th>\n",
       "      <th>Net Income</th>\n",
       "      <th>EBITDA</th>\n",
       "      <th>EBIT</th>\n",
       "      <th>Basic Shares Outstanding</th>\n",
       "      <th>Shares Outstanding</th>\n",
       "      <th>Basic EPS</th>\n",
       "      <th>EPS</th>\n",
       "    </tr>\n",
       "  </thead>\n",
       "  <tbody>\n",
       "    <tr>\n",
       "      <th>2021-09-30</th>\n",
       "      <td>110812</td>\n",
       "      <td>62930</td>\n",
       "      <td>47882</td>\n",
       "      <td>14380</td>\n",
       "      <td>28661</td>\n",
       "      <td>11.0</td>\n",
       "      <td>105960</td>\n",
       "      <td>4852</td>\n",
       "      <td>-537.0</td>\n",
       "      <td>4315</td>\n",
       "      <td>1155</td>\n",
       "      <td>3160</td>\n",
       "      <td>3156</td>\n",
       "      <td>3156</td>\n",
       "      <td>13800</td>\n",
       "      <td>4852</td>\n",
       "      <td>507</td>\n",
       "      <td>515</td>\n",
       "      <td>6.23</td>\n",
       "      <td>6.12</td>\n",
       "    </tr>\n",
       "    <tr>\n",
       "      <th>2021-06-30</th>\n",
       "      <td>113080</td>\n",
       "      <td>64176</td>\n",
       "      <td>48904</td>\n",
       "      <td>13871</td>\n",
       "      <td>27320</td>\n",
       "      <td>-11.0</td>\n",
       "      <td>105378</td>\n",
       "      <td>7702</td>\n",
       "      <td>932.0</td>\n",
       "      <td>8634</td>\n",
       "      <td>868</td>\n",
       "      <td>7766</td>\n",
       "      <td>7778</td>\n",
       "      <td>7778</td>\n",
       "      <td>15740</td>\n",
       "      <td>7702</td>\n",
       "      <td>505</td>\n",
       "      <td>514</td>\n",
       "      <td>15.40</td>\n",
       "      <td>15.12</td>\n",
       "    </tr>\n",
       "    <tr>\n",
       "      <th>2021-03-31</th>\n",
       "      <td>108518</td>\n",
       "      <td>62403</td>\n",
       "      <td>46115</td>\n",
       "      <td>12488</td>\n",
       "      <td>24724</td>\n",
       "      <td>-38.0</td>\n",
       "      <td>99653</td>\n",
       "      <td>8865</td>\n",
       "      <td>1403.0</td>\n",
       "      <td>10268</td>\n",
       "      <td>2156</td>\n",
       "      <td>8112</td>\n",
       "      <td>8107</td>\n",
       "      <td>8107</td>\n",
       "      <td>16373</td>\n",
       "      <td>8865</td>\n",
       "      <td>504</td>\n",
       "      <td>513</td>\n",
       "      <td>16.09</td>\n",
       "      <td>15.79</td>\n",
       "    </tr>\n",
       "    <tr>\n",
       "      <th>2020-12-31</th>\n",
       "      <td>125555</td>\n",
       "      <td>79284</td>\n",
       "      <td>46271</td>\n",
       "      <td>12051</td>\n",
       "      <td>27844</td>\n",
       "      <td>497.0</td>\n",
       "      <td>118682</td>\n",
       "      <td>6873</td>\n",
       "      <td>892.0</td>\n",
       "      <td>7765</td>\n",
       "      <td>566</td>\n",
       "      <td>7199</td>\n",
       "      <td>7222</td>\n",
       "      <td>7222</td>\n",
       "      <td>14491</td>\n",
       "      <td>6873</td>\n",
       "      <td>500</td>\n",
       "      <td>510</td>\n",
       "      <td>14.42</td>\n",
       "      <td>14.15</td>\n",
       "    </tr>\n",
       "    <tr>\n",
       "      <th>2020-09-30</th>\n",
       "      <td>96145</td>\n",
       "      <td>57106</td>\n",
       "      <td>39039</td>\n",
       "      <td>10976</td>\n",
       "      <td>21807</td>\n",
       "      <td>-62.0</td>\n",
       "      <td>89951</td>\n",
       "      <td>6194</td>\n",
       "      <td>615.0</td>\n",
       "      <td>6809</td>\n",
       "      <td>569</td>\n",
       "      <td>6240</td>\n",
       "      <td>6331</td>\n",
       "      <td>6331</td>\n",
       "      <td>12717</td>\n",
       "      <td>6194</td>\n",
       "      <td>501</td>\n",
       "      <td>512</td>\n",
       "      <td>12.63</td>\n",
       "      <td>12.37</td>\n",
       "    </tr>\n",
       "  </tbody>\n",
       "</table>\n",
       "</div>"
      ],
      "text/plain": [
       "            Revenue  Cost of Goods Sold  Gross Profit  \\\n",
       "2021-09-30   110812               62930         47882   \n",
       "2021-06-30   113080               64176         48904   \n",
       "2021-03-31   108518               62403         46115   \n",
       "2020-12-31   125555               79284         46271   \n",
       "2020-09-30    96145               57106         39039   \n",
       "\n",
       "            Research and Development Expenses   SG&A Expenses  \\\n",
       "2021-09-30                              14380           28661   \n",
       "2021-06-30                              13871           27320   \n",
       "2021-03-31                              12488           24724   \n",
       "2020-12-31                              12051           27844   \n",
       "2020-09-30                              10976           21807   \n",
       "\n",
       "            Other Operating Income or Expenses  Operating Expenses  \\\n",
       "2021-09-30                                11.0              105960   \n",
       "2021-06-30                               -11.0              105378   \n",
       "2021-03-31                               -38.0               99653   \n",
       "2020-12-31                               497.0              118682   \n",
       "2020-09-30                               -62.0               89951   \n",
       "\n",
       "            Operating Income  Total Non-Operating Income/Expense  \\\n",
       "2021-09-30              4852                              -537.0   \n",
       "2021-06-30              7702                               932.0   \n",
       "2021-03-31              8865                              1403.0   \n",
       "2020-12-31              6873                               892.0   \n",
       "2020-09-30              6194                               615.0   \n",
       "\n",
       "             Pre-Tax Income  Income Taxes  Income After Taxes  \\\n",
       "2021-09-30             4315          1155                3160   \n",
       "2021-06-30             8634           868                7766   \n",
       "2021-03-31            10268          2156                8112   \n",
       "2020-12-31             7765           566                7199   \n",
       "2020-09-30             6809           569                6240   \n",
       "\n",
       "            Income from Continuous Operations  Net Income  EBITDA  EBIT  \\\n",
       "2021-09-30                               3156        3156   13800  4852   \n",
       "2021-06-30                               7778        7778   15740  7702   \n",
       "2021-03-31                               8107        8107   16373  8865   \n",
       "2020-12-31                               7222        7222   14491  6873   \n",
       "2020-09-30                               6331        6331   12717  6194   \n",
       "\n",
       "            Basic Shares Outstanding  Shares Outstanding  Basic EPS    EPS  \n",
       "2021-09-30                       507                 515       6.23   6.12  \n",
       "2021-06-30                       505                 514      15.40  15.12  \n",
       "2021-03-31                       504                 513      16.09  15.79  \n",
       "2020-12-31                       500                 510      14.42  14.15  \n",
       "2020-09-30                       501                 512      12.63  12.37  "
      ]
     },
     "execution_count": 5,
     "metadata": {},
     "output_type": "execute_result"
    }
   ],
   "source": [
    "df=df.drop('Quaterly',axis=1)\n",
    "df.head()"
   ]
  },
  {
   "cell_type": "code",
   "execution_count": 6,
   "metadata": {},
   "outputs": [],
   "source": [
    "df['SG&A Expenses']=df['\\xa0SG&A Expenses']"
   ]
  },
  {
   "cell_type": "code",
   "execution_count": 7,
   "metadata": {},
   "outputs": [
    {
     "data": {
      "text/plain": [
       "<matplotlib.axes._subplots.AxesSubplot at 0x27c25a75048>"
      ]
     },
     "execution_count": 7,
     "metadata": {},
     "output_type": "execute_result"
    },
    {
     "data": {
      "image/png": "[encoded data removed]",
      "text/plain": [
       "<Figure size 864x576 with 1 Axes>"
      ]
     },
     "metadata": {
      "needs_background": "light"
     },
     "output_type": "display_data"
    }
   ],
   "source": [
    "df['SG&A Expenses'].plot(figsize=(12,8))"
   ]
  },
  {
   "cell_type": "code",
   "execution_count": 8,
   "metadata": {},
   "outputs": [
    {
     "data": {
      "text/plain": [
       "<matplotlib.axes._subplots.AxesSubplot at 0x27c27b345c8>"
      ]
     },
     "execution_count": 8,
     "metadata": {},
     "output_type": "execute_result"
    },
    {
     "data": {
      "image/png": "[encoded data removed]",
      "text/plain": [
       "<Figure size 432x288 with 1 Axes>"
      ]
     },
     "metadata": {
      "needs_background": "light"
     },
     "output_type": "display_data"
    }
   ],
   "source": [
    "df['SG&A Expenses'].plot(xlim=['2005-01-01','2020-03-31'])"
   ]
  },
  {
   "cell_type": "markdown",
   "metadata": {},
   "source": [
    "### Dropping data after 2020-03-31"
   ]
  },
  {
   "cell_type": "code",
   "execution_count": 9,
   "metadata": {},
   "outputs": [],
   "source": [
    "new_df=df.iloc[6:]"
   ]
  },
  {
   "cell_type": "code",
   "execution_count": 10,
   "metadata": {},
   "outputs": [],
   "source": [
    "df_rev=pd.DataFrame()\n",
    "df_rev['SG&A Expenses']=new_df['SG&A Expenses'][::-1]\n",
    "df_rev=df_rev.set_index(new_df.index[::-1])"
   ]
  },
  {
   "cell_type": "code",
   "execution_count": 11,
   "metadata": {},
   "outputs": [
    {
     "data": {
      "image/png": "[encoded data removed]",
      "text/plain": [
       "<Figure size 432x288 with 4 Axes>"
      ]
     },
     "metadata": {
      "needs_background": "light"
     },
     "output_type": "display_data"
    }
   ],
   "source": [
    "from statsmodels.tsa.seasonal import seasonal_decompose\n",
    "\n",
    "result = seasonal_decompose(df_rev['SG&A Expenses'], model='mul')  # model='mul' also works\n",
    "result.plot();"
   ]
  },
  {
   "cell_type": "code",
   "execution_count": 12,
   "metadata": {},
   "outputs": [],
   "source": [
    "plt.rcParams[\"ytick.color\"]='white'\n",
    "plt.rcParams[\"xtick.color\"]='white'"
   ]
  },
  {
   "cell_type": "code",
   "execution_count": 13,
   "metadata": {},
   "outputs": [
    {
     "data": {
      "text/plain": [
       "<matplotlib.axes._subplots.AxesSubplot at 0x27c28017188>"
      ]
     },
     "execution_count": 13,
     "metadata": {},
     "output_type": "execute_result"
    },
    {
     "data": {
      "image/png": "[encoded data removed]",
      "text/plain": [
       "<Figure size 432x288 with 1 Axes>"
      ]
     },
     "metadata": {
      "needs_background": "dark"
     },
     "output_type": "display_data"
    }
   ],
   "source": [
    "result.seasonal.iloc[0:10].plot()"
   ]
  },
  {
   "cell_type": "markdown",
   "metadata": {},
   "source": [
    "### Holt Winter"
   ]
  },
  {
   "cell_type": "code",
   "execution_count": 14,
   "metadata": {},
   "outputs": [
    {
     "name": "stderr",
     "output_type": "stream",
     "text": [
      "C:\\Users\\aryan\\anaconda3\\lib\\site-packages\\statsmodels\\tsa\\holtwinters.py:744: ConvergenceWarning: Optimization failed to converge. Check mle_retvals.\n",
      "  ConvergenceWarning)\n"
     ]
    },
    {
     "data": {
      "text/html": [
       "<div>\n",
       "<style scoped>\n",
       "    .dataframe tbody tr th:only-of-type {\n",
       "        vertical-align: middle;\n",
       "    }\n",
       "\n",
       "    .dataframe tbody tr th {\n",
       "        vertical-align: top;\n",
       "    }\n",
       "\n",
       "    .dataframe thead th {\n",
       "        text-align: right;\n",
       "    }\n",
       "</style>\n",
       "<table border=\"1\" class=\"dataframe\">\n",
       "  <thead>\n",
       "    <tr style=\"text-align: right;\">\n",
       "      <th></th>\n",
       "      <th>SG&amp;A Expenses</th>\n",
       "      <th>DESadd4</th>\n",
       "    </tr>\n",
       "  </thead>\n",
       "  <tbody>\n",
       "    <tr>\n",
       "      <th>2005-03-31</th>\n",
       "      <td>257</td>\n",
       "      <td>257.016676</td>\n",
       "    </tr>\n",
       "    <tr>\n",
       "      <th>2005-06-30</th>\n",
       "      <td>238</td>\n",
       "      <td>250.704651</td>\n",
       "    </tr>\n",
       "    <tr>\n",
       "      <th>2005-09-30</th>\n",
       "      <td>247</td>\n",
       "      <td>248.165551</td>\n",
       "    </tr>\n",
       "    <tr>\n",
       "      <th>2005-12-31</th>\n",
       "      <td>367</td>\n",
       "      <td>286.103115</td>\n",
       "    </tr>\n",
       "    <tr>\n",
       "      <th>2006-03-31</th>\n",
       "      <td>292</td>\n",
       "      <td>294.728639</td>\n",
       "    </tr>\n",
       "  </tbody>\n",
       "</table>\n",
       "</div>"
      ],
      "text/plain": [
       "            SG&A Expenses     DESadd4\n",
       "2005-03-31            257  257.016676\n",
       "2005-06-30            238  250.704651\n",
       "2005-09-30            247  248.165551\n",
       "2005-12-31            367  286.103115\n",
       "2006-03-31            292  294.728639"
      ]
     },
     "execution_count": 14,
     "metadata": {},
     "output_type": "execute_result"
    }
   ],
   "source": [
    "from statsmodels.tsa.holtwinters import ExponentialSmoothing\n",
    "\n",
    "df_rev['DESadd4'] = ExponentialSmoothing(df_rev['SG&A Expenses'], trend='add').fit().fittedvalues.shift(-1)\n",
    "df_rev.head()"
   ]
  },
  {
   "cell_type": "code",
   "execution_count": 15,
   "metadata": {},
   "outputs": [
    {
     "data": {
      "image/png": "[encoded data removed]",
      "text/plain": [
       "<Figure size 864x432 with 1 Axes>"
      ]
     },
     "metadata": {
      "needs_background": "dark"
     },
     "output_type": "display_data"
    }
   ],
   "source": [
    "df_rev[['SG&A Expenses','DESadd4']].iloc[40:].plot(figsize=(12,6)).plot();"
   ]
  },
  {
   "cell_type": "code",
   "execution_count": 16,
   "metadata": {},
   "outputs": [
    {
     "data": {
      "text/plain": [
       "[]"
      ]
     },
     "execution_count": 16,
     "metadata": {},
     "output_type": "execute_result"
    },
    {
     "data": {
      "image/png": "[encoded data removed]",
      "text/plain": [
       "<Figure size 864x432 with 1 Axes>"
      ]
     },
     "metadata": {
      "needs_background": "dark"
     },
     "output_type": "display_data"
    }
   ],
   "source": [
    "df_rev['TESadd12'] = ExponentialSmoothing(df_rev['SG&A Expenses'],trend='add',seasonal='mul',seasonal_periods=4).fit().fittedvalues\n",
    "df_rev[['SG&A Expenses','TESadd12']].iloc[40:].plot(figsize=(12,6)).plot()"
   ]
  },
  {
   "cell_type": "markdown",
   "metadata": {},
   "source": [
    "### Spliting Data\n"
   ]
  },
  {
   "cell_type": "code",
   "execution_count": 18,
   "metadata": {},
   "outputs": [],
   "source": [
    "train_data = df_rev.iloc[:56]\n",
    "test_data = df_rev.iloc[56:]"
   ]
  },
  {
   "cell_type": "code",
   "execution_count": 26,
   "metadata": {},
   "outputs": [
    {
     "name": "stderr",
     "output_type": "stream",
     "text": [
      "C:\\Users\\aryan\\anaconda3\\lib\\site-packages\\statsmodels\\tsa\\holtwinters.py:744: ConvergenceWarning: Optimization failed to converge. Check mle_retvals.\n",
      "  ConvergenceWarning)\n",
      "C:\\Users\\aryan\\anaconda3\\lib\\site-packages\\statsmodels\\tsa\\base\\tsa_model.py:342: FutureWarning: The 'freq' argument in Timestamp is deprecated and will be removed in a future version.\n",
      "  date_key = Timestamp(key, freq=base_index.freq)\n"
     ]
    },
    {
     "data": {
      "image/png": "[encoded data removed]",
      "text/plain": [
       "<Figure size 432x288 with 1 Axes>"
      ]
     },
     "metadata": {
      "needs_background": "dark"
     },
     "output_type": "display_data"
    }
   ],
   "source": [
    "fitted_model1 = ExponentialSmoothing(train_data['SG&A Expenses'],trend='add',seasonal='add',seasonal_periods=4).fit()\n",
    "test_predictions = fitted_model1.forecast(5).rename('HW Forecast')\n",
    "test_data['SG&A Expenses'].plot(legend=True,label='TEST')\n",
    "test_predictions.plot(legend=True,label='PREDICTION');"
   ]
  },
  {
   "cell_type": "code",
   "execution_count": 25,
   "metadata": {},
   "outputs": [
    {
     "data": {
      "text/plain": [
       "5.1527135230780825"
      ]
     },
     "execution_count": 25,
     "metadata": {},
     "output_type": "execute_result"
    }
   ],
   "source": [
    "mean_absolute_percentage_error(test_data['SG&A Expenses'], test_predictions)"
   ]
  },
  {
   "cell_type": "markdown",
   "metadata": {},
   "source": [
    "#### Holt Winter MAPE 5.15"
   ]
  },
  {
   "cell_type": "code",
   "execution_count": 28,
   "metadata": {},
   "outputs": [
    {
     "data": {
      "image/png": "[encoded data removed]",
      "text/plain": [
       "<Figure size 864x576 with 1 Axes>"
      ]
     },
     "metadata": {
      "needs_background": "dark"
     },
     "output_type": "display_data"
    }
   ],
   "source": [
    "df_rev['SG&A Expenses'].plot(legend=True,label='TEST',figsize=(12,8))\n",
    "test_predictions.plot(legend=True,label='PREDICTION');"
   ]
  },
  {
   "cell_type": "markdown",
   "metadata": {},
   "source": [
    "### AR Model"
   ]
  },
  {
   "cell_type": "code",
   "execution_count": 30,
   "metadata": {},
   "outputs": [],
   "source": [
    "import warnings\n",
    "warnings.filterwarnings(\"ignore\")"
   ]
  },
  {
   "cell_type": "code",
   "execution_count": 31,
   "metadata": {},
   "outputs": [],
   "source": [
    "from statsmodels.tsa.ar_model import AR,ARResults\n",
    "start = len(train_data)\n",
    "end = len(train_data)+len(test_data)-1\n",
    "mape=[]\n",
    "rename = f'AR(1) Predictions'\n",
    "for i in range(1,13):\n",
    "    model = AR(train_data['SG&A Expenses'])\n",
    "    ARfit = model.fit(maxlag=i,method='cmle')\n",
    "    #print(f'\\nLag: {ARfit.k_ar}')\n",
    "    #print(f'Coefficients:\\n{ARfit.params}')\n",
    "    predictions23 = ARfit.predict(start=start,end=end,dynamic=False).rename(rename)\n",
    "    #print(mean_absolute_percentage_error(test_data[col],predictions23))\n",
    "    mape.append([mean_absolute_percentage_error(test_data['SG&A Expenses'],predictions23),i])"
   ]
  },
  {
   "cell_type": "code",
   "execution_count": 32,
   "metadata": {},
   "outputs": [
    {
     "data": {
      "text/plain": [
       "[6.4435874918451415, 7]"
      ]
     },
     "execution_count": 32,
     "metadata": {},
     "output_type": "execute_result"
    }
   ],
   "source": [
    "min(mape)"
   ]
  },
  {
   "cell_type": "code",
   "execution_count": 34,
   "metadata": {},
   "outputs": [
    {
     "name": "stdout",
     "output_type": "stream",
     "text": [
      "Lag: 7\n",
      "Coefficients:\n",
      "const               5.436753\n",
      "L1.SG&A Expenses    1.640427\n",
      "L2.SG&A Expenses   -1.047088\n",
      "L3.SG&A Expenses   -0.023992\n",
      "L4.SG&A Expenses    1.288532\n",
      "L5.SG&A Expenses   -2.082924\n",
      "L6.SG&A Expenses    1.345855\n",
      "L7.SG&A Expenses    0.023001\n",
      "dtype: float64\n"
     ]
    },
    {
     "data": {
      "text/plain": [
       "6.4435874918451415"
      ]
     },
     "execution_count": 34,
     "metadata": {},
     "output_type": "execute_result"
    }
   ],
   "source": [
    "model = AR(train_data['SG&A Expenses'])\n",
    "ARfit = model.fit(maxlag=7,method='cmle')\n",
    "print(f'Lag: {ARfit.k_ar}')\n",
    "print(f'Coefficients:\\n{ARfit.params}')\n",
    "predictions23 = ARfit.predict(start=start,end=end,dynamic=False).rename(rename)\n",
    "mean_absolute_percentage_error(test_data['SG&A Expenses'],predictions23)"
   ]
  },
  {
   "cell_type": "code",
   "execution_count": 35,
   "metadata": {},
   "outputs": [
    {
     "data": {
      "image/png": "[encoded data removed]",
      "text/plain": [
       "<Figure size 432x288 with 1 Axes>"
      ]
     },
     "metadata": {
      "needs_background": "dark"
     },
     "output_type": "display_data"
    }
   ],
   "source": [
    "test_data['SG&A Expenses'].plot(legend=True,label='TEST')\n",
    "predictions23.plot(legend=True,label='PREDICTION');"
   ]
  },
  {
   "cell_type": "code",
   "execution_count": 36,
   "metadata": {},
   "outputs": [
    {
     "data": {
      "image/png": "[encoded data removed]",
      "text/plain": [
       "<Figure size 432x288 with 1 Axes>"
      ]
     },
     "metadata": {
      "needs_background": "dark"
     },
     "output_type": "display_data"
    }
   ],
   "source": [
    "df_rev['SG&A Expenses'].plot(legend=True,label='TEST')\n",
    "predictions23.plot(legend=True,label='PREDICTION');"
   ]
  },
  {
   "cell_type": "markdown",
   "metadata": {},
   "source": [
    "AR(7) Model MAPE 6.44"
   ]
  },
  {
   "cell_type": "markdown",
   "metadata": {},
   "source": [
    "### Stationarity"
   ]
  },
  {
   "cell_type": "code",
   "execution_count": 57,
   "metadata": {},
   "outputs": [],
   "source": [
    "from statsmodels.tsa.stattools import adfuller\n",
    "\n",
    "def adf_test(series,title=''):\n",
    "    \"\"\"\n",
    "    Pass in a time series and an optional title, returns an ADF report\n",
    "    \"\"\"\n",
    "    print(f'Augmented Dickey-Fuller Test: {title}')\n",
    "    result = adfuller(series.dropna(),autolag='AIC') # .dropna() handles differenced data\n",
    "    \n",
    "    labels = ['ADF test statistic','p-value','# lags used','# observations']\n",
    "    out = pd.Series(result[0:4],index=labels)\n",
    "\n",
    "    for key,val in result[4].items():\n",
    "        out[f'critical value ({key})']=val\n",
    "        \n",
    "    print(out.to_string())          # .to_string() removes the line \"dtype: float64\"\n",
    "    \n",
    "    if result[1] <= 0.05:\n",
    "        print(\"Strong evidence against the null hypothesis\")\n",
    "        print(\"Reject the null hypothesis\")\n",
    "        print(\"Data has no unit root and is stationary\")\n",
    "    else:\n",
    "        print(\"Weak evidence against the null hypothesis\")\n",
    "        print(\"Fail to reject the null hypothesis\")\n",
    "        print(\"Data has a unit root and is non-stationary\")"
   ]
  },
  {
   "cell_type": "code",
   "execution_count": 58,
   "metadata": {},
   "outputs": [
    {
     "name": "stdout",
     "output_type": "stream",
     "text": [
      "Augmented Dickey-Fuller Test: \n",
      "ADF test statistic       4.407212\n",
      "p-value                  1.000000\n",
      "# lags used             11.000000\n",
      "# observations          44.000000\n",
      "critical value (1%)     -3.588573\n",
      "critical value (5%)     -2.929886\n",
      "critical value (10%)    -2.603185\n",
      "Weak evidence against the null hypothesis\n",
      "Fail to reject the null hypothesis\n",
      "Data has a unit root and is non-stationary\n"
     ]
    }
   ],
   "source": [
    "adf_test(train_data['SG&A Expenses'],title='')"
   ]
  },
  {
   "cell_type": "code",
   "execution_count": 59,
   "metadata": {},
   "outputs": [],
   "source": [
    "diff = train_data['SG&A Expenses'].diff()"
   ]
  },
  {
   "cell_type": "code",
   "execution_count": 60,
   "metadata": {},
   "outputs": [
    {
     "name": "stdout",
     "output_type": "stream",
     "text": [
      "Augmented Dickey-Fuller Test: \n",
      "ADF test statistic       1.034975\n",
      "p-value                  0.994622\n",
      "# lags used             11.000000\n",
      "# observations          43.000000\n",
      "critical value (1%)     -3.592504\n",
      "critical value (5%)     -2.931550\n",
      "critical value (10%)    -2.604066\n",
      "Weak evidence against the null hypothesis\n",
      "Fail to reject the null hypothesis\n",
      "Data has a unit root and is non-stationary\n"
     ]
    }
   ],
   "source": [
    "adf_test(diff,title='')"
   ]
  },
  {
   "cell_type": "code",
   "execution_count": 61,
   "metadata": {},
   "outputs": [],
   "source": [
    "diff = diff.diff()"
   ]
  },
  {
   "cell_type": "code",
   "execution_count": 62,
   "metadata": {},
   "outputs": [
    {
     "name": "stdout",
     "output_type": "stream",
     "text": [
      "Augmented Dickey-Fuller Test: \n",
      "ADF test statistic      -1.588952\n",
      "p-value                  0.489141\n",
      "# lags used             10.000000\n",
      "# observations          43.000000\n",
      "critical value (1%)     -3.592504\n",
      "critical value (5%)     -2.931550\n",
      "critical value (10%)    -2.604066\n",
      "Weak evidence against the null hypothesis\n",
      "Fail to reject the null hypothesis\n",
      "Data has a unit root and is non-stationary\n"
     ]
    }
   ],
   "source": [
    "adf_test(diff,title='')"
   ]
  },
  {
   "cell_type": "markdown",
   "metadata": {},
   "source": [
    "2"
   ]
  },
  {
   "cell_type": "code",
   "execution_count": 63,
   "metadata": {},
   "outputs": [],
   "source": [
    "diff = diff.diff()"
   ]
  },
  {
   "cell_type": "code",
   "execution_count": 64,
   "metadata": {},
   "outputs": [
    {
     "name": "stdout",
     "output_type": "stream",
     "text": [
      "Augmented Dickey-Fuller Test: \n",
      "ADF test statistic      -2.369152\n",
      "p-value                  0.150633\n",
      "# lags used              9.000000\n",
      "# observations          43.000000\n",
      "critical value (1%)     -3.592504\n",
      "critical value (5%)     -2.931550\n",
      "critical value (10%)    -2.604066\n",
      "Weak evidence against the null hypothesis\n",
      "Fail to reject the null hypothesis\n",
      "Data has a unit root and is non-stationary\n"
     ]
    }
   ],
   "source": [
    "adf_test(diff,title='')"
   ]
  },
  {
   "cell_type": "markdown",
   "metadata": {},
   "source": [
    "3"
   ]
  },
  {
   "cell_type": "code",
   "execution_count": 65,
   "metadata": {},
   "outputs": [],
   "source": [
    "diff = diff.diff()"
   ]
  },
  {
   "cell_type": "code",
   "execution_count": 66,
   "metadata": {},
   "outputs": [
    {
     "name": "stdout",
     "output_type": "stream",
     "text": [
      "Augmented Dickey-Fuller Test: \n",
      "ADF test statistic     -7.816029e+00\n",
      "p-value                 6.866512e-12\n",
      "# lags used             8.000000e+00\n",
      "# observations          4.300000e+01\n",
      "critical value (1%)    -3.592504e+00\n",
      "critical value (5%)    -2.931550e+00\n",
      "critical value (10%)   -2.604066e+00\n",
      "Strong evidence against the null hypothesis\n",
      "Reject the null hypothesis\n",
      "Data has no unit root and is stationary\n"
     ]
    }
   ],
   "source": [
    "adf_test(diff,title='')"
   ]
  },
  {
   "cell_type": "markdown",
   "metadata": {},
   "source": [
    "4"
   ]
  },
  {
   "cell_type": "code",
   "execution_count": 67,
   "metadata": {},
   "outputs": [
    {
     "data": {
      "text/html": [
       "<table class=\"simpletable\">\n",
       "<caption>SARIMAX Results</caption>\n",
       "<tr>\n",
       "  <th>Dep. Variable:</th>           <td>y</td>        <th>  No. Observations:  </th>    <td>56</td>   \n",
       "</tr>\n",
       "<tr>\n",
       "  <th>Model:</th>           <td>SARIMAX(1, 2, 2)</td> <th>  Log Likelihood     </th> <td>-440.351</td>\n",
       "</tr>\n",
       "<tr>\n",
       "  <th>Date:</th>            <td>Tue, 15 Mar 2022</td> <th>  AIC                </th>  <td>888.701</td>\n",
       "</tr>\n",
       "<tr>\n",
       "  <th>Time:</th>                <td>22:43:58</td>     <th>  BIC                </th>  <td>896.657</td>\n",
       "</tr>\n",
       "<tr>\n",
       "  <th>Sample:</th>                  <td>0</td>        <th>  HQIC               </th>  <td>891.770</td>\n",
       "</tr>\n",
       "<tr>\n",
       "  <th></th>                       <td> - 56</td>      <th>                     </th>     <td> </td>   \n",
       "</tr>\n",
       "<tr>\n",
       "  <th>Covariance Type:</th>        <td>opg</td>       <th>                     </th>     <td> </td>   \n",
       "</tr>\n",
       "</table>\n",
       "<table class=\"simpletable\">\n",
       "<tr>\n",
       "     <td></td>       <th>coef</th>     <th>std err</th>      <th>z</th>      <th>P>|z|</th>  <th>[0.025</th>    <th>0.975]</th>  \n",
       "</tr>\n",
       "<tr>\n",
       "  <th>ar.L1</th>  <td>   -1.0000</td> <td>    0.023</td> <td>  -43.267</td> <td> 0.000</td> <td>   -1.045</td> <td>   -0.955</td>\n",
       "</tr>\n",
       "<tr>\n",
       "  <th>ma.L1</th>  <td>   -0.0112</td> <td>    0.091</td> <td>   -0.123</td> <td> 0.902</td> <td>   -0.189</td> <td>    0.167</td>\n",
       "</tr>\n",
       "<tr>\n",
       "  <th>ma.L2</th>  <td>   -0.8031</td> <td>    0.107</td> <td>   -7.506</td> <td> 0.000</td> <td>   -1.013</td> <td>   -0.593</td>\n",
       "</tr>\n",
       "<tr>\n",
       "  <th>sigma2</th> <td> 6.823e+05</td> <td> 1.11e+05</td> <td>    6.132</td> <td> 0.000</td> <td> 4.64e+05</td> <td>    9e+05</td>\n",
       "</tr>\n",
       "</table>\n",
       "<table class=\"simpletable\">\n",
       "<tr>\n",
       "  <th>Ljung-Box (Q):</th>          <td>182.12</td> <th>  Jarque-Bera (JB):  </th> <td>8.88</td>\n",
       "</tr>\n",
       "<tr>\n",
       "  <th>Prob(Q):</th>                 <td>0.00</td>  <th>  Prob(JB):          </th> <td>0.01</td>\n",
       "</tr>\n",
       "<tr>\n",
       "  <th>Heteroskedasticity (H):</th>  <td>92.73</td> <th>  Skew:              </th> <td>0.69</td>\n",
       "</tr>\n",
       "<tr>\n",
       "  <th>Prob(H) (two-sided):</th>     <td>0.00</td>  <th>  Kurtosis:          </th> <td>4.43</td>\n",
       "</tr>\n",
       "</table><br/><br/>Warnings:<br/>[1] Covariance matrix calculated using the outer product of gradients (complex-step)."
      ],
      "text/plain": [
       "<class 'statsmodels.iolib.summary.Summary'>\n",
       "\"\"\"\n",
       "                               SARIMAX Results                                \n",
       "==============================================================================\n",
       "Dep. Variable:                      y   No. Observations:                   56\n",
       "Model:               SARIMAX(1, 2, 2)   Log Likelihood                -440.351\n",
       "Date:                Tue, 15 Mar 2022   AIC                            888.701\n",
       "Time:                        22:43:58   BIC                            896.657\n",
       "Sample:                             0   HQIC                           891.770\n",
       "                                 - 56                                         \n",
       "Covariance Type:                  opg                                         \n",
       "==============================================================================\n",
       "                 coef    std err          z      P>|z|      [0.025      0.975]\n",
       "------------------------------------------------------------------------------\n",
       "ar.L1         -1.0000      0.023    -43.267      0.000      -1.045      -0.955\n",
       "ma.L1         -0.0112      0.091     -0.123      0.902      -0.189       0.167\n",
       "ma.L2         -0.8031      0.107     -7.506      0.000      -1.013      -0.593\n",
       "sigma2      6.823e+05   1.11e+05      6.132      0.000    4.64e+05       9e+05\n",
       "===================================================================================\n",
       "Ljung-Box (Q):                      182.12   Jarque-Bera (JB):                 8.88\n",
       "Prob(Q):                              0.00   Prob(JB):                         0.01\n",
       "Heteroskedasticity (H):              92.73   Skew:                             0.69\n",
       "Prob(H) (two-sided):                  0.00   Kurtosis:                         4.43\n",
       "===================================================================================\n",
       "\n",
       "Warnings:\n",
       "[1] Covariance matrix calculated using the outer product of gradients (complex-step).\n",
       "\"\"\""
      ]
     },
     "execution_count": 67,
     "metadata": {},
     "output_type": "execute_result"
    }
   ],
   "source": [
    "from pmdarima import auto_arima\n",
    "auto_arima(train_data['SG&A Expenses']).summary()"
   ]
  },
  {
   "cell_type": "code",
   "execution_count": 100,
   "metadata": {},
   "outputs": [
    {
     "data": {
      "text/html": [
       "<table class=\"simpletable\">\n",
       "<caption>ARIMA Model Results</caption>\n",
       "<tr>\n",
       "  <th>Dep. Variable:</th> <td>D2.SG&A Expenses</td> <th>  No. Observations:  </th>    <td>54</td>   \n",
       "</tr>\n",
       "<tr>\n",
       "  <th>Model:</th>          <td>ARIMA(1, 2, 1)</td>  <th>  Log Likelihood     </th> <td>-444.228</td>\n",
       "</tr>\n",
       "<tr>\n",
       "  <th>Method:</th>             <td>css-mle</td>     <th>  S.D. of innovations</th>  <td>866.530</td>\n",
       "</tr>\n",
       "<tr>\n",
       "  <th>Date:</th>          <td>Tue, 15 Mar 2022</td> <th>  AIC                </th>  <td>896.456</td>\n",
       "</tr>\n",
       "<tr>\n",
       "  <th>Time:</th>              <td>22:50:58</td>     <th>  BIC                </th>  <td>904.412</td>\n",
       "</tr>\n",
       "<tr>\n",
       "  <th>Sample:</th>           <td>09-30-2005</td>    <th>  HQIC               </th>  <td>899.524</td>\n",
       "</tr>\n",
       "<tr>\n",
       "  <th></th>                 <td>- 12-31-2018</td>   <th>                     </th>     <td> </td>   \n",
       "</tr>\n",
       "</table>\n",
       "<table class=\"simpletable\">\n",
       "<tr>\n",
       "             <td></td>               <th>coef</th>     <th>std err</th>      <th>z</th>      <th>P>|z|</th>  <th>[0.025</th>    <th>0.975]</th>  \n",
       "</tr>\n",
       "<tr>\n",
       "  <th>const</th>                  <td>   17.3836</td> <td>    5.698</td> <td>    3.051</td> <td> 0.002</td> <td>    6.215</td> <td>   28.552</td>\n",
       "</tr>\n",
       "<tr>\n",
       "  <th>ar.L1.D2.SG&A Expenses</th> <td>   -0.3122</td> <td>    0.141</td> <td>   -2.212</td> <td> 0.027</td> <td>   -0.589</td> <td>   -0.036</td>\n",
       "</tr>\n",
       "<tr>\n",
       "  <th>ma.L1.D2.SG&A Expenses</th> <td>   -1.0000</td> <td>    0.062</td> <td>  -16.157</td> <td> 0.000</td> <td>   -1.121</td> <td>   -0.879</td>\n",
       "</tr>\n",
       "</table>\n",
       "<table class=\"simpletable\">\n",
       "<caption>Roots</caption>\n",
       "<tr>\n",
       "    <td></td>   <th>            Real</th>  <th>         Imaginary</th> <th>         Modulus</th>  <th>        Frequency</th>\n",
       "</tr>\n",
       "<tr>\n",
       "  <th>AR.1</th> <td>          -3.2026</td> <td>          +0.0000j</td> <td>           3.2026</td> <td>           0.5000</td>\n",
       "</tr>\n",
       "<tr>\n",
       "  <th>MA.1</th> <td>           1.0000</td> <td>          +0.0000j</td> <td>           1.0000</td> <td>           0.0000</td>\n",
       "</tr>\n",
       "</table>"
      ],
      "text/plain": [
       "<class 'statsmodels.iolib.summary.Summary'>\n",
       "\"\"\"\n",
       "                             ARIMA Model Results                              \n",
       "==============================================================================\n",
       "Dep. Variable:       D2.SG&A Expenses   No. Observations:                   54\n",
       "Model:                 ARIMA(1, 2, 1)   Log Likelihood                -444.228\n",
       "Method:                       css-mle   S.D. of innovations            866.530\n",
       "Date:                Tue, 15 Mar 2022   AIC                            896.456\n",
       "Time:                        22:50:58   BIC                            904.412\n",
       "Sample:                    09-30-2005   HQIC                           899.524\n",
       "                         - 12-31-2018                                         \n",
       "==========================================================================================\n",
       "                             coef    std err          z      P>|z|      [0.025      0.975]\n",
       "------------------------------------------------------------------------------------------\n",
       "const                     17.3836      5.698      3.051      0.002       6.215      28.552\n",
       "ar.L1.D2.SG&A Expenses    -0.3122      0.141     -2.212      0.027      -0.589      -0.036\n",
       "ma.L1.D2.SG&A Expenses    -1.0000      0.062    -16.157      0.000      -1.121      -0.879\n",
       "                                    Roots                                    \n",
       "=============================================================================\n",
       "                  Real          Imaginary           Modulus         Frequency\n",
       "-----------------------------------------------------------------------------\n",
       "AR.1           -3.2026           +0.0000j            3.2026            0.5000\n",
       "MA.1            1.0000           +0.0000j            1.0000            0.0000\n",
       "-----------------------------------------------------------------------------\n",
       "\"\"\""
      ]
     },
     "execution_count": 100,
     "metadata": {},
     "output_type": "execute_result"
    }
   ],
   "source": [
    "from statsmodels.tsa.arima_model import ARMA,ARMAResults,ARIMA,ARIMAResults\n",
    "from statsmodels.graphics.tsaplots import plot_acf,plot_pacf\n",
    "\n",
    "model = ARIMA(train_data['SG&A Expenses'],order=(1,2,1))\n",
    "results = model.fit()\n",
    "results.summary()"
   ]
  },
  {
   "cell_type": "code",
   "execution_count": 101,
   "metadata": {},
   "outputs": [
    {
     "data": {
      "text/plain": [
       "104.07440775342639"
      ]
     },
     "execution_count": 101,
     "metadata": {},
     "output_type": "execute_result"
    }
   ],
   "source": [
    "start=len(train_data)\n",
    "end=len(train_data)+len(test_data)-1\n",
    "predictions = results.predict(start=start, end=end).rename('ARIMA(2,2) Predictions')\n",
    "mean_absolute_percentage_error(test_data['SG&A Expenses'],predictions)"
   ]
  },
  {
   "cell_type": "code",
   "execution_count": 103,
   "metadata": {},
   "outputs": [
    {
     "data": {
      "text/html": [
       "<table class=\"simpletable\">\n",
       "<caption>SARIMAX Results</caption>\n",
       "<tr>\n",
       "  <th>Dep. Variable:</th>                  <td>y</td>               <th>  No. Observations:  </th>    <td>56</td>   \n",
       "</tr>\n",
       "<tr>\n",
       "  <th>Model:</th>           <td>SARIMAX(1, 1, 2)x(0, 1, [], 4)</td> <th>  Log Likelihood     </th> <td>-354.516</td>\n",
       "</tr>\n",
       "<tr>\n",
       "  <th>Date:</th>                   <td>Tue, 15 Mar 2022</td>        <th>  AIC                </th>  <td>717.033</td>\n",
       "</tr>\n",
       "<tr>\n",
       "  <th>Time:</th>                       <td>22:51:51</td>            <th>  BIC                </th>  <td>724.760</td>\n",
       "</tr>\n",
       "<tr>\n",
       "  <th>Sample:</th>                         <td>0</td>               <th>  HQIC               </th>  <td>719.986</td>\n",
       "</tr>\n",
       "<tr>\n",
       "  <th></th>                              <td> - 56</td>             <th>                     </th>     <td> </td>   \n",
       "</tr>\n",
       "<tr>\n",
       "  <th>Covariance Type:</th>               <td>opg</td>              <th>                     </th>     <td> </td>   \n",
       "</tr>\n",
       "</table>\n",
       "<table class=\"simpletable\">\n",
       "<tr>\n",
       "     <td></td>       <th>coef</th>     <th>std err</th>      <th>z</th>      <th>P>|z|</th>  <th>[0.025</th>    <th>0.975]</th>  \n",
       "</tr>\n",
       "<tr>\n",
       "  <th>ar.L1</th>  <td>   -0.9226</td> <td>    0.059</td> <td>  -15.723</td> <td> 0.000</td> <td>   -1.038</td> <td>   -0.808</td>\n",
       "</tr>\n",
       "<tr>\n",
       "  <th>ma.L1</th>  <td>    1.5556</td> <td>    0.117</td> <td>   13.260</td> <td> 0.000</td> <td>    1.326</td> <td>    1.786</td>\n",
       "</tr>\n",
       "<tr>\n",
       "  <th>ma.L2</th>  <td>    0.8077</td> <td>    0.106</td> <td>    7.652</td> <td> 0.000</td> <td>    0.601</td> <td>    1.015</td>\n",
       "</tr>\n",
       "<tr>\n",
       "  <th>sigma2</th> <td> 6.105e+04</td> <td> 1.18e+04</td> <td>    5.158</td> <td> 0.000</td> <td> 3.79e+04</td> <td> 8.42e+04</td>\n",
       "</tr>\n",
       "</table>\n",
       "<table class=\"simpletable\">\n",
       "<tr>\n",
       "  <th>Ljung-Box (Q):</th>          <td>18.96</td> <th>  Jarque-Bera (JB):  </th> <td>3.54</td>\n",
       "</tr>\n",
       "<tr>\n",
       "  <th>Prob(Q):</th>                <td>1.00</td>  <th>  Prob(JB):          </th> <td>0.17</td>\n",
       "</tr>\n",
       "<tr>\n",
       "  <th>Heteroskedasticity (H):</th> <td>11.69</td> <th>  Skew:              </th> <td>0.33</td>\n",
       "</tr>\n",
       "<tr>\n",
       "  <th>Prob(H) (two-sided):</th>    <td>0.00</td>  <th>  Kurtosis:          </th> <td>4.11</td>\n",
       "</tr>\n",
       "</table><br/><br/>Warnings:<br/>[1] Covariance matrix calculated using the outer product of gradients (complex-step)."
      ],
      "text/plain": [
       "<class 'statsmodels.iolib.summary.Summary'>\n",
       "\"\"\"\n",
       "                                     SARIMAX Results                                      \n",
       "==========================================================================================\n",
       "Dep. Variable:                                  y   No. Observations:                   56\n",
       "Model:             SARIMAX(1, 1, 2)x(0, 1, [], 4)   Log Likelihood                -354.516\n",
       "Date:                            Tue, 15 Mar 2022   AIC                            717.033\n",
       "Time:                                    22:51:51   BIC                            724.760\n",
       "Sample:                                         0   HQIC                           719.986\n",
       "                                             - 56                                         \n",
       "Covariance Type:                              opg                                         \n",
       "==============================================================================\n",
       "                 coef    std err          z      P>|z|      [0.025      0.975]\n",
       "------------------------------------------------------------------------------\n",
       "ar.L1         -0.9226      0.059    -15.723      0.000      -1.038      -0.808\n",
       "ma.L1          1.5556      0.117     13.260      0.000       1.326       1.786\n",
       "ma.L2          0.8077      0.106      7.652      0.000       0.601       1.015\n",
       "sigma2      6.105e+04   1.18e+04      5.158      0.000    3.79e+04    8.42e+04\n",
       "===================================================================================\n",
       "Ljung-Box (Q):                       18.96   Jarque-Bera (JB):                 3.54\n",
       "Prob(Q):                              1.00   Prob(JB):                         0.17\n",
       "Heteroskedasticity (H):              11.69   Skew:                             0.33\n",
       "Prob(H) (two-sided):                  0.00   Kurtosis:                         4.11\n",
       "===================================================================================\n",
       "\n",
       "Warnings:\n",
       "[1] Covariance matrix calculated using the outer product of gradients (complex-step).\n",
       "\"\"\""
      ]
     },
     "execution_count": 103,
     "metadata": {},
     "output_type": "execute_result"
    }
   ],
   "source": [
    "from pmdarima import auto_arima\n",
    "auto_arima(train_data['SG&A Expenses'],m=4).summary()"
   ]
  },
  {
   "cell_type": "code",
   "execution_count": 104,
   "metadata": {},
   "outputs": [
    {
     "data": {
      "text/html": [
       "<table class=\"simpletable\">\n",
       "<caption>SARIMAX Results</caption>\n",
       "<tr>\n",
       "  <th>Dep. Variable:</th>            <td>SG&A Expenses</td>         <th>  No. Observations:  </th>    <td>56</td>   \n",
       "</tr>\n",
       "<tr>\n",
       "  <th>Model:</th>           <td>SARIMAX(1, 1, 2)x(0, 1, [], 4)</td> <th>  Log Likelihood     </th> <td>-354.516</td>\n",
       "</tr>\n",
       "<tr>\n",
       "  <th>Date:</th>                   <td>Tue, 15 Mar 2022</td>        <th>  AIC                </th>  <td>717.033</td>\n",
       "</tr>\n",
       "<tr>\n",
       "  <th>Time:</th>                       <td>22:52:38</td>            <th>  BIC                </th>  <td>724.760</td>\n",
       "</tr>\n",
       "<tr>\n",
       "  <th>Sample:</th>                    <td>03-31-2005</td>           <th>  HQIC               </th>  <td>719.986</td>\n",
       "</tr>\n",
       "<tr>\n",
       "  <th></th>                          <td>- 12-31-2018</td>          <th>                     </th>     <td> </td>   \n",
       "</tr>\n",
       "<tr>\n",
       "  <th>Covariance Type:</th>               <td>opg</td>              <th>                     </th>     <td> </td>   \n",
       "</tr>\n",
       "</table>\n",
       "<table class=\"simpletable\">\n",
       "<tr>\n",
       "     <td></td>       <th>coef</th>     <th>std err</th>      <th>z</th>      <th>P>|z|</th>  <th>[0.025</th>    <th>0.975]</th>  \n",
       "</tr>\n",
       "<tr>\n",
       "  <th>ar.L1</th>  <td>   -0.9226</td> <td>    0.059</td> <td>  -15.723</td> <td> 0.000</td> <td>   -1.038</td> <td>   -0.808</td>\n",
       "</tr>\n",
       "<tr>\n",
       "  <th>ma.L1</th>  <td>    1.5556</td> <td>    0.117</td> <td>   13.260</td> <td> 0.000</td> <td>    1.326</td> <td>    1.786</td>\n",
       "</tr>\n",
       "<tr>\n",
       "  <th>ma.L2</th>  <td>    0.8077</td> <td>    0.106</td> <td>    7.652</td> <td> 0.000</td> <td>    0.601</td> <td>    1.015</td>\n",
       "</tr>\n",
       "<tr>\n",
       "  <th>sigma2</th> <td> 6.105e+04</td> <td> 1.18e+04</td> <td>    5.158</td> <td> 0.000</td> <td> 3.79e+04</td> <td> 8.42e+04</td>\n",
       "</tr>\n",
       "</table>\n",
       "<table class=\"simpletable\">\n",
       "<tr>\n",
       "  <th>Ljung-Box (Q):</th>          <td>18.96</td> <th>  Jarque-Bera (JB):  </th> <td>3.54</td>\n",
       "</tr>\n",
       "<tr>\n",
       "  <th>Prob(Q):</th>                <td>1.00</td>  <th>  Prob(JB):          </th> <td>0.17</td>\n",
       "</tr>\n",
       "<tr>\n",
       "  <th>Heteroskedasticity (H):</th> <td>11.69</td> <th>  Skew:              </th> <td>0.33</td>\n",
       "</tr>\n",
       "<tr>\n",
       "  <th>Prob(H) (two-sided):</th>    <td>0.00</td>  <th>  Kurtosis:          </th> <td>4.11</td>\n",
       "</tr>\n",
       "</table><br/><br/>Warnings:<br/>[1] Covariance matrix calculated using the outer product of gradients (complex-step)."
      ],
      "text/plain": [
       "<class 'statsmodels.iolib.summary.Summary'>\n",
       "\"\"\"\n",
       "                                     SARIMAX Results                                      \n",
       "==========================================================================================\n",
       "Dep. Variable:                      SG&A Expenses   No. Observations:                   56\n",
       "Model:             SARIMAX(1, 1, 2)x(0, 1, [], 4)   Log Likelihood                -354.516\n",
       "Date:                            Tue, 15 Mar 2022   AIC                            717.033\n",
       "Time:                                    22:52:38   BIC                            724.760\n",
       "Sample:                                03-31-2005   HQIC                           719.986\n",
       "                                     - 12-31-2018                                         \n",
       "Covariance Type:                              opg                                         \n",
       "==============================================================================\n",
       "                 coef    std err          z      P>|z|      [0.025      0.975]\n",
       "------------------------------------------------------------------------------\n",
       "ar.L1         -0.9226      0.059    -15.723      0.000      -1.038      -0.808\n",
       "ma.L1          1.5556      0.117     13.260      0.000       1.326       1.786\n",
       "ma.L2          0.8077      0.106      7.652      0.000       0.601       1.015\n",
       "sigma2      6.105e+04   1.18e+04      5.158      0.000    3.79e+04    8.42e+04\n",
       "===================================================================================\n",
       "Ljung-Box (Q):                       18.96   Jarque-Bera (JB):                 3.54\n",
       "Prob(Q):                              1.00   Prob(JB):                         0.17\n",
       "Heteroskedasticity (H):              11.69   Skew:                             0.33\n",
       "Prob(H) (two-sided):                  0.00   Kurtosis:                         4.11\n",
       "===================================================================================\n",
       "\n",
       "Warnings:\n",
       "[1] Covariance matrix calculated using the outer product of gradients (complex-step).\n",
       "\"\"\""
      ]
     },
     "execution_count": 104,
     "metadata": {},
     "output_type": "execute_result"
    }
   ],
   "source": [
    "from statsmodels.tsa.statespace.sarimax import SARIMAX\n",
    "\n",
    "model = SARIMAX(train_data['SG&A Expenses'],order=(1,1,2),seasonal_order=(0,1,[],4))\n",
    "results = model.fit()\n",
    "results.summary()"
   ]
  },
  {
   "cell_type": "code",
   "execution_count": 105,
   "metadata": {},
   "outputs": [
    {
     "data": {
      "text/plain": [
       "6.565110230875539"
      ]
     },
     "execution_count": 105,
     "metadata": {},
     "output_type": "execute_result"
    }
   ],
   "source": [
    "start=len(train_data)\n",
    "end=len(train_data)+len(test_data)-1\n",
    "predictions = results.predict(start=start, end=end).rename('ARIMA(2,2) Predictions')\n",
    "mean_absolute_percentage_error(test_data['SG&A Expenses'],predictions)"
   ]
  },
  {
   "cell_type": "code",
   "execution_count": 106,
   "metadata": {},
   "outputs": [
    {
     "data": {
      "image/png": "[encoded data removed]",
      "text/plain": [
       "<Figure size 432x288 with 1 Axes>"
      ]
     },
     "metadata": {
      "needs_background": "dark"
     },
     "output_type": "display_data"
    }
   ],
   "source": [
    "test_data['SG&A Expenses'].plot(legend=True,label='TEST')\n",
    "predictions.plot(legend=True,label='PREDICTION');"
   ]
  },
  {
   "cell_type": "markdown",
   "metadata": {},
   "source": [
    "### SARIMA Model MAPE 6.56"
   ]
  },
  {
   "cell_type": "code",
   "execution_count": 107,
   "metadata": {},
   "outputs": [],
   "source": [
    "from prophet import Prophet\n",
    "df_rev_fb=pd.DataFrame()\n",
    "\n",
    "\n",
    "df_rev_fb['y']=new_df['SG&A Expenses'][::-1]\n",
    "df_rev_fb['ds']=new_df.index[::-1]"
   ]
  },
  {
   "cell_type": "code",
   "execution_count": 108,
   "metadata": {},
   "outputs": [],
   "source": [
    "train_data_fb = df_rev_fb.iloc[:56]\n",
    "test_data_fb = df_rev_fb.iloc[56:]"
   ]
  },
  {
   "cell_type": "code",
   "execution_count": 109,
   "metadata": {},
   "outputs": [
    {
     "name": "stderr",
     "output_type": "stream",
     "text": [
      "INFO:prophet:Disabling weekly seasonality. Run prophet with weekly_seasonality=True to override this.\n",
      "INFO:prophet:Disabling daily seasonality. Run prophet with daily_seasonality=True to override this.\n"
     ]
    },
    {
     "data": {
      "text/html": [
       "<div>\n",
       "<style scoped>\n",
       "    .dataframe tbody tr th:only-of-type {\n",
       "        vertical-align: middle;\n",
       "    }\n",
       "\n",
       "    .dataframe tbody tr th {\n",
       "        vertical-align: top;\n",
       "    }\n",
       "\n",
       "    .dataframe thead th {\n",
       "        text-align: right;\n",
       "    }\n",
       "</style>\n",
       "<table border=\"1\" class=\"dataframe\">\n",
       "  <thead>\n",
       "    <tr style=\"text-align: right;\">\n",
       "      <th></th>\n",
       "      <th>ds</th>\n",
       "      <th>trend</th>\n",
       "      <th>yhat_lower</th>\n",
       "      <th>yhat_upper</th>\n",
       "      <th>trend_lower</th>\n",
       "      <th>trend_upper</th>\n",
       "      <th>additive_terms</th>\n",
       "      <th>additive_terms_lower</th>\n",
       "      <th>additive_terms_upper</th>\n",
       "      <th>yearly</th>\n",
       "      <th>yearly_lower</th>\n",
       "      <th>yearly_upper</th>\n",
       "      <th>multiplicative_terms</th>\n",
       "      <th>multiplicative_terms_lower</th>\n",
       "      <th>multiplicative_terms_upper</th>\n",
       "      <th>yhat</th>\n",
       "    </tr>\n",
       "  </thead>\n",
       "  <tbody>\n",
       "    <tr>\n",
       "      <th>56</th>\n",
       "      <td>2019-03-31</td>\n",
       "      <td>-1355.551792</td>\n",
       "      <td>13625.663266</td>\n",
       "      <td>14829.557197</td>\n",
       "      <td>-1360.899787</td>\n",
       "      <td>-1349.012302</td>\n",
       "      <td>15600.817541</td>\n",
       "      <td>15600.817541</td>\n",
       "      <td>15600.817541</td>\n",
       "      <td>15600.817541</td>\n",
       "      <td>15600.817541</td>\n",
       "      <td>15600.817541</td>\n",
       "      <td>0.0</td>\n",
       "      <td>0.0</td>\n",
       "      <td>0.0</td>\n",
       "      <td>14245.265750</td>\n",
       "    </tr>\n",
       "    <tr>\n",
       "      <th>57</th>\n",
       "      <td>2019-06-30</td>\n",
       "      <td>-685.116043</td>\n",
       "      <td>14266.078012</td>\n",
       "      <td>15460.714816</td>\n",
       "      <td>-714.658831</td>\n",
       "      <td>-648.386305</td>\n",
       "      <td>15534.024971</td>\n",
       "      <td>15534.024971</td>\n",
       "      <td>15534.024971</td>\n",
       "      <td>15534.024971</td>\n",
       "      <td>15534.024971</td>\n",
       "      <td>15534.024971</td>\n",
       "      <td>0.0</td>\n",
       "      <td>0.0</td>\n",
       "      <td>0.0</td>\n",
       "      <td>14848.908927</td>\n",
       "    </tr>\n",
       "    <tr>\n",
       "      <th>58</th>\n",
       "      <td>2019-09-30</td>\n",
       "      <td>-7.312869</td>\n",
       "      <td>14989.885073</td>\n",
       "      <td>16169.265729</td>\n",
       "      <td>-69.115598</td>\n",
       "      <td>66.400838</td>\n",
       "      <td>15579.980019</td>\n",
       "      <td>15579.980019</td>\n",
       "      <td>15579.980019</td>\n",
       "      <td>15579.980019</td>\n",
       "      <td>15579.980019</td>\n",
       "      <td>15579.980019</td>\n",
       "      <td>0.0</td>\n",
       "      <td>0.0</td>\n",
       "      <td>0.0</td>\n",
       "      <td>15572.667150</td>\n",
       "    </tr>\n",
       "    <tr>\n",
       "      <th>59</th>\n",
       "      <td>2019-12-31</td>\n",
       "      <td>670.490304</td>\n",
       "      <td>16445.606437</td>\n",
       "      <td>17612.985491</td>\n",
       "      <td>564.325049</td>\n",
       "      <td>794.537907</td>\n",
       "      <td>16357.846643</td>\n",
       "      <td>16357.846643</td>\n",
       "      <td>16357.846643</td>\n",
       "      <td>16357.846643</td>\n",
       "      <td>16357.846643</td>\n",
       "      <td>16357.846643</td>\n",
       "      <td>0.0</td>\n",
       "      <td>0.0</td>\n",
       "      <td>0.0</td>\n",
       "      <td>17028.336947</td>\n",
       "    </tr>\n",
       "    <tr>\n",
       "      <th>60</th>\n",
       "      <td>2020-03-31</td>\n",
       "      <td>1340.926053</td>\n",
       "      <td>16025.182563</td>\n",
       "      <td>17292.884696</td>\n",
       "      <td>1185.000954</td>\n",
       "      <td>1512.791745</td>\n",
       "      <td>15308.466845</td>\n",
       "      <td>15308.466845</td>\n",
       "      <td>15308.466845</td>\n",
       "      <td>15308.466845</td>\n",
       "      <td>15308.466845</td>\n",
       "      <td>15308.466845</td>\n",
       "      <td>0.0</td>\n",
       "      <td>0.0</td>\n",
       "      <td>0.0</td>\n",
       "      <td>16649.392897</td>\n",
       "    </tr>\n",
       "  </tbody>\n",
       "</table>\n",
       "</div>"
      ],
      "text/plain": [
       "           ds        trend    yhat_lower    yhat_upper  trend_lower  \\\n",
       "56 2019-03-31 -1355.551792  13625.663266  14829.557197 -1360.899787   \n",
       "57 2019-06-30  -685.116043  14266.078012  15460.714816  -714.658831   \n",
       "58 2019-09-30    -7.312869  14989.885073  16169.265729   -69.115598   \n",
       "59 2019-12-31   670.490304  16445.606437  17612.985491   564.325049   \n",
       "60 2020-03-31  1340.926053  16025.182563  17292.884696  1185.000954   \n",
       "\n",
       "    trend_upper  additive_terms  additive_terms_lower  additive_terms_upper  \\\n",
       "56 -1349.012302    15600.817541          15600.817541          15600.817541   \n",
       "57  -648.386305    15534.024971          15534.024971          15534.024971   \n",
       "58    66.400838    15579.980019          15579.980019          15579.980019   \n",
       "59   794.537907    16357.846643          16357.846643          16357.846643   \n",
       "60  1512.791745    15308.466845          15308.466845          15308.466845   \n",
       "\n",
       "          yearly  yearly_lower  yearly_upper  multiplicative_terms  \\\n",
       "56  15600.817541  15600.817541  15600.817541                   0.0   \n",
       "57  15534.024971  15534.024971  15534.024971                   0.0   \n",
       "58  15579.980019  15579.980019  15579.980019                   0.0   \n",
       "59  16357.846643  16357.846643  16357.846643                   0.0   \n",
       "60  15308.466845  15308.466845  15308.466845                   0.0   \n",
       "\n",
       "    multiplicative_terms_lower  multiplicative_terms_upper          yhat  \n",
       "56                         0.0                         0.0  14245.265750  \n",
       "57                         0.0                         0.0  14848.908927  \n",
       "58                         0.0                         0.0  15572.667150  \n",
       "59                         0.0                         0.0  17028.336947  \n",
       "60                         0.0                         0.0  16649.392897  "
      ]
     },
     "execution_count": 109,
     "metadata": {},
     "output_type": "execute_result"
    }
   ],
   "source": [
    "m = Prophet()\n",
    "m.fit(train_data_fb)\n",
    "\n",
    "future = m.make_future_dataframe(periods=5,freq = 'Q')\n",
    "forecast = m.predict(future)\n",
    "forecast.tail()"
   ]
  },
  {
   "cell_type": "code",
   "execution_count": 110,
   "metadata": {},
   "outputs": [
    {
     "data": {
      "text/plain": [
       "<matplotlib.axes._subplots.AxesSubplot at 0x27c2d4ecc08>"
      ]
     },
     "execution_count": 110,
     "metadata": {},
     "output_type": "execute_result"
    },
    {
     "data": {
      "image/png": "[encoded data removed]",
      "text/plain": [
       "<Figure size 864x576 with 1 Axes>"
      ]
     },
     "metadata": {
      "needs_background": "dark"
     },
     "output_type": "display_data"
    }
   ],
   "source": [
    "ax = forecast.plot(x='ds',y='yhat',label='Predictions',legend=True,figsize=(12,8))\n",
    "\n",
    "df_rev_fb.plot(x='ds',y='y',label='True',legend=True,ax=ax)"
   ]
  },
  {
   "cell_type": "code",
   "execution_count": 111,
   "metadata": {},
   "outputs": [
    {
     "data": {
      "text/plain": [
       "6.161094046509881"
      ]
     },
     "execution_count": 111,
     "metadata": {},
     "output_type": "execute_result"
    }
   ],
   "source": [
    "pred=forecast[-5:]['yhat']\n",
    "mean_absolute_percentage_error(test_data_fb['y'],pred)"
   ]
  },
  {
   "cell_type": "markdown",
   "metadata": {},
   "source": [
    "### FB Prophet MAPE 6.16"
   ]
  },
  {
   "cell_type": "markdown",
   "metadata": {},
   "source": [
    "### Final Model"
   ]
  },
  {
   "cell_type": "code",
   "execution_count": 134,
   "metadata": {},
   "outputs": [
    {
     "data": {
      "image/png": "[encoded data removed]",
      "text/plain": [
       "<Figure size 432x288 with 1 Axes>"
      ]
     },
     "metadata": {
      "needs_background": "dark"
     },
     "output_type": "display_data"
    }
   ],
   "source": [
    "fitted_model1 = ExponentialSmoothing(df_rev['SG&A Expenses'],trend='add',seasonal='add',seasonal_periods=4).fit()\n",
    "predictions = fitted_model1.forecast(5).rename('HW Forecast')\n",
    "df_rev['SG&A Expenses'].plot(legend=True,label='TEST')\n",
    "predictions.plot(legend=True,label='PREDICTION');"
   ]
  },
  {
   "cell_type": "code",
   "execution_count": 135,
   "metadata": {},
   "outputs": [
    {
     "name": "stdout",
     "output_type": "stream",
     "text": [
      "2020-06-30    18964.239291\n",
      "2020-09-30    20317.406274\n",
      "2020-12-31    23798.097566\n",
      "2021-03-31    21497.615514\n",
      "2021-06-30    22843.004177\n",
      "Freq: Q-DEC, dtype: float64\n"
     ]
    }
   ],
   "source": [
    "import pickle\n",
    "\n",
    "pickle.dump(fitted_model1, open('model_SGA.pkl','wb'))\n",
    "\n",
    "# Loading model to compare the results\n",
    "model = pickle.load(open('model_SGA.pkl','rb'))\n",
    "print(model.forecast(5))"
   ]
  }
 ],
 "metadata": {
  "kernelspec": {
   "display_name": "Python 3",
   "language": "python",
   "name": "python3"
  },
  "language_info": {
   "codemirror_mode": {
    "name": "ipython",
    "version": 3
   },
   "file_extension": ".py",
   "mimetype": "text/x-python",
   "name": "python",
   "nbconvert_exporter": "python",
   "pygments_lexer": "ipython3",
   "version": "3.7.6"
  }
 },
 "nbformat": 4,
 "nbformat_minor": 4
}
