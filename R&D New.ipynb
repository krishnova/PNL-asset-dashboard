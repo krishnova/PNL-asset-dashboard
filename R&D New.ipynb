{
 "cells": [
  {
   "cell_type": "code",
   "execution_count": 1,
   "metadata": {},
   "outputs": [],
   "source": [
    "import numpy as np\n",
    "import pandas as pd\n",
    "import matplotlib as mpl\n",
    "import matplotlib.pyplot as plt\n",
    "import seaborn as sns"
   ]
  },
  {
   "cell_type": "code",
   "execution_count": 2,
   "metadata": {},
   "outputs": [],
   "source": [
    "def mean_absolute_percentage_error(y_true, y_pred): \n",
    "    \n",
    "    \"\"\"\n",
    "    This function calculates mean_absolute_percentage_error\n",
    "    \n",
    "    Input:\n",
    "        y_true (array): True values\n",
    "        y_pred (array): Preicted values\n",
    "\n",
    "    Returns: \n",
    "        Calculated MAPE \n",
    "    \n",
    "    \"\"\"\n",
    "    \n",
    "    y_true, y_pred = np.array(y_true), np.array(y_pred)\n",
    "    return np.mean(np.abs((y_true - y_pred) / y_true)) * 100"
   ]
  },
  {
   "cell_type": "code",
   "execution_count": 3,
   "metadata": {},
   "outputs": [
    {
     "data": {
      "text/html": [
       "<div>\n",
       "<style scoped>\n",
       "    .dataframe tbody tr th:only-of-type {\n",
       "        vertical-align: middle;\n",
       "    }\n",
       "\n",
       "    .dataframe tbody tr th {\n",
       "        vertical-align: top;\n",
       "    }\n",
       "\n",
       "    .dataframe thead th {\n",
       "        text-align: right;\n",
       "    }\n",
       "</style>\n",
       "<table border=\"1\" class=\"dataframe\">\n",
       "  <thead>\n",
       "    <tr style=\"text-align: right;\">\n",
       "      <th></th>\n",
       "      <th>Quaterly</th>\n",
       "      <th>Revenue</th>\n",
       "      <th>Cost of Goods Sold</th>\n",
       "      <th>Gross Profit</th>\n",
       "      <th>Research and Development Expenses</th>\n",
       "      <th>SG&amp;A Expenses</th>\n",
       "      <th>Other Operating Income or Expenses</th>\n",
       "      <th>Operating Expenses</th>\n",
       "      <th>Operating Income</th>\n",
       "      <th>Total Non-Operating Income/Expense</th>\n",
       "      <th>...</th>\n",
       "      <th>Income Taxes</th>\n",
       "      <th>Income After Taxes</th>\n",
       "      <th>Income from Continuous Operations</th>\n",
       "      <th>Net Income</th>\n",
       "      <th>EBITDA</th>\n",
       "      <th>EBIT</th>\n",
       "      <th>Basic Shares Outstanding</th>\n",
       "      <th>Shares Outstanding</th>\n",
       "      <th>Basic EPS</th>\n",
       "      <th>EPS</th>\n",
       "    </tr>\n",
       "  </thead>\n",
       "  <tbody>\n",
       "    <tr>\n",
       "      <th>0</th>\n",
       "      <td>2021-09-30</td>\n",
       "      <td>110812</td>\n",
       "      <td>62930</td>\n",
       "      <td>47882</td>\n",
       "      <td>14380</td>\n",
       "      <td>28661</td>\n",
       "      <td>11.0</td>\n",
       "      <td>105960</td>\n",
       "      <td>4852</td>\n",
       "      <td>-537.0</td>\n",
       "      <td>...</td>\n",
       "      <td>1155</td>\n",
       "      <td>3160</td>\n",
       "      <td>3156</td>\n",
       "      <td>3156</td>\n",
       "      <td>13800</td>\n",
       "      <td>4852</td>\n",
       "      <td>507</td>\n",
       "      <td>515</td>\n",
       "      <td>6.23</td>\n",
       "      <td>6.12</td>\n",
       "    </tr>\n",
       "    <tr>\n",
       "      <th>1</th>\n",
       "      <td>2021-06-30</td>\n",
       "      <td>113080</td>\n",
       "      <td>64176</td>\n",
       "      <td>48904</td>\n",
       "      <td>13871</td>\n",
       "      <td>27320</td>\n",
       "      <td>-11.0</td>\n",
       "      <td>105378</td>\n",
       "      <td>7702</td>\n",
       "      <td>932.0</td>\n",
       "      <td>...</td>\n",
       "      <td>868</td>\n",
       "      <td>7766</td>\n",
       "      <td>7778</td>\n",
       "      <td>7778</td>\n",
       "      <td>15740</td>\n",
       "      <td>7702</td>\n",
       "      <td>505</td>\n",
       "      <td>514</td>\n",
       "      <td>15.40</td>\n",
       "      <td>15.12</td>\n",
       "    </tr>\n",
       "    <tr>\n",
       "      <th>2</th>\n",
       "      <td>2021-03-31</td>\n",
       "      <td>108518</td>\n",
       "      <td>62403</td>\n",
       "      <td>46115</td>\n",
       "      <td>12488</td>\n",
       "      <td>24724</td>\n",
       "      <td>-38.0</td>\n",
       "      <td>99653</td>\n",
       "      <td>8865</td>\n",
       "      <td>1403.0</td>\n",
       "      <td>...</td>\n",
       "      <td>2156</td>\n",
       "      <td>8112</td>\n",
       "      <td>8107</td>\n",
       "      <td>8107</td>\n",
       "      <td>16373</td>\n",
       "      <td>8865</td>\n",
       "      <td>504</td>\n",
       "      <td>513</td>\n",
       "      <td>16.09</td>\n",
       "      <td>15.79</td>\n",
       "    </tr>\n",
       "    <tr>\n",
       "      <th>3</th>\n",
       "      <td>2020-12-31</td>\n",
       "      <td>125555</td>\n",
       "      <td>79284</td>\n",
       "      <td>46271</td>\n",
       "      <td>12051</td>\n",
       "      <td>27844</td>\n",
       "      <td>497.0</td>\n",
       "      <td>118682</td>\n",
       "      <td>6873</td>\n",
       "      <td>892.0</td>\n",
       "      <td>...</td>\n",
       "      <td>566</td>\n",
       "      <td>7199</td>\n",
       "      <td>7222</td>\n",
       "      <td>7222</td>\n",
       "      <td>14491</td>\n",
       "      <td>6873</td>\n",
       "      <td>500</td>\n",
       "      <td>510</td>\n",
       "      <td>14.42</td>\n",
       "      <td>14.15</td>\n",
       "    </tr>\n",
       "    <tr>\n",
       "      <th>4</th>\n",
       "      <td>2020-09-30</td>\n",
       "      <td>96145</td>\n",
       "      <td>57106</td>\n",
       "      <td>39039</td>\n",
       "      <td>10976</td>\n",
       "      <td>21807</td>\n",
       "      <td>-62.0</td>\n",
       "      <td>89951</td>\n",
       "      <td>6194</td>\n",
       "      <td>615.0</td>\n",
       "      <td>...</td>\n",
       "      <td>569</td>\n",
       "      <td>6240</td>\n",
       "      <td>6331</td>\n",
       "      <td>6331</td>\n",
       "      <td>12717</td>\n",
       "      <td>6194</td>\n",
       "      <td>501</td>\n",
       "      <td>512</td>\n",
       "      <td>12.63</td>\n",
       "      <td>12.37</td>\n",
       "    </tr>\n",
       "  </tbody>\n",
       "</table>\n",
       "<p>5 rows × 21 columns</p>\n",
       "</div>"
      ],
      "text/plain": [
       "     Quaterly  Revenue  Cost of Goods Sold  Gross Profit  \\\n",
       "0  2021-09-30   110812               62930         47882   \n",
       "1  2021-06-30   113080               64176         48904   \n",
       "2  2021-03-31   108518               62403         46115   \n",
       "3  2020-12-31   125555               79284         46271   \n",
       "4  2020-09-30    96145               57106         39039   \n",
       "\n",
       "   Research and Development Expenses   SG&A Expenses  \\\n",
       "0                              14380           28661   \n",
       "1                              13871           27320   \n",
       "2                              12488           24724   \n",
       "3                              12051           27844   \n",
       "4                              10976           21807   \n",
       "\n",
       "   Other Operating Income or Expenses  Operating Expenses  Operating Income  \\\n",
       "0                                11.0              105960              4852   \n",
       "1                               -11.0              105378              7702   \n",
       "2                               -38.0               99653              8865   \n",
       "3                               497.0              118682              6873   \n",
       "4                               -62.0               89951              6194   \n",
       "\n",
       "   Total Non-Operating Income/Expense  ...  Income Taxes  Income After Taxes  \\\n",
       "0                              -537.0  ...          1155                3160   \n",
       "1                               932.0  ...           868                7766   \n",
       "2                              1403.0  ...          2156                8112   \n",
       "3                               892.0  ...           566                7199   \n",
       "4                               615.0  ...           569                6240   \n",
       "\n",
       "   Income from Continuous Operations  Net Income  EBITDA  EBIT  \\\n",
       "0                               3156        3156   13800  4852   \n",
       "1                               7778        7778   15740  7702   \n",
       "2                               8107        8107   16373  8865   \n",
       "3                               7222        7222   14491  6873   \n",
       "4                               6331        6331   12717  6194   \n",
       "\n",
       "   Basic Shares Outstanding  Shares Outstanding  Basic EPS    EPS  \n",
       "0                       507                 515       6.23   6.12  \n",
       "1                       505                 514      15.40  15.12  \n",
       "2                       504                 513      16.09  15.79  \n",
       "3                       500                 510      14.42  14.15  \n",
       "4                       501                 512      12.63  12.37  \n",
       "\n",
       "[5 rows x 21 columns]"
      ]
     },
     "execution_count": 3,
     "metadata": {},
     "output_type": "execute_result"
    }
   ],
   "source": [
    "df = pd.read_excel('macrotrends_amazon.xlsx')\n",
    "df.head()"
   ]
  },
  {
   "cell_type": "code",
   "execution_count": 4,
   "metadata": {},
   "outputs": [
    {
     "data": {
      "text/html": [
       "<div>\n",
       "<style scoped>\n",
       "    .dataframe tbody tr th:only-of-type {\n",
       "        vertical-align: middle;\n",
       "    }\n",
       "\n",
       "    .dataframe tbody tr th {\n",
       "        vertical-align: top;\n",
       "    }\n",
       "\n",
       "    .dataframe thead th {\n",
       "        text-align: right;\n",
       "    }\n",
       "</style>\n",
       "<table border=\"1\" class=\"dataframe\">\n",
       "  <thead>\n",
       "    <tr style=\"text-align: right;\">\n",
       "      <th></th>\n",
       "      <th>Quaterly</th>\n",
       "      <th>Revenue</th>\n",
       "      <th>Cost of Goods Sold</th>\n",
       "      <th>Gross Profit</th>\n",
       "      <th>Research and Development Expenses</th>\n",
       "      <th>SG&amp;A Expenses</th>\n",
       "      <th>Other Operating Income or Expenses</th>\n",
       "      <th>Operating Expenses</th>\n",
       "      <th>Operating Income</th>\n",
       "      <th>Total Non-Operating Income/Expense</th>\n",
       "      <th>...</th>\n",
       "      <th>Income Taxes</th>\n",
       "      <th>Income After Taxes</th>\n",
       "      <th>Income from Continuous Operations</th>\n",
       "      <th>Net Income</th>\n",
       "      <th>EBITDA</th>\n",
       "      <th>EBIT</th>\n",
       "      <th>Basic Shares Outstanding</th>\n",
       "      <th>Shares Outstanding</th>\n",
       "      <th>Basic EPS</th>\n",
       "      <th>EPS</th>\n",
       "    </tr>\n",
       "  </thead>\n",
       "  <tbody>\n",
       "    <tr>\n",
       "      <th>2021-09-30</th>\n",
       "      <td>2021-09-30</td>\n",
       "      <td>110812</td>\n",
       "      <td>62930</td>\n",
       "      <td>47882</td>\n",
       "      <td>14380</td>\n",
       "      <td>28661</td>\n",
       "      <td>11.0</td>\n",
       "      <td>105960</td>\n",
       "      <td>4852</td>\n",
       "      <td>-537.0</td>\n",
       "      <td>...</td>\n",
       "      <td>1155</td>\n",
       "      <td>3160</td>\n",
       "      <td>3156</td>\n",
       "      <td>3156</td>\n",
       "      <td>13800</td>\n",
       "      <td>4852</td>\n",
       "      <td>507</td>\n",
       "      <td>515</td>\n",
       "      <td>6.23</td>\n",
       "      <td>6.12</td>\n",
       "    </tr>\n",
       "    <tr>\n",
       "      <th>2021-06-30</th>\n",
       "      <td>2021-06-30</td>\n",
       "      <td>113080</td>\n",
       "      <td>64176</td>\n",
       "      <td>48904</td>\n",
       "      <td>13871</td>\n",
       "      <td>27320</td>\n",
       "      <td>-11.0</td>\n",
       "      <td>105378</td>\n",
       "      <td>7702</td>\n",
       "      <td>932.0</td>\n",
       "      <td>...</td>\n",
       "      <td>868</td>\n",
       "      <td>7766</td>\n",
       "      <td>7778</td>\n",
       "      <td>7778</td>\n",
       "      <td>15740</td>\n",
       "      <td>7702</td>\n",
       "      <td>505</td>\n",
       "      <td>514</td>\n",
       "      <td>15.40</td>\n",
       "      <td>15.12</td>\n",
       "    </tr>\n",
       "    <tr>\n",
       "      <th>2021-03-31</th>\n",
       "      <td>2021-03-31</td>\n",
       "      <td>108518</td>\n",
       "      <td>62403</td>\n",
       "      <td>46115</td>\n",
       "      <td>12488</td>\n",
       "      <td>24724</td>\n",
       "      <td>-38.0</td>\n",
       "      <td>99653</td>\n",
       "      <td>8865</td>\n",
       "      <td>1403.0</td>\n",
       "      <td>...</td>\n",
       "      <td>2156</td>\n",
       "      <td>8112</td>\n",
       "      <td>8107</td>\n",
       "      <td>8107</td>\n",
       "      <td>16373</td>\n",
       "      <td>8865</td>\n",
       "      <td>504</td>\n",
       "      <td>513</td>\n",
       "      <td>16.09</td>\n",
       "      <td>15.79</td>\n",
       "    </tr>\n",
       "    <tr>\n",
       "      <th>2020-12-31</th>\n",
       "      <td>2020-12-31</td>\n",
       "      <td>125555</td>\n",
       "      <td>79284</td>\n",
       "      <td>46271</td>\n",
       "      <td>12051</td>\n",
       "      <td>27844</td>\n",
       "      <td>497.0</td>\n",
       "      <td>118682</td>\n",
       "      <td>6873</td>\n",
       "      <td>892.0</td>\n",
       "      <td>...</td>\n",
       "      <td>566</td>\n",
       "      <td>7199</td>\n",
       "      <td>7222</td>\n",
       "      <td>7222</td>\n",
       "      <td>14491</td>\n",
       "      <td>6873</td>\n",
       "      <td>500</td>\n",
       "      <td>510</td>\n",
       "      <td>14.42</td>\n",
       "      <td>14.15</td>\n",
       "    </tr>\n",
       "    <tr>\n",
       "      <th>2020-09-30</th>\n",
       "      <td>2020-09-30</td>\n",
       "      <td>96145</td>\n",
       "      <td>57106</td>\n",
       "      <td>39039</td>\n",
       "      <td>10976</td>\n",
       "      <td>21807</td>\n",
       "      <td>-62.0</td>\n",
       "      <td>89951</td>\n",
       "      <td>6194</td>\n",
       "      <td>615.0</td>\n",
       "      <td>...</td>\n",
       "      <td>569</td>\n",
       "      <td>6240</td>\n",
       "      <td>6331</td>\n",
       "      <td>6331</td>\n",
       "      <td>12717</td>\n",
       "      <td>6194</td>\n",
       "      <td>501</td>\n",
       "      <td>512</td>\n",
       "      <td>12.63</td>\n",
       "      <td>12.37</td>\n",
       "    </tr>\n",
       "  </tbody>\n",
       "</table>\n",
       "<p>5 rows × 21 columns</p>\n",
       "</div>"
      ],
      "text/plain": [
       "              Quaterly  Revenue  Cost of Goods Sold  Gross Profit  \\\n",
       "2021-09-30  2021-09-30   110812               62930         47882   \n",
       "2021-06-30  2021-06-30   113080               64176         48904   \n",
       "2021-03-31  2021-03-31   108518               62403         46115   \n",
       "2020-12-31  2020-12-31   125555               79284         46271   \n",
       "2020-09-30  2020-09-30    96145               57106         39039   \n",
       "\n",
       "            Research and Development Expenses   SG&A Expenses  \\\n",
       "2021-09-30                              14380           28661   \n",
       "2021-06-30                              13871           27320   \n",
       "2021-03-31                              12488           24724   \n",
       "2020-12-31                              12051           27844   \n",
       "2020-09-30                              10976           21807   \n",
       "\n",
       "            Other Operating Income or Expenses  Operating Expenses  \\\n",
       "2021-09-30                                11.0              105960   \n",
       "2021-06-30                               -11.0              105378   \n",
       "2021-03-31                               -38.0               99653   \n",
       "2020-12-31                               497.0              118682   \n",
       "2020-09-30                               -62.0               89951   \n",
       "\n",
       "            Operating Income  Total Non-Operating Income/Expense  ...  \\\n",
       "2021-09-30              4852                              -537.0  ...   \n",
       "2021-06-30              7702                               932.0  ...   \n",
       "2021-03-31              8865                              1403.0  ...   \n",
       "2020-12-31              6873                               892.0  ...   \n",
       "2020-09-30              6194                               615.0  ...   \n",
       "\n",
       "            Income Taxes  Income After Taxes  \\\n",
       "2021-09-30          1155                3160   \n",
       "2021-06-30           868                7766   \n",
       "2021-03-31          2156                8112   \n",
       "2020-12-31           566                7199   \n",
       "2020-09-30           569                6240   \n",
       "\n",
       "            Income from Continuous Operations  Net Income  EBITDA  EBIT  \\\n",
       "2021-09-30                               3156        3156   13800  4852   \n",
       "2021-06-30                               7778        7778   15740  7702   \n",
       "2021-03-31                               8107        8107   16373  8865   \n",
       "2020-12-31                               7222        7222   14491  6873   \n",
       "2020-09-30                               6331        6331   12717  6194   \n",
       "\n",
       "            Basic Shares Outstanding  Shares Outstanding  Basic EPS    EPS  \n",
       "2021-09-30                       507                 515       6.23   6.12  \n",
       "2021-06-30                       505                 514      15.40  15.12  \n",
       "2021-03-31                       504                 513      16.09  15.79  \n",
       "2020-12-31                       500                 510      14.42  14.15  \n",
       "2020-09-30                       501                 512      12.63  12.37  \n",
       "\n",
       "[5 rows x 21 columns]"
      ]
     },
     "execution_count": 4,
     "metadata": {},
     "output_type": "execute_result"
    }
   ],
   "source": [
    "quater=pd.date_range('2005-03-31',periods=67,freq='Q')\n",
    "df =df.set_index(quater[::-1])\n",
    "df.head()"
   ]
  },
  {
   "cell_type": "code",
   "execution_count": 5,
   "metadata": {},
   "outputs": [
    {
     "data": {
      "text/html": [
       "<div>\n",
       "<style scoped>\n",
       "    .dataframe tbody tr th:only-of-type {\n",
       "        vertical-align: middle;\n",
       "    }\n",
       "\n",
       "    .dataframe tbody tr th {\n",
       "        vertical-align: top;\n",
       "    }\n",
       "\n",
       "    .dataframe thead th {\n",
       "        text-align: right;\n",
       "    }\n",
       "</style>\n",
       "<table border=\"1\" class=\"dataframe\">\n",
       "  <thead>\n",
       "    <tr style=\"text-align: right;\">\n",
       "      <th></th>\n",
       "      <th>Revenue</th>\n",
       "      <th>Cost of Goods Sold</th>\n",
       "      <th>Gross Profit</th>\n",
       "      <th>Research and Development Expenses</th>\n",
       "      <th>SG&amp;A Expenses</th>\n",
       "      <th>Other Operating Income or Expenses</th>\n",
       "      <th>Operating Expenses</th>\n",
       "      <th>Operating Income</th>\n",
       "      <th>Total Non-Operating Income/Expense</th>\n",
       "      <th>Pre-Tax Income</th>\n",
       "      <th>Income Taxes</th>\n",
       "      <th>Income After Taxes</th>\n",
       "      <th>Income from Continuous Operations</th>\n",
       "      <th>Net Income</th>\n",
       "      <th>EBITDA</th>\n",
       "      <th>EBIT</th>\n",
       "      <th>Basic Shares Outstanding</th>\n",
       "      <th>Shares Outstanding</th>\n",
       "      <th>Basic EPS</th>\n",
       "      <th>EPS</th>\n",
       "    </tr>\n",
       "  </thead>\n",
       "  <tbody>\n",
       "    <tr>\n",
       "      <th>2021-09-30</th>\n",
       "      <td>110812</td>\n",
       "      <td>62930</td>\n",
       "      <td>47882</td>\n",
       "      <td>14380</td>\n",
       "      <td>28661</td>\n",
       "      <td>11.0</td>\n",
       "      <td>105960</td>\n",
       "      <td>4852</td>\n",
       "      <td>-537.0</td>\n",
       "      <td>4315</td>\n",
       "      <td>1155</td>\n",
       "      <td>3160</td>\n",
       "      <td>3156</td>\n",
       "      <td>3156</td>\n",
       "      <td>13800</td>\n",
       "      <td>4852</td>\n",
       "      <td>507</td>\n",
       "      <td>515</td>\n",
       "      <td>6.23</td>\n",
       "      <td>6.12</td>\n",
       "    </tr>\n",
       "    <tr>\n",
       "      <th>2021-06-30</th>\n",
       "      <td>113080</td>\n",
       "      <td>64176</td>\n",
       "      <td>48904</td>\n",
       "      <td>13871</td>\n",
       "      <td>27320</td>\n",
       "      <td>-11.0</td>\n",
       "      <td>105378</td>\n",
       "      <td>7702</td>\n",
       "      <td>932.0</td>\n",
       "      <td>8634</td>\n",
       "      <td>868</td>\n",
       "      <td>7766</td>\n",
       "      <td>7778</td>\n",
       "      <td>7778</td>\n",
       "      <td>15740</td>\n",
       "      <td>7702</td>\n",
       "      <td>505</td>\n",
       "      <td>514</td>\n",
       "      <td>15.40</td>\n",
       "      <td>15.12</td>\n",
       "    </tr>\n",
       "    <tr>\n",
       "      <th>2021-03-31</th>\n",
       "      <td>108518</td>\n",
       "      <td>62403</td>\n",
       "      <td>46115</td>\n",
       "      <td>12488</td>\n",
       "      <td>24724</td>\n",
       "      <td>-38.0</td>\n",
       "      <td>99653</td>\n",
       "      <td>8865</td>\n",
       "      <td>1403.0</td>\n",
       "      <td>10268</td>\n",
       "      <td>2156</td>\n",
       "      <td>8112</td>\n",
       "      <td>8107</td>\n",
       "      <td>8107</td>\n",
       "      <td>16373</td>\n",
       "      <td>8865</td>\n",
       "      <td>504</td>\n",
       "      <td>513</td>\n",
       "      <td>16.09</td>\n",
       "      <td>15.79</td>\n",
       "    </tr>\n",
       "    <tr>\n",
       "      <th>2020-12-31</th>\n",
       "      <td>125555</td>\n",
       "      <td>79284</td>\n",
       "      <td>46271</td>\n",
       "      <td>12051</td>\n",
       "      <td>27844</td>\n",
       "      <td>497.0</td>\n",
       "      <td>118682</td>\n",
       "      <td>6873</td>\n",
       "      <td>892.0</td>\n",
       "      <td>7765</td>\n",
       "      <td>566</td>\n",
       "      <td>7199</td>\n",
       "      <td>7222</td>\n",
       "      <td>7222</td>\n",
       "      <td>14491</td>\n",
       "      <td>6873</td>\n",
       "      <td>500</td>\n",
       "      <td>510</td>\n",
       "      <td>14.42</td>\n",
       "      <td>14.15</td>\n",
       "    </tr>\n",
       "    <tr>\n",
       "      <th>2020-09-30</th>\n",
       "      <td>96145</td>\n",
       "      <td>57106</td>\n",
       "      <td>39039</td>\n",
       "      <td>10976</td>\n",
       "      <td>21807</td>\n",
       "      <td>-62.0</td>\n",
       "      <td>89951</td>\n",
       "      <td>6194</td>\n",
       "      <td>615.0</td>\n",
       "      <td>6809</td>\n",
       "      <td>569</td>\n",
       "      <td>6240</td>\n",
       "      <td>6331</td>\n",
       "      <td>6331</td>\n",
       "      <td>12717</td>\n",
       "      <td>6194</td>\n",
       "      <td>501</td>\n",
       "      <td>512</td>\n",
       "      <td>12.63</td>\n",
       "      <td>12.37</td>\n",
       "    </tr>\n",
       "  </tbody>\n",
       "</table>\n",
       "</div>"
      ],
      "text/plain": [
       "            Revenue  Cost of Goods Sold  Gross Profit  \\\n",
       "2021-09-30   110812               62930         47882   \n",
       "2021-06-30   113080               64176         48904   \n",
       "2021-03-31   108518               62403         46115   \n",
       "2020-12-31   125555               79284         46271   \n",
       "2020-09-30    96145               57106         39039   \n",
       "\n",
       "            Research and Development Expenses   SG&A Expenses  \\\n",
       "2021-09-30                              14380           28661   \n",
       "2021-06-30                              13871           27320   \n",
       "2021-03-31                              12488           24724   \n",
       "2020-12-31                              12051           27844   \n",
       "2020-09-30                              10976           21807   \n",
       "\n",
       "            Other Operating Income or Expenses  Operating Expenses  \\\n",
       "2021-09-30                                11.0              105960   \n",
       "2021-06-30                               -11.0              105378   \n",
       "2021-03-31                               -38.0               99653   \n",
       "2020-12-31                               497.0              118682   \n",
       "2020-09-30                               -62.0               89951   \n",
       "\n",
       "            Operating Income  Total Non-Operating Income/Expense  \\\n",
       "2021-09-30              4852                              -537.0   \n",
       "2021-06-30              7702                               932.0   \n",
       "2021-03-31              8865                              1403.0   \n",
       "2020-12-31              6873                               892.0   \n",
       "2020-09-30              6194                               615.0   \n",
       "\n",
       "             Pre-Tax Income  Income Taxes  Income After Taxes  \\\n",
       "2021-09-30             4315          1155                3160   \n",
       "2021-06-30             8634           868                7766   \n",
       "2021-03-31            10268          2156                8112   \n",
       "2020-12-31             7765           566                7199   \n",
       "2020-09-30             6809           569                6240   \n",
       "\n",
       "            Income from Continuous Operations  Net Income  EBITDA  EBIT  \\\n",
       "2021-09-30                               3156        3156   13800  4852   \n",
       "2021-06-30                               7778        7778   15740  7702   \n",
       "2021-03-31                               8107        8107   16373  8865   \n",
       "2020-12-31                               7222        7222   14491  6873   \n",
       "2020-09-30                               6331        6331   12717  6194   \n",
       "\n",
       "            Basic Shares Outstanding  Shares Outstanding  Basic EPS    EPS  \n",
       "2021-09-30                       507                 515       6.23   6.12  \n",
       "2021-06-30                       505                 514      15.40  15.12  \n",
       "2021-03-31                       504                 513      16.09  15.79  \n",
       "2020-12-31                       500                 510      14.42  14.15  \n",
       "2020-09-30                       501                 512      12.63  12.37  "
      ]
     },
     "execution_count": 5,
     "metadata": {},
     "output_type": "execute_result"
    }
   ],
   "source": [
    "df=df.drop('Quaterly',axis=1)\n",
    "df.head()"
   ]
  },
  {
   "cell_type": "code",
   "execution_count": 6,
   "metadata": {},
   "outputs": [
    {
     "data": {
      "text/plain": [
       "<matplotlib.axes._subplots.AxesSubplot at 0x2a1e894f048>"
      ]
     },
     "execution_count": 6,
     "metadata": {},
     "output_type": "execute_result"
    },
    {
     "data": {
      "image/png": "[encoded data removed]",
      "text/plain": [
       "<Figure size 864x576 with 1 Axes>"
      ]
     },
     "metadata": {
      "needs_background": "light"
     },
     "output_type": "display_data"
    }
   ],
   "source": [
    "df['Research and Development Expenses'].plot(figsize=(12,8))"
   ]
  },
  {
   "cell_type": "markdown",
   "metadata": {},
   "source": [
    "### Dropping data after 2020-03-31"
   ]
  },
  {
   "cell_type": "code",
   "execution_count": 7,
   "metadata": {},
   "outputs": [],
   "source": [
    "new_df=df.iloc[6:]\n",
    "\n",
    "df_rev=pd.DataFrame()\n",
    "df_rev['Research and Development Expenses']=new_df['Research and Development Expenses'][::-1]\n",
    "df_rev=df_rev.set_index(new_df.index[::-1])"
   ]
  },
  {
   "cell_type": "code",
   "execution_count": 9,
   "metadata": {},
   "outputs": [],
   "source": [
    "plt.rcParams[\"ytick.color\"]='white'\n",
    "plt.rcParams[\"xtick.color\"]='white'"
   ]
  },
  {
   "cell_type": "code",
   "execution_count": 10,
   "metadata": {},
   "outputs": [
    {
     "data": {
      "image/png": "[encoded data removed]",
      "text/plain": [
       "<Figure size 432x288 with 4 Axes>"
      ]
     },
     "metadata": {
      "needs_background": "dark"
     },
     "output_type": "display_data"
    }
   ],
   "source": [
    "from statsmodels.tsa.seasonal import seasonal_decompose\n",
    "\n",
    "result = seasonal_decompose(df_rev['Research and Development Expenses'], model='mul')  # model='mul' also works\n",
    "result.plot();"
   ]
  },
  {
   "cell_type": "code",
   "execution_count": 11,
   "metadata": {},
   "outputs": [
    {
     "data": {
      "text/plain": [
       "[]"
      ]
     },
     "execution_count": 11,
     "metadata": {},
     "output_type": "execute_result"
    },
    {
     "data": {
      "image/png": "[encoded data removed]",
      "text/plain": [
       "<Figure size 864x432 with 1 Axes>"
      ]
     },
     "metadata": {
      "needs_background": "dark"
     },
     "output_type": "display_data"
    }
   ],
   "source": [
    "from statsmodels.tsa.holtwinters import ExponentialSmoothing\n",
    "\n",
    "df_rev['DESadd4'] = ExponentialSmoothing(df_rev['Research and Development Expenses'], trend='add').fit().fittedvalues.shift(-1)\n",
    "df_rev[['Research and Development Expenses','DESadd4']].iloc[40:].plot(figsize=(12,6)).plot()"
   ]
  },
  {
   "cell_type": "code",
   "execution_count": 12,
   "metadata": {},
   "outputs": [
    {
     "data": {
      "text/plain": [
       "[]"
      ]
     },
     "execution_count": 12,
     "metadata": {},
     "output_type": "execute_result"
    },
    {
     "data": {
      "image/png": "[encoded data removed]",
      "text/plain": [
       "<Figure size 864x432 with 1 Axes>"
      ]
     },
     "metadata": {
      "needs_background": "dark"
     },
     "output_type": "display_data"
    }
   ],
   "source": [
    "df_rev['TESadd12'] = ExponentialSmoothing(df_rev['Research and Development Expenses'],trend='add',seasonal='mul',seasonal_periods=4).fit().fittedvalues\n",
    "df_rev[['Research and Development Expenses','TESadd12']].iloc[40:].plot(figsize=(12,6)).plot()"
   ]
  },
  {
   "cell_type": "markdown",
   "metadata": {},
   "source": [
    "### Spliting Data\n"
   ]
  },
  {
   "cell_type": "code",
   "execution_count": 13,
   "metadata": {},
   "outputs": [],
   "source": [
    "train_data = df_rev.iloc[:56]\n",
    "test_data = df_rev.iloc[56:]"
   ]
  },
  {
   "cell_type": "code",
   "execution_count": 33,
   "metadata": {},
   "outputs": [
    {
     "data": {
      "image/png": "[encoded data removed]",
      "text/plain": [
       "<Figure size 864x576 with 1 Axes>"
      ]
     },
     "metadata": {
      "needs_background": "dark"
     },
     "output_type": "display_data"
    }
   ],
   "source": [
    "fitted_model1 = ExponentialSmoothing(train_data['Research and Development Expenses'],trend='add',seasonal='mul',seasonal_periods=4).fit()\n",
    "test_predictions = fitted_model1.forecast(5).rename('HW Forecast')\n",
    "test_data['Research and Development Expenses'].plot(legend=True,label='TEST',figsize=(12,8))\n",
    "test_predictions.plot(legend=True,label='PREDICTION');"
   ]
  },
  {
   "cell_type": "code",
   "execution_count": 34,
   "metadata": {},
   "outputs": [
    {
     "data": {
      "text/plain": [
       "6.761528704470213"
      ]
     },
     "execution_count": 34,
     "metadata": {},
     "output_type": "execute_result"
    }
   ],
   "source": [
    "mean_absolute_percentage_error(test_data['Research and Development Expenses'], test_predictions)"
   ]
  },
  {
   "cell_type": "markdown",
   "metadata": {},
   "source": [
    "#### Holt Winter MAPE 6.76"
   ]
  },
  {
   "cell_type": "code",
   "execution_count": 19,
   "metadata": {},
   "outputs": [
    {
     "data": {
      "image/png": "[encoded data removed]",
      "text/plain": [
       "<Figure size 864x576 with 1 Axes>"
      ]
     },
     "metadata": {
      "needs_background": "dark"
     },
     "output_type": "display_data"
    }
   ],
   "source": [
    "df_rev['Research and Development Expenses'].plot(legend=True,label='TEST',figsize=(12,8))\n",
    "test_predictions.plot(legend=True,label='PREDICTION');"
   ]
  },
  {
   "cell_type": "code",
   "execution_count": 41,
   "metadata": {},
   "outputs": [
    {
     "name": "stderr",
     "output_type": "stream",
     "text": [
      "C:\\Users\\aryan\\anaconda3\\lib\\site-packages\\statsmodels\\tsa\\holtwinters.py:744: ConvergenceWarning: Optimization failed to converge. Check mle_retvals.\n",
      "  ConvergenceWarning)\n"
     ]
    },
    {
     "data": {
      "text/plain": [
       "4.297081060312681"
      ]
     },
     "execution_count": 41,
     "metadata": {},
     "output_type": "execute_result"
    }
   ],
   "source": [
    "fitted_model1 = ExponentialSmoothing(train_data['Research and Development Expenses'],trend='mul',seasonal='add',seasonal_periods=4).fit()\n",
    "test_predictions = fitted_model1.forecast(5).rename('HW Forecast')\n",
    "mean_absolute_percentage_error(test_data['Research and Development Expenses'], test_predictions)"
   ]
  },
  {
   "cell_type": "code",
   "execution_count": 42,
   "metadata": {},
   "outputs": [
    {
     "data": {
      "image/png": "[encoded data removed]",
      "text/plain": [
       "<Figure size 864x576 with 1 Axes>"
      ]
     },
     "metadata": {
      "needs_background": "dark"
     },
     "output_type": "display_data"
    }
   ],
   "source": [
    "test_data['Research and Development Expenses'].plot(legend=True,label='TEST',figsize=(12,8))\n",
    "test_predictions.plot(legend=True,label='PREDICTION');"
   ]
  },
  {
   "cell_type": "code",
   "execution_count": 43,
   "metadata": {},
   "outputs": [
    {
     "data": {
      "image/png": "[encoded data removed]",
      "text/plain": [
       "<Figure size 864x576 with 1 Axes>"
      ]
     },
     "metadata": {
      "needs_background": "dark"
     },
     "output_type": "display_data"
    }
   ],
   "source": [
    "df_rev['Research and Development Expenses'].plot(legend=True,label='TEST',figsize=(12,8))\n",
    "test_predictions.plot(legend=True,label='PREDICTION');"
   ]
  },
  {
   "cell_type": "code",
   "execution_count": 44,
   "metadata": {},
   "outputs": [],
   "source": [
    "import warnings\n",
    "warnings.filterwarnings(\"ignore\")"
   ]
  },
  {
   "cell_type": "code",
   "execution_count": 45,
   "metadata": {},
   "outputs": [],
   "source": [
    "from statsmodels.tsa.ar_model import AR,ARResults\n",
    "start = len(train_data)\n",
    "end = len(train_data)+len(test_data)-1\n",
    "mape=[]\n",
    "rename = f'AR(1) Predictions'\n",
    "for i in range(1,13):\n",
    "    model = AR(train_data['Research and Development Expenses'])\n",
    "    ARfit = model.fit(maxlag=i,method='cmle')\n",
    "    #print(f'\\nLag: {ARfit.k_ar}')\n",
    "    #print(f'Coefficients:\\n{ARfit.params}')\n",
    "    predictions23 = ARfit.predict(start=start,end=end,dynamic=False).rename(rename)\n",
    "    #print(mean_absolute_percentage_error(test_data[col],predictions23))\n",
    "    mape.append([mean_absolute_percentage_error(test_data['Research and Development Expenses'],predictions23),i])"
   ]
  },
  {
   "cell_type": "code",
   "execution_count": 46,
   "metadata": {},
   "outputs": [
    {
     "data": {
      "text/plain": [
       "[3.8039634444537707, 2]"
      ]
     },
     "execution_count": 46,
     "metadata": {},
     "output_type": "execute_result"
    }
   ],
   "source": [
    "min(mape)"
   ]
  },
  {
   "cell_type": "code",
   "execution_count": 48,
   "metadata": {},
   "outputs": [
    {
     "name": "stdout",
     "output_type": "stream",
     "text": [
      "Lag: 2\n",
      "Coefficients:\n",
      "const                                   33.458079\n",
      "L1.Research and Development Expenses     0.853606\n",
      "L2.Research and Development Expenses     0.218258\n",
      "dtype: float64\n"
     ]
    },
    {
     "data": {
      "text/plain": [
       "3.8039634444537707"
      ]
     },
     "execution_count": 48,
     "metadata": {},
     "output_type": "execute_result"
    }
   ],
   "source": [
    "model = AR(train_data['Research and Development Expenses'])\n",
    "ARfit = model.fit(maxlag=2,method='cmle')\n",
    "print(f'Lag: {ARfit.k_ar}')\n",
    "print(f'Coefficients:\\n{ARfit.params}')\n",
    "predictions23 = ARfit.predict(start=start,end=end,dynamic=False).rename(rename)\n",
    "mean_absolute_percentage_error(test_data['Research and Development Expenses'],predictions23)"
   ]
  },
  {
   "cell_type": "code",
   "execution_count": 50,
   "metadata": {},
   "outputs": [
    {
     "data": {
      "image/png": "[encoded data removed]",
      "text/plain": [
       "<Figure size 432x288 with 1 Axes>"
      ]
     },
     "metadata": {
      "needs_background": "dark"
     },
     "output_type": "display_data"
    }
   ],
   "source": [
    "test_data['Research and Development Expenses'].plot(legend=True,label='TEST')\n",
    "predictions23.plot(legend=True,label='PREDICTION');"
   ]
  },
  {
   "cell_type": "code",
   "execution_count": 51,
   "metadata": {},
   "outputs": [
    {
     "data": {
      "image/png": "[encoded data removed]",
      "text/plain": [
       "<Figure size 432x288 with 1 Axes>"
      ]
     },
     "metadata": {
      "needs_background": "dark"
     },
     "output_type": "display_data"
    }
   ],
   "source": [
    "df_rev['Research and Development Expenses'].plot(legend=True,label='TEST')\n",
    "predictions23.plot(legend=True,label='PREDICTION');"
   ]
  },
  {
   "cell_type": "markdown",
   "metadata": {},
   "source": [
    "### Stationarity"
   ]
  },
  {
   "cell_type": "code",
   "execution_count": 52,
   "metadata": {},
   "outputs": [],
   "source": [
    "from statsmodels.tsa.stattools import adfuller\n",
    "\n",
    "def adf_test(series,title=''):\n",
    "    \"\"\"\n",
    "    Pass in a time series and an optional title, returns an ADF report\n",
    "    \"\"\"\n",
    "    print(f'Augmented Dickey-Fuller Test: {title}')\n",
    "    result = adfuller(series.dropna(),autolag='AIC') # .dropna() handles differenced data\n",
    "    \n",
    "    labels = ['ADF test statistic','p-value','# lags used','# observations']\n",
    "    out = pd.Series(result[0:4],index=labels)\n",
    "\n",
    "    for key,val in result[4].items():\n",
    "        out[f'critical value ({key})']=val\n",
    "        \n",
    "    print(out.to_string())          # .to_string() removes the line \"dtype: float64\"\n",
    "    \n",
    "    if result[1] <= 0.05:\n",
    "        print(\"Strong evidence against the null hypothesis\")\n",
    "        print(\"Reject the null hypothesis\")\n",
    "        print(\"Data has no unit root and is stationary\")\n",
    "    else:\n",
    "        print(\"Weak evidence against the null hypothesis\")\n",
    "        print(\"Fail to reject the null hypothesis\")\n",
    "        print(\"Data has a unit root and is non-stationary\")"
   ]
  },
  {
   "cell_type": "code",
   "execution_count": 55,
   "metadata": {},
   "outputs": [
    {
     "name": "stdout",
     "output_type": "stream",
     "text": [
      "Augmented Dickey-Fuller Test: \n",
      "ADF test statistic       1.015505\n",
      "p-value                  0.994427\n",
      "# lags used             11.000000\n",
      "# observations          44.000000\n",
      "critical value (1%)     -3.588573\n",
      "critical value (5%)     -2.929886\n",
      "critical value (10%)    -2.603185\n",
      "Weak evidence against the null hypothesis\n",
      "Fail to reject the null hypothesis\n",
      "Data has a unit root and is non-stationary\n"
     ]
    }
   ],
   "source": [
    "adf_test(train_data['Research and Development Expenses'],title='')"
   ]
  },
  {
   "cell_type": "code",
   "execution_count": 56,
   "metadata": {},
   "outputs": [],
   "source": [
    "diff = train_data['Research and Development Expenses'].diff()"
   ]
  },
  {
   "cell_type": "code",
   "execution_count": 57,
   "metadata": {},
   "outputs": [
    {
     "name": "stdout",
     "output_type": "stream",
     "text": [
      "Augmented Dickey-Fuller Test: \n",
      "ADF test statistic       3.329623\n",
      "p-value                  1.000000\n",
      "# lags used             11.000000\n",
      "# observations          43.000000\n",
      "critical value (1%)     -3.592504\n",
      "critical value (5%)     -2.931550\n",
      "critical value (10%)    -2.604066\n",
      "Weak evidence against the null hypothesis\n",
      "Fail to reject the null hypothesis\n",
      "Data has a unit root and is non-stationary\n"
     ]
    }
   ],
   "source": [
    "adf_test(diff,title='')"
   ]
  },
  {
   "cell_type": "markdown",
   "metadata": {},
   "source": [
    "1 "
   ]
  },
  {
   "cell_type": "code",
   "execution_count": 58,
   "metadata": {},
   "outputs": [],
   "source": [
    "diff = diff.diff()"
   ]
  },
  {
   "cell_type": "code",
   "execution_count": 59,
   "metadata": {},
   "outputs": [
    {
     "name": "stdout",
     "output_type": "stream",
     "text": [
      "Augmented Dickey-Fuller Test: \n",
      "ADF test statistic      -0.605212\n",
      "p-value                  0.869800\n",
      "# lags used             11.000000\n",
      "# observations          42.000000\n",
      "critical value (1%)     -3.596636\n",
      "critical value (5%)     -2.933297\n",
      "critical value (10%)    -2.604991\n",
      "Weak evidence against the null hypothesis\n",
      "Fail to reject the null hypothesis\n",
      "Data has a unit root and is non-stationary\n"
     ]
    }
   ],
   "source": [
    "adf_test(diff,title='')"
   ]
  },
  {
   "cell_type": "markdown",
   "metadata": {},
   "source": [
    "2"
   ]
  },
  {
   "cell_type": "code",
   "execution_count": 60,
   "metadata": {},
   "outputs": [
    {
     "name": "stdout",
     "output_type": "stream",
     "text": [
      "Augmented Dickey-Fuller Test: \n",
      "ADF test statistic      -4.995108\n",
      "p-value                  0.000023\n",
      "# lags used             11.000000\n",
      "# observations          41.000000\n",
      "critical value (1%)     -3.600983\n",
      "critical value (5%)     -2.935135\n",
      "critical value (10%)    -2.605963\n",
      "Strong evidence against the null hypothesis\n",
      "Reject the null hypothesis\n",
      "Data has no unit root and is stationary\n"
     ]
    }
   ],
   "source": [
    "diff = diff.diff()\n",
    "adf_test(diff,title='')"
   ]
  },
  {
   "cell_type": "markdown",
   "metadata": {},
   "source": [
    "3"
   ]
  },
  {
   "cell_type": "code",
   "execution_count": 61,
   "metadata": {},
   "outputs": [
    {
     "data": {
      "text/html": [
       "<table class=\"simpletable\">\n",
       "<caption>SARIMAX Results</caption>\n",
       "<tr>\n",
       "  <th>Dep. Variable:</th>           <td>y</td>        <th>  No. Observations:  </th>    <td>56</td>   \n",
       "</tr>\n",
       "<tr>\n",
       "  <th>Model:</th>           <td>SARIMAX(3, 2, 2)</td> <th>  Log Likelihood     </th> <td>-317.614</td>\n",
       "</tr>\n",
       "<tr>\n",
       "  <th>Date:</th>            <td>Thu, 17 Mar 2022</td> <th>  AIC                </th>  <td>647.227</td>\n",
       "</tr>\n",
       "<tr>\n",
       "  <th>Time:</th>                <td>12:06:49</td>     <th>  BIC                </th>  <td>659.161</td>\n",
       "</tr>\n",
       "<tr>\n",
       "  <th>Sample:</th>                  <td>0</td>        <th>  HQIC               </th>  <td>651.830</td>\n",
       "</tr>\n",
       "<tr>\n",
       "  <th></th>                       <td> - 56</td>      <th>                     </th>     <td> </td>   \n",
       "</tr>\n",
       "<tr>\n",
       "  <th>Covariance Type:</th>        <td>opg</td>       <th>                     </th>     <td> </td>   \n",
       "</tr>\n",
       "</table>\n",
       "<table class=\"simpletable\">\n",
       "<tr>\n",
       "     <td></td>       <th>coef</th>     <th>std err</th>      <th>z</th>      <th>P>|z|</th>  <th>[0.025</th>    <th>0.975]</th>  \n",
       "</tr>\n",
       "<tr>\n",
       "  <th>ar.L1</th>  <td>   -1.7011</td> <td>    0.060</td> <td>  -28.145</td> <td> 0.000</td> <td>   -1.820</td> <td>   -1.583</td>\n",
       "</tr>\n",
       "<tr>\n",
       "  <th>ar.L2</th>  <td>   -1.6867</td> <td>    0.080</td> <td>  -21.142</td> <td> 0.000</td> <td>   -1.843</td> <td>   -1.530</td>\n",
       "</tr>\n",
       "<tr>\n",
       "  <th>ar.L3</th>  <td>   -0.9369</td> <td>    0.047</td> <td>  -19.875</td> <td> 0.000</td> <td>   -1.029</td> <td>   -0.844</td>\n",
       "</tr>\n",
       "<tr>\n",
       "  <th>ma.L1</th>  <td>    1.1067</td> <td>    0.105</td> <td>   10.492</td> <td> 0.000</td> <td>    0.900</td> <td>    1.313</td>\n",
       "</tr>\n",
       "<tr>\n",
       "  <th>ma.L2</th>  <td>    0.8113</td> <td>    0.123</td> <td>    6.574</td> <td> 0.000</td> <td>    0.569</td> <td>    1.053</td>\n",
       "</tr>\n",
       "<tr>\n",
       "  <th>sigma2</th> <td> 6608.7026</td> <td> 1115.596</td> <td>    5.924</td> <td> 0.000</td> <td> 4422.175</td> <td> 8795.231</td>\n",
       "</tr>\n",
       "</table>\n",
       "<table class=\"simpletable\">\n",
       "<tr>\n",
       "  <th>Ljung-Box (Q):</th>           <td>21.07</td> <th>  Jarque-Bera (JB):  </th> <td>41.52</td>\n",
       "</tr>\n",
       "<tr>\n",
       "  <th>Prob(Q):</th>                 <td>0.99</td>  <th>  Prob(JB):          </th> <td>0.00</td> \n",
       "</tr>\n",
       "<tr>\n",
       "  <th>Heteroskedasticity (H):</th> <td>296.96</td> <th>  Skew:              </th> <td>-1.17</td>\n",
       "</tr>\n",
       "<tr>\n",
       "  <th>Prob(H) (two-sided):</th>     <td>0.00</td>  <th>  Kurtosis:          </th> <td>6.60</td> \n",
       "</tr>\n",
       "</table><br/><br/>Warnings:<br/>[1] Covariance matrix calculated using the outer product of gradients (complex-step)."
      ],
      "text/plain": [
       "<class 'statsmodels.iolib.summary.Summary'>\n",
       "\"\"\"\n",
       "                               SARIMAX Results                                \n",
       "==============================================================================\n",
       "Dep. Variable:                      y   No. Observations:                   56\n",
       "Model:               SARIMAX(3, 2, 2)   Log Likelihood                -317.614\n",
       "Date:                Thu, 17 Mar 2022   AIC                            647.227\n",
       "Time:                        12:06:49   BIC                            659.161\n",
       "Sample:                             0   HQIC                           651.830\n",
       "                                 - 56                                         \n",
       "Covariance Type:                  opg                                         \n",
       "==============================================================================\n",
       "                 coef    std err          z      P>|z|      [0.025      0.975]\n",
       "------------------------------------------------------------------------------\n",
       "ar.L1         -1.7011      0.060    -28.145      0.000      -1.820      -1.583\n",
       "ar.L2         -1.6867      0.080    -21.142      0.000      -1.843      -1.530\n",
       "ar.L3         -0.9369      0.047    -19.875      0.000      -1.029      -0.844\n",
       "ma.L1          1.1067      0.105     10.492      0.000       0.900       1.313\n",
       "ma.L2          0.8113      0.123      6.574      0.000       0.569       1.053\n",
       "sigma2      6608.7026   1115.596      5.924      0.000    4422.175    8795.231\n",
       "===================================================================================\n",
       "Ljung-Box (Q):                       21.07   Jarque-Bera (JB):                41.52\n",
       "Prob(Q):                              0.99   Prob(JB):                         0.00\n",
       "Heteroskedasticity (H):             296.96   Skew:                            -1.17\n",
       "Prob(H) (two-sided):                  0.00   Kurtosis:                         6.60\n",
       "===================================================================================\n",
       "\n",
       "Warnings:\n",
       "[1] Covariance matrix calculated using the outer product of gradients (complex-step).\n",
       "\"\"\""
      ]
     },
     "execution_count": 61,
     "metadata": {},
     "output_type": "execute_result"
    }
   ],
   "source": [
    "from pmdarima import auto_arima\n",
    "auto_arima(train_data['Research and Development Expenses']).summary()"
   ]
  },
  {
   "cell_type": "code",
   "execution_count": 81,
   "metadata": {},
   "outputs": [
    {
     "data": {
      "text/html": [
       "<table class=\"simpletable\">\n",
       "<caption>ARIMA Model Results</caption>\n",
       "<tr>\n",
       "  <th>Dep. Variable:</th> <td>D2.Research and Development Expenses</td> <th>  No. Observations:  </th>    <td>54</td>   \n",
       "</tr>\n",
       "<tr>\n",
       "  <th>Model:</th>                    <td>ARIMA(3, 2, 0)</td>            <th>  Log Likelihood     </th> <td>-327.354</td>\n",
       "</tr>\n",
       "<tr>\n",
       "  <th>Method:</th>                       <td>css-mle</td>               <th>  S.D. of innovations</th>  <td>102.257</td>\n",
       "</tr>\n",
       "<tr>\n",
       "  <th>Date:</th>                    <td>Thu, 17 Mar 2022</td>           <th>  AIC                </th>  <td>664.707</td>\n",
       "</tr>\n",
       "<tr>\n",
       "  <th>Time:</th>                        <td>12:09:50</td>               <th>  BIC                </th>  <td>674.652</td>\n",
       "</tr>\n",
       "<tr>\n",
       "  <th>Sample:</th>                     <td>09-30-2005</td>              <th>  HQIC               </th>  <td>668.542</td>\n",
       "</tr>\n",
       "<tr>\n",
       "  <th></th>                           <td>- 12-31-2018</td>             <th>                     </th>     <td> </td>   \n",
       "</tr>\n",
       "</table>\n",
       "<table class=\"simpletable\">\n",
       "<tr>\n",
       "                       <td></td>                         <th>coef</th>     <th>std err</th>      <th>z</th>      <th>P>|z|</th>  <th>[0.025</th>    <th>0.975]</th>  \n",
       "</tr>\n",
       "<tr>\n",
       "  <th>const</th>                                      <td>    5.5391</td> <td>    4.282</td> <td>    1.294</td> <td> 0.196</td> <td>   -2.853</td> <td>   13.931</td>\n",
       "</tr>\n",
       "<tr>\n",
       "  <th>ar.L1.D2.Research and Development Expenses</th> <td>   -1.0957</td> <td>    0.124</td> <td>   -8.847</td> <td> 0.000</td> <td>   -1.338</td> <td>   -0.853</td>\n",
       "</tr>\n",
       "<tr>\n",
       "  <th>ar.L2.D2.Research and Development Expenses</th> <td>   -0.7660</td> <td>    0.194</td> <td>   -3.957</td> <td> 0.000</td> <td>   -1.145</td> <td>   -0.387</td>\n",
       "</tr>\n",
       "<tr>\n",
       "  <th>ar.L3.D2.Research and Development Expenses</th> <td>   -0.4727</td> <td>    0.154</td> <td>   -3.074</td> <td> 0.002</td> <td>   -0.774</td> <td>   -0.171</td>\n",
       "</tr>\n",
       "</table>\n",
       "<table class=\"simpletable\">\n",
       "<caption>Roots</caption>\n",
       "<tr>\n",
       "    <td></td>   <th>            Real</th>  <th>         Imaginary</th> <th>         Modulus</th>  <th>        Frequency</th>\n",
       "</tr>\n",
       "<tr>\n",
       "  <th>AR.1</th> <td>          -1.1776</td> <td>          -0.0000j</td> <td>           1.1776</td> <td>          -0.5000</td>\n",
       "</tr>\n",
       "<tr>\n",
       "  <th>AR.2</th> <td>          -0.2215</td> <td>          -1.3219j</td> <td>           1.3403</td> <td>          -0.2764</td>\n",
       "</tr>\n",
       "<tr>\n",
       "  <th>AR.3</th> <td>          -0.2215</td> <td>          +1.3219j</td> <td>           1.3403</td> <td>           0.2764</td>\n",
       "</tr>\n",
       "</table>"
      ],
      "text/plain": [
       "<class 'statsmodels.iolib.summary.Summary'>\n",
       "\"\"\"\n",
       "                                      ARIMA Model Results                                       \n",
       "================================================================================================\n",
       "Dep. Variable:     D2.Research and Development Expenses   No. Observations:                   54\n",
       "Model:                                   ARIMA(3, 2, 0)   Log Likelihood                -327.354\n",
       "Method:                                         css-mle   S.D. of innovations            102.257\n",
       "Date:                                  Thu, 17 Mar 2022   AIC                            664.707\n",
       "Time:                                          12:09:50   BIC                            674.652\n",
       "Sample:                                      09-30-2005   HQIC                           668.542\n",
       "                                           - 12-31-2018                                         \n",
       "==============================================================================================================\n",
       "                                                 coef    std err          z      P>|z|      [0.025      0.975]\n",
       "--------------------------------------------------------------------------------------------------------------\n",
       "const                                          5.5391      4.282      1.294      0.196      -2.853      13.931\n",
       "ar.L1.D2.Research and Development Expenses    -1.0957      0.124     -8.847      0.000      -1.338      -0.853\n",
       "ar.L2.D2.Research and Development Expenses    -0.7660      0.194     -3.957      0.000      -1.145      -0.387\n",
       "ar.L3.D2.Research and Development Expenses    -0.4727      0.154     -3.074      0.002      -0.774      -0.171\n",
       "                                    Roots                                    \n",
       "=============================================================================\n",
       "                  Real          Imaginary           Modulus         Frequency\n",
       "-----------------------------------------------------------------------------\n",
       "AR.1           -1.1776           -0.0000j            1.1776           -0.5000\n",
       "AR.2           -0.2215           -1.3219j            1.3403           -0.2764\n",
       "AR.3           -0.2215           +1.3219j            1.3403            0.2764\n",
       "-----------------------------------------------------------------------------\n",
       "\"\"\""
      ]
     },
     "execution_count": 81,
     "metadata": {},
     "output_type": "execute_result"
    }
   ],
   "source": [
    "from statsmodels.tsa.arima_model import ARMA,ARMAResults,ARIMA,ARIMAResults\n",
    "from statsmodels.graphics.tsaplots import plot_acf,plot_pacf\n",
    "\n",
    "model = ARIMA(train_data['Research and Development Expenses'],order=(3,2,0))\n",
    "results = model.fit()\n",
    "results.summary()"
   ]
  },
  {
   "cell_type": "code",
   "execution_count": 82,
   "metadata": {},
   "outputs": [
    {
     "data": {
      "text/plain": [
       "100.5817426689714"
      ]
     },
     "execution_count": 82,
     "metadata": {},
     "output_type": "execute_result"
    }
   ],
   "source": [
    "start=len(train_data)\n",
    "end=len(train_data)+len(test_data)-1\n",
    "predictions = results.predict(start=start, end=end).rename('ARIMA(2,2) Predictions')\n",
    "mean_absolute_percentage_error(test_data['Research and Development Expenses'],predictions)"
   ]
  },
  {
   "cell_type": "code",
   "execution_count": 68,
   "metadata": {},
   "outputs": [
    {
     "data": {
      "image/png": "[encoded data removed]",
      "text/plain": [
       "<Figure size 432x288 with 1 Axes>"
      ]
     },
     "metadata": {
      "needs_background": "dark"
     },
     "output_type": "display_data"
    }
   ],
   "source": [
    "test_data['Research and Development Expenses'].plot(legend=True,label='TEST')\n",
    "predictions.plot(legend=True,label='PREDICTION');"
   ]
  },
  {
   "cell_type": "code",
   "execution_count": 83,
   "metadata": {},
   "outputs": [
    {
     "data": {
      "text/html": [
       "<table class=\"simpletable\">\n",
       "<caption>SARIMAX Results</caption>\n",
       "<tr>\n",
       "  <th>Dep. Variable:</th>                  <td>y</td>                <th>  No. Observations:  </th>    <td>56</td>   \n",
       "</tr>\n",
       "<tr>\n",
       "  <th>Model:</th>           <td>SARIMAX(0, 2, 3)x(0, 0, [1], 4)</td> <th>  Log Likelihood     </th> <td>-326.111</td>\n",
       "</tr>\n",
       "<tr>\n",
       "  <th>Date:</th>                   <td>Thu, 17 Mar 2022</td>         <th>  AIC                </th>  <td>662.222</td>\n",
       "</tr>\n",
       "<tr>\n",
       "  <th>Time:</th>                       <td>12:10:27</td>             <th>  BIC                </th>  <td>672.167</td>\n",
       "</tr>\n",
       "<tr>\n",
       "  <th>Sample:</th>                         <td>0</td>                <th>  HQIC               </th>  <td>666.057</td>\n",
       "</tr>\n",
       "<tr>\n",
       "  <th></th>                              <td> - 56</td>              <th>                     </th>     <td> </td>   \n",
       "</tr>\n",
       "<tr>\n",
       "  <th>Covariance Type:</th>               <td>opg</td>               <th>                     </th>     <td> </td>   \n",
       "</tr>\n",
       "</table>\n",
       "<table class=\"simpletable\">\n",
       "<tr>\n",
       "     <td></td>        <th>coef</th>     <th>std err</th>      <th>z</th>      <th>P>|z|</th>  <th>[0.025</th>    <th>0.975]</th>  \n",
       "</tr>\n",
       "<tr>\n",
       "  <th>ma.L1</th>   <td>   -1.2076</td> <td>    0.081</td> <td>  -14.947</td> <td> 0.000</td> <td>   -1.366</td> <td>   -1.049</td>\n",
       "</tr>\n",
       "<tr>\n",
       "  <th>ma.L2</th>   <td>    1.0524</td> <td>    0.117</td> <td>    8.977</td> <td> 0.000</td> <td>    0.823</td> <td>    1.282</td>\n",
       "</tr>\n",
       "<tr>\n",
       "  <th>ma.L3</th>   <td>   -0.6104</td> <td>    0.157</td> <td>   -3.888</td> <td> 0.000</td> <td>   -0.918</td> <td>   -0.303</td>\n",
       "</tr>\n",
       "<tr>\n",
       "  <th>ma.S.L4</th> <td>    0.5694</td> <td>    0.356</td> <td>    1.600</td> <td> 0.110</td> <td>   -0.128</td> <td>    1.267</td>\n",
       "</tr>\n",
       "<tr>\n",
       "  <th>sigma2</th>  <td> 9812.0532</td> <td> 1540.053</td> <td>    6.371</td> <td> 0.000</td> <td> 6793.606</td> <td> 1.28e+04</td>\n",
       "</tr>\n",
       "</table>\n",
       "<table class=\"simpletable\">\n",
       "<tr>\n",
       "  <th>Ljung-Box (Q):</th>           <td>16.65</td> <th>  Jarque-Bera (JB):  </th> <td>70.20</td>\n",
       "</tr>\n",
       "<tr>\n",
       "  <th>Prob(Q):</th>                 <td>1.00</td>  <th>  Prob(JB):          </th> <td>0.00</td> \n",
       "</tr>\n",
       "<tr>\n",
       "  <th>Heteroskedasticity (H):</th> <td>197.36</td> <th>  Skew:              </th> <td>-0.98</td>\n",
       "</tr>\n",
       "<tr>\n",
       "  <th>Prob(H) (two-sided):</th>     <td>0.00</td>  <th>  Kurtosis:          </th> <td>8.23</td> \n",
       "</tr>\n",
       "</table><br/><br/>Warnings:<br/>[1] Covariance matrix calculated using the outer product of gradients (complex-step)."
      ],
      "text/plain": [
       "<class 'statsmodels.iolib.summary.Summary'>\n",
       "\"\"\"\n",
       "                                      SARIMAX Results                                      \n",
       "===========================================================================================\n",
       "Dep. Variable:                                   y   No. Observations:                   56\n",
       "Model:             SARIMAX(0, 2, 3)x(0, 0, [1], 4)   Log Likelihood                -326.111\n",
       "Date:                             Thu, 17 Mar 2022   AIC                            662.222\n",
       "Time:                                     12:10:27   BIC                            672.167\n",
       "Sample:                                          0   HQIC                           666.057\n",
       "                                              - 56                                         \n",
       "Covariance Type:                               opg                                         \n",
       "==============================================================================\n",
       "                 coef    std err          z      P>|z|      [0.025      0.975]\n",
       "------------------------------------------------------------------------------\n",
       "ma.L1         -1.2076      0.081    -14.947      0.000      -1.366      -1.049\n",
       "ma.L2          1.0524      0.117      8.977      0.000       0.823       1.282\n",
       "ma.L3         -0.6104      0.157     -3.888      0.000      -0.918      -0.303\n",
       "ma.S.L4        0.5694      0.356      1.600      0.110      -0.128       1.267\n",
       "sigma2      9812.0532   1540.053      6.371      0.000    6793.606    1.28e+04\n",
       "===================================================================================\n",
       "Ljung-Box (Q):                       16.65   Jarque-Bera (JB):                70.20\n",
       "Prob(Q):                              1.00   Prob(JB):                         0.00\n",
       "Heteroskedasticity (H):             197.36   Skew:                            -0.98\n",
       "Prob(H) (two-sided):                  0.00   Kurtosis:                         8.23\n",
       "===================================================================================\n",
       "\n",
       "Warnings:\n",
       "[1] Covariance matrix calculated using the outer product of gradients (complex-step).\n",
       "\"\"\""
      ]
     },
     "execution_count": 83,
     "metadata": {},
     "output_type": "execute_result"
    }
   ],
   "source": [
    "from pmdarima import auto_arima\n",
    "auto_arima(train_data['Research and Development Expenses'],m=4).summary()"
   ]
  },
  {
   "cell_type": "code",
   "execution_count": 85,
   "metadata": {},
   "outputs": [
    {
     "data": {
      "text/html": [
       "<table class=\"simpletable\">\n",
       "<caption>SARIMAX Results</caption>\n",
       "<tr>\n",
       "  <th>Dep. Variable:</th>   <td>Research and Development Expenses</td> <th>  No. Observations:  </th>    <td>56</td>   \n",
       "</tr>\n",
       "<tr>\n",
       "  <th>Model:</th>            <td>SARIMAX(0, 2, 3)x(0, 0, [1], 4)</td>  <th>  Log Likelihood     </th> <td>-326.111</td>\n",
       "</tr>\n",
       "<tr>\n",
       "  <th>Date:</th>                    <td>Thu, 17 Mar 2022</td>          <th>  AIC                </th>  <td>662.222</td>\n",
       "</tr>\n",
       "<tr>\n",
       "  <th>Time:</th>                        <td>12:11:03</td>              <th>  BIC                </th>  <td>672.167</td>\n",
       "</tr>\n",
       "<tr>\n",
       "  <th>Sample:</th>                     <td>03-31-2005</td>             <th>  HQIC               </th>  <td>666.057</td>\n",
       "</tr>\n",
       "<tr>\n",
       "  <th></th>                           <td>- 12-31-2018</td>            <th>                     </th>     <td> </td>   \n",
       "</tr>\n",
       "<tr>\n",
       "  <th>Covariance Type:</th>                <td>opg</td>                <th>                     </th>     <td> </td>   \n",
       "</tr>\n",
       "</table>\n",
       "<table class=\"simpletable\">\n",
       "<tr>\n",
       "     <td></td>        <th>coef</th>     <th>std err</th>      <th>z</th>      <th>P>|z|</th>  <th>[0.025</th>    <th>0.975]</th>  \n",
       "</tr>\n",
       "<tr>\n",
       "  <th>ma.L1</th>   <td>   -1.2076</td> <td>    0.081</td> <td>  -14.947</td> <td> 0.000</td> <td>   -1.366</td> <td>   -1.049</td>\n",
       "</tr>\n",
       "<tr>\n",
       "  <th>ma.L2</th>   <td>    1.0524</td> <td>    0.117</td> <td>    8.977</td> <td> 0.000</td> <td>    0.823</td> <td>    1.282</td>\n",
       "</tr>\n",
       "<tr>\n",
       "  <th>ma.L3</th>   <td>   -0.6104</td> <td>    0.157</td> <td>   -3.888</td> <td> 0.000</td> <td>   -0.918</td> <td>   -0.303</td>\n",
       "</tr>\n",
       "<tr>\n",
       "  <th>ma.S.L4</th> <td>    0.5694</td> <td>    0.356</td> <td>    1.600</td> <td> 0.110</td> <td>   -0.128</td> <td>    1.267</td>\n",
       "</tr>\n",
       "<tr>\n",
       "  <th>sigma2</th>  <td> 9812.0532</td> <td> 1540.053</td> <td>    6.371</td> <td> 0.000</td> <td> 6793.606</td> <td> 1.28e+04</td>\n",
       "</tr>\n",
       "</table>\n",
       "<table class=\"simpletable\">\n",
       "<tr>\n",
       "  <th>Ljung-Box (Q):</th>           <td>16.65</td> <th>  Jarque-Bera (JB):  </th> <td>70.20</td>\n",
       "</tr>\n",
       "<tr>\n",
       "  <th>Prob(Q):</th>                 <td>1.00</td>  <th>  Prob(JB):          </th> <td>0.00</td> \n",
       "</tr>\n",
       "<tr>\n",
       "  <th>Heteroskedasticity (H):</th> <td>197.36</td> <th>  Skew:              </th> <td>-0.98</td>\n",
       "</tr>\n",
       "<tr>\n",
       "  <th>Prob(H) (two-sided):</th>     <td>0.00</td>  <th>  Kurtosis:          </th> <td>8.23</td> \n",
       "</tr>\n",
       "</table><br/><br/>Warnings:<br/>[1] Covariance matrix calculated using the outer product of gradients (complex-step)."
      ],
      "text/plain": [
       "<class 'statsmodels.iolib.summary.Summary'>\n",
       "\"\"\"\n",
       "                                       SARIMAX Results                                       \n",
       "=============================================================================================\n",
       "Dep. Variable:     Research and Development Expenses   No. Observations:                   56\n",
       "Model:               SARIMAX(0, 2, 3)x(0, 0, [1], 4)   Log Likelihood                -326.111\n",
       "Date:                               Thu, 17 Mar 2022   AIC                            662.222\n",
       "Time:                                       12:11:03   BIC                            672.167\n",
       "Sample:                                   03-31-2005   HQIC                           666.057\n",
       "                                        - 12-31-2018                                         \n",
       "Covariance Type:                                 opg                                         \n",
       "==============================================================================\n",
       "                 coef    std err          z      P>|z|      [0.025      0.975]\n",
       "------------------------------------------------------------------------------\n",
       "ma.L1         -1.2076      0.081    -14.947      0.000      -1.366      -1.049\n",
       "ma.L2          1.0524      0.117      8.977      0.000       0.823       1.282\n",
       "ma.L3         -0.6104      0.157     -3.888      0.000      -0.918      -0.303\n",
       "ma.S.L4        0.5694      0.356      1.600      0.110      -0.128       1.267\n",
       "sigma2      9812.0532   1540.053      6.371      0.000    6793.606    1.28e+04\n",
       "===================================================================================\n",
       "Ljung-Box (Q):                       16.65   Jarque-Bera (JB):                70.20\n",
       "Prob(Q):                              1.00   Prob(JB):                         0.00\n",
       "Heteroskedasticity (H):             197.36   Skew:                            -0.98\n",
       "Prob(H) (two-sided):                  0.00   Kurtosis:                         8.23\n",
       "===================================================================================\n",
       "\n",
       "Warnings:\n",
       "[1] Covariance matrix calculated using the outer product of gradients (complex-step).\n",
       "\"\"\""
      ]
     },
     "execution_count": 85,
     "metadata": {},
     "output_type": "execute_result"
    }
   ],
   "source": [
    "from statsmodels.tsa.statespace.sarimax import SARIMAX\n",
    "\n",
    "model = SARIMAX(train_data['Research and Development Expenses'],order=(0,2,3),seasonal_order=(0,0,[1],4))\n",
    "results = model.fit()\n",
    "results.summary()"
   ]
  },
  {
   "cell_type": "code",
   "execution_count": 86,
   "metadata": {},
   "outputs": [
    {
     "data": {
      "text/plain": [
       "10.468066128941595"
      ]
     },
     "execution_count": 86,
     "metadata": {},
     "output_type": "execute_result"
    }
   ],
   "source": [
    "start=len(train_data)\n",
    "end=len(train_data)+len(test_data)-1\n",
    "predictions = results.predict(start=start, end=end).rename('ARIMA(2,2) Predictions')\n",
    "mean_absolute_percentage_error(test_data['Research and Development Expenses'],predictions)"
   ]
  },
  {
   "cell_type": "code",
   "execution_count": 87,
   "metadata": {},
   "outputs": [
    {
     "data": {
      "image/png": "[encoded data removed]",
      "text/plain": [
       "<Figure size 432x288 with 1 Axes>"
      ]
     },
     "metadata": {
      "needs_background": "dark"
     },
     "output_type": "display_data"
    }
   ],
   "source": [
    "test_data['Research and Development Expenses'].plot(legend=True,label='TEST')\n",
    "predictions.plot(legend=True,label='PREDICTION');"
   ]
  },
  {
   "cell_type": "markdown",
   "metadata": {},
   "source": [
    "### FB Prophet"
   ]
  },
  {
   "cell_type": "code",
   "execution_count": 88,
   "metadata": {},
   "outputs": [],
   "source": [
    "from prophet import Prophet\n",
    "df_rev_fb=pd.DataFrame()\n",
    "\n",
    "\n",
    "df_rev_fb['y']=new_df['Research and Development Expenses'][::-1]\n",
    "df_rev_fb['ds']=new_df.index[::-1]"
   ]
  },
  {
   "cell_type": "code",
   "execution_count": 90,
   "metadata": {},
   "outputs": [
    {
     "name": "stderr",
     "output_type": "stream",
     "text": [
      "INFO:prophet:Disabling weekly seasonality. Run prophet with weekly_seasonality=True to override this.\n",
      "INFO:prophet:Disabling daily seasonality. Run prophet with daily_seasonality=True to override this.\n"
     ]
    },
    {
     "data": {
      "text/html": [
       "<div>\n",
       "<style scoped>\n",
       "    .dataframe tbody tr th:only-of-type {\n",
       "        vertical-align: middle;\n",
       "    }\n",
       "\n",
       "    .dataframe tbody tr th {\n",
       "        vertical-align: top;\n",
       "    }\n",
       "\n",
       "    .dataframe thead th {\n",
       "        text-align: right;\n",
       "    }\n",
       "</style>\n",
       "<table border=\"1\" class=\"dataframe\">\n",
       "  <thead>\n",
       "    <tr style=\"text-align: right;\">\n",
       "      <th></th>\n",
       "      <th>ds</th>\n",
       "      <th>trend</th>\n",
       "      <th>yhat_lower</th>\n",
       "      <th>yhat_upper</th>\n",
       "      <th>trend_lower</th>\n",
       "      <th>trend_upper</th>\n",
       "      <th>additive_terms</th>\n",
       "      <th>additive_terms_lower</th>\n",
       "      <th>additive_terms_upper</th>\n",
       "      <th>yearly</th>\n",
       "      <th>yearly_lower</th>\n",
       "      <th>yearly_upper</th>\n",
       "      <th>multiplicative_terms</th>\n",
       "      <th>multiplicative_terms_lower</th>\n",
       "      <th>multiplicative_terms_upper</th>\n",
       "      <th>yhat</th>\n",
       "    </tr>\n",
       "  </thead>\n",
       "  <tbody>\n",
       "    <tr>\n",
       "      <th>56</th>\n",
       "      <td>2019-03-31</td>\n",
       "      <td>-2241.633026</td>\n",
       "      <td>7964.463779</td>\n",
       "      <td>8171.937496</td>\n",
       "      <td>-2244.415180</td>\n",
       "      <td>-2237.932161</td>\n",
       "      <td>10307.798620</td>\n",
       "      <td>10307.798620</td>\n",
       "      <td>10307.798620</td>\n",
       "      <td>10307.798620</td>\n",
       "      <td>10307.798620</td>\n",
       "      <td>10307.798620</td>\n",
       "      <td>0.0</td>\n",
       "      <td>0.0</td>\n",
       "      <td>0.0</td>\n",
       "      <td>8066.165594</td>\n",
       "    </tr>\n",
       "    <tr>\n",
       "      <th>57</th>\n",
       "      <td>2019-06-30</td>\n",
       "      <td>-1880.578789</td>\n",
       "      <td>8335.758160</td>\n",
       "      <td>8546.322721</td>\n",
       "      <td>-1897.592284</td>\n",
       "      <td>-1862.016099</td>\n",
       "      <td>10323.788932</td>\n",
       "      <td>10323.788932</td>\n",
       "      <td>10323.788932</td>\n",
       "      <td>10323.788932</td>\n",
       "      <td>10323.788932</td>\n",
       "      <td>10323.788932</td>\n",
       "      <td>0.0</td>\n",
       "      <td>0.0</td>\n",
       "      <td>0.0</td>\n",
       "      <td>8443.210143</td>\n",
       "    </tr>\n",
       "    <tr>\n",
       "      <th>58</th>\n",
       "      <td>2019-09-30</td>\n",
       "      <td>-1515.556923</td>\n",
       "      <td>8638.344075</td>\n",
       "      <td>8873.339244</td>\n",
       "      <td>-1553.504782</td>\n",
       "      <td>-1474.894699</td>\n",
       "      <td>10273.808990</td>\n",
       "      <td>10273.808990</td>\n",
       "      <td>10273.808990</td>\n",
       "      <td>10273.808990</td>\n",
       "      <td>10273.808990</td>\n",
       "      <td>10273.808990</td>\n",
       "      <td>0.0</td>\n",
       "      <td>0.0</td>\n",
       "      <td>0.0</td>\n",
       "      <td>8758.252067</td>\n",
       "    </tr>\n",
       "    <tr>\n",
       "      <th>59</th>\n",
       "      <td>2019-12-31</td>\n",
       "      <td>-1150.535057</td>\n",
       "      <td>9046.173110</td>\n",
       "      <td>9301.974186</td>\n",
       "      <td>-1215.440582</td>\n",
       "      <td>-1085.170256</td>\n",
       "      <td>10328.897177</td>\n",
       "      <td>10328.897177</td>\n",
       "      <td>10328.897177</td>\n",
       "      <td>10328.897177</td>\n",
       "      <td>10328.897177</td>\n",
       "      <td>10328.897177</td>\n",
       "      <td>0.0</td>\n",
       "      <td>0.0</td>\n",
       "      <td>0.0</td>\n",
       "      <td>9178.362119</td>\n",
       "    </tr>\n",
       "    <tr>\n",
       "      <th>60</th>\n",
       "      <td>2020-03-31</td>\n",
       "      <td>-789.480820</td>\n",
       "      <td>9231.506113</td>\n",
       "      <td>9520.908864</td>\n",
       "      <td>-881.779609</td>\n",
       "      <td>-696.777215</td>\n",
       "      <td>10164.653771</td>\n",
       "      <td>10164.653771</td>\n",
       "      <td>10164.653771</td>\n",
       "      <td>10164.653771</td>\n",
       "      <td>10164.653771</td>\n",
       "      <td>10164.653771</td>\n",
       "      <td>0.0</td>\n",
       "      <td>0.0</td>\n",
       "      <td>0.0</td>\n",
       "      <td>9375.172951</td>\n",
       "    </tr>\n",
       "  </tbody>\n",
       "</table>\n",
       "</div>"
      ],
      "text/plain": [
       "           ds        trend   yhat_lower   yhat_upper  trend_lower  \\\n",
       "56 2019-03-31 -2241.633026  7964.463779  8171.937496 -2244.415180   \n",
       "57 2019-06-30 -1880.578789  8335.758160  8546.322721 -1897.592284   \n",
       "58 2019-09-30 -1515.556923  8638.344075  8873.339244 -1553.504782   \n",
       "59 2019-12-31 -1150.535057  9046.173110  9301.974186 -1215.440582   \n",
       "60 2020-03-31  -789.480820  9231.506113  9520.908864  -881.779609   \n",
       "\n",
       "    trend_upper  additive_terms  additive_terms_lower  additive_terms_upper  \\\n",
       "56 -2237.932161    10307.798620          10307.798620          10307.798620   \n",
       "57 -1862.016099    10323.788932          10323.788932          10323.788932   \n",
       "58 -1474.894699    10273.808990          10273.808990          10273.808990   \n",
       "59 -1085.170256    10328.897177          10328.897177          10328.897177   \n",
       "60  -696.777215    10164.653771          10164.653771          10164.653771   \n",
       "\n",
       "          yearly  yearly_lower  yearly_upper  multiplicative_terms  \\\n",
       "56  10307.798620  10307.798620  10307.798620                   0.0   \n",
       "57  10323.788932  10323.788932  10323.788932                   0.0   \n",
       "58  10273.808990  10273.808990  10273.808990                   0.0   \n",
       "59  10328.897177  10328.897177  10328.897177                   0.0   \n",
       "60  10164.653771  10164.653771  10164.653771                   0.0   \n",
       "\n",
       "    multiplicative_terms_lower  multiplicative_terms_upper         yhat  \n",
       "56                         0.0                         0.0  8066.165594  \n",
       "57                         0.0                         0.0  8443.210143  \n",
       "58                         0.0                         0.0  8758.252067  \n",
       "59                         0.0                         0.0  9178.362119  \n",
       "60                         0.0                         0.0  9375.172951  "
      ]
     },
     "execution_count": 90,
     "metadata": {},
     "output_type": "execute_result"
    }
   ],
   "source": [
    "train_data_fb = df_rev_fb.iloc[:56]\n",
    "test_data_fb = df_rev_fb.iloc[56:]\n",
    "\n",
    "m = Prophet()\n",
    "m.fit(train_data_fb)\n",
    "\n",
    "future = m.make_future_dataframe(periods=5,freq = 'Q')\n",
    "forecast = m.predict(future)\n",
    "forecast.tail()"
   ]
  },
  {
   "cell_type": "code",
   "execution_count": 91,
   "metadata": {},
   "outputs": [
    {
     "data": {
      "text/plain": [
       "<matplotlib.axes._subplots.AxesSubplot at 0x2a1f0341a88>"
      ]
     },
     "execution_count": 91,
     "metadata": {},
     "output_type": "execute_result"
    },
    {
     "data": {
      "image/png": "[encoded data removed]",
      "text/plain": [
       "<Figure size 864x576 with 1 Axes>"
      ]
     },
     "metadata": {
      "needs_background": "dark"
     },
     "output_type": "display_data"
    }
   ],
   "source": [
    "ax = forecast.plot(x='ds',y='yhat',label='Predictions',legend=True,figsize=(12,8))\n",
    "\n",
    "df_rev_fb.plot(x='ds',y='y',label='True',legend=True,ax=ax)"
   ]
  },
  {
   "cell_type": "code",
   "execution_count": 101,
   "metadata": {},
   "outputs": [
    {
     "data": {
      "text/plain": [
       "3.9422218811442407"
      ]
     },
     "execution_count": 101,
     "metadata": {},
     "output_type": "execute_result"
    }
   ],
   "source": [
    "pred=forecast[-5:]['yhat']\n",
    "mean_absolute_percentage_error(test_data_fb['y'],pred)"
   ]
  },
  {
   "cell_type": "code",
   "execution_count": 97,
   "metadata": {},
   "outputs": [
    {
     "data": {
      "text/html": [
       "<div>\n",
       "<style scoped>\n",
       "    .dataframe tbody tr th:only-of-type {\n",
       "        vertical-align: middle;\n",
       "    }\n",
       "\n",
       "    .dataframe tbody tr th {\n",
       "        vertical-align: top;\n",
       "    }\n",
       "\n",
       "    .dataframe thead th {\n",
       "        text-align: right;\n",
       "    }\n",
       "</style>\n",
       "<table border=\"1\" class=\"dataframe\">\n",
       "  <thead>\n",
       "    <tr style=\"text-align: right;\">\n",
       "      <th></th>\n",
       "      <th>Research and Development Expenses</th>\n",
       "      <th>DESadd4</th>\n",
       "      <th>TESadd12</th>\n",
       "    </tr>\n",
       "  </thead>\n",
       "  <tbody>\n",
       "    <tr>\n",
       "      <th>2019-03-31</th>\n",
       "      <td>7927</td>\n",
       "      <td>8287.739327</td>\n",
       "      <td>7794.086264</td>\n",
       "    </tr>\n",
       "    <tr>\n",
       "      <th>2019-06-30</th>\n",
       "      <td>9065</td>\n",
       "      <td>9264.159147</td>\n",
       "      <td>8503.073226</td>\n",
       "    </tr>\n",
       "    <tr>\n",
       "      <th>2019-09-30</th>\n",
       "      <td>9200</td>\n",
       "      <td>9668.277212</td>\n",
       "      <td>9221.954676</td>\n",
       "    </tr>\n",
       "    <tr>\n",
       "      <th>2019-12-31</th>\n",
       "      <td>9739</td>\n",
       "      <td>10173.865306</td>\n",
       "      <td>9834.928147</td>\n",
       "    </tr>\n",
       "    <tr>\n",
       "      <th>2020-03-31</th>\n",
       "      <td>9325</td>\n",
       "      <td>NaN</td>\n",
       "      <td>9983.108489</td>\n",
       "    </tr>\n",
       "  </tbody>\n",
       "</table>\n",
       "</div>"
      ],
      "text/plain": [
       "            Research and Development Expenses       DESadd4     TESadd12\n",
       "2019-03-31                               7927   8287.739327  7794.086264\n",
       "2019-06-30                               9065   9264.159147  8503.073226\n",
       "2019-09-30                               9200   9668.277212  9221.954676\n",
       "2019-12-31                               9739  10173.865306  9834.928147\n",
       "2020-03-31                               9325           NaN  9983.108489"
      ]
     },
     "execution_count": 97,
     "metadata": {},
     "output_type": "execute_result"
    }
   ],
   "source": [
    "test_data"
   ]
  },
  {
   "cell_type": "code",
   "execution_count": 100,
   "metadata": {},
   "outputs": [
    {
     "data": {
      "image/png": "[encoded data removed]",
      "text/plain": [
       "<Figure size 432x288 with 1 Axes>"
      ]
     },
     "metadata": {
      "needs_background": "dark"
     },
     "output_type": "display_data"
    }
   ],
   "source": [
    "test_data['Research and Development Expenses'].plot(legend=True,label='TEST')\n",
    "pred.index=test_data.index\n",
    "pred.plot(legend=True,label='PREDICTION');"
   ]
  },
  {
   "cell_type": "markdown",
   "metadata": {},
   "source": [
    "###  FB Prophet MAPE 3.9"
   ]
  },
  {
   "cell_type": "markdown",
   "metadata": {},
   "source": [
    "### Final Model"
   ]
  },
  {
   "cell_type": "code",
   "execution_count": 103,
   "metadata": {},
   "outputs": [
    {
     "name": "stderr",
     "output_type": "stream",
     "text": [
      "INFO:prophet:Disabling weekly seasonality. Run prophet with weekly_seasonality=True to override this.\n",
      "INFO:prophet:Disabling daily seasonality. Run prophet with daily_seasonality=True to override this.\n"
     ]
    },
    {
     "data": {
      "text/html": [
       "<div>\n",
       "<style scoped>\n",
       "    .dataframe tbody tr th:only-of-type {\n",
       "        vertical-align: middle;\n",
       "    }\n",
       "\n",
       "    .dataframe tbody tr th {\n",
       "        vertical-align: top;\n",
       "    }\n",
       "\n",
       "    .dataframe thead th {\n",
       "        text-align: right;\n",
       "    }\n",
       "</style>\n",
       "<table border=\"1\" class=\"dataframe\">\n",
       "  <thead>\n",
       "    <tr style=\"text-align: right;\">\n",
       "      <th></th>\n",
       "      <th>ds</th>\n",
       "      <th>trend</th>\n",
       "      <th>yhat_lower</th>\n",
       "      <th>yhat_upper</th>\n",
       "      <th>trend_lower</th>\n",
       "      <th>trend_upper</th>\n",
       "      <th>additive_terms</th>\n",
       "      <th>additive_terms_lower</th>\n",
       "      <th>additive_terms_upper</th>\n",
       "      <th>yearly</th>\n",
       "      <th>yearly_lower</th>\n",
       "      <th>yearly_upper</th>\n",
       "      <th>multiplicative_terms</th>\n",
       "      <th>multiplicative_terms_lower</th>\n",
       "      <th>multiplicative_terms_upper</th>\n",
       "      <th>yhat</th>\n",
       "    </tr>\n",
       "  </thead>\n",
       "  <tbody>\n",
       "    <tr>\n",
       "      <th>61</th>\n",
       "      <td>2020-06-30</td>\n",
       "      <td>12515.987845</td>\n",
       "      <td>10011.845563</td>\n",
       "      <td>10289.319208</td>\n",
       "      <td>12512.172406</td>\n",
       "      <td>12520.100180</td>\n",
       "      <td>-2366.468947</td>\n",
       "      <td>-2366.468947</td>\n",
       "      <td>-2366.468947</td>\n",
       "      <td>-2366.468947</td>\n",
       "      <td>-2366.468947</td>\n",
       "      <td>-2366.468947</td>\n",
       "      <td>0.0</td>\n",
       "      <td>0.0</td>\n",
       "      <td>0.0</td>\n",
       "      <td>10149.518898</td>\n",
       "    </tr>\n",
       "    <tr>\n",
       "      <th>62</th>\n",
       "      <td>2020-09-30</td>\n",
       "      <td>12910.455778</td>\n",
       "      <td>10355.638550</td>\n",
       "      <td>10644.455634</td>\n",
       "      <td>12887.957174</td>\n",
       "      <td>12933.059440</td>\n",
       "      <td>-2402.631837</td>\n",
       "      <td>-2402.631837</td>\n",
       "      <td>-2402.631837</td>\n",
       "      <td>-2402.631837</td>\n",
       "      <td>-2402.631837</td>\n",
       "      <td>-2402.631837</td>\n",
       "      <td>0.0</td>\n",
       "      <td>0.0</td>\n",
       "      <td>0.0</td>\n",
       "      <td>10507.823941</td>\n",
       "    </tr>\n",
       "    <tr>\n",
       "      <th>63</th>\n",
       "      <td>2020-12-31</td>\n",
       "      <td>13304.923711</td>\n",
       "      <td>10751.801153</td>\n",
       "      <td>11058.325294</td>\n",
       "      <td>13259.176180</td>\n",
       "      <td>13350.977109</td>\n",
       "      <td>-2394.355054</td>\n",
       "      <td>-2394.355054</td>\n",
       "      <td>-2394.355054</td>\n",
       "      <td>-2394.355054</td>\n",
       "      <td>-2394.355054</td>\n",
       "      <td>-2394.355054</td>\n",
       "      <td>0.0</td>\n",
       "      <td>0.0</td>\n",
       "      <td>0.0</td>\n",
       "      <td>10910.568657</td>\n",
       "    </tr>\n",
       "    <tr>\n",
       "      <th>64</th>\n",
       "      <td>2021-03-31</td>\n",
       "      <td>13690.816254</td>\n",
       "      <td>11107.790983</td>\n",
       "      <td>11424.764683</td>\n",
       "      <td>13618.895667</td>\n",
       "      <td>13764.573010</td>\n",
       "      <td>-2414.531911</td>\n",
       "      <td>-2414.531911</td>\n",
       "      <td>-2414.531911</td>\n",
       "      <td>-2414.531911</td>\n",
       "      <td>-2414.531911</td>\n",
       "      <td>-2414.531911</td>\n",
       "      <td>0.0</td>\n",
       "      <td>0.0</td>\n",
       "      <td>0.0</td>\n",
       "      <td>11276.284343</td>\n",
       "    </tr>\n",
       "    <tr>\n",
       "      <th>65</th>\n",
       "      <td>2021-06-30</td>\n",
       "      <td>14080.996492</td>\n",
       "      <td>11558.217457</td>\n",
       "      <td>11915.350839</td>\n",
       "      <td>13976.415687</td>\n",
       "      <td>14186.194944</td>\n",
       "      <td>-2342.582276</td>\n",
       "      <td>-2342.582276</td>\n",
       "      <td>-2342.582276</td>\n",
       "      <td>-2342.582276</td>\n",
       "      <td>-2342.582276</td>\n",
       "      <td>-2342.582276</td>\n",
       "      <td>0.0</td>\n",
       "      <td>0.0</td>\n",
       "      <td>0.0</td>\n",
       "      <td>11738.414215</td>\n",
       "    </tr>\n",
       "  </tbody>\n",
       "</table>\n",
       "</div>"
      ],
      "text/plain": [
       "           ds         trend    yhat_lower    yhat_upper   trend_lower  \\\n",
       "61 2020-06-30  12515.987845  10011.845563  10289.319208  12512.172406   \n",
       "62 2020-09-30  12910.455778  10355.638550  10644.455634  12887.957174   \n",
       "63 2020-12-31  13304.923711  10751.801153  11058.325294  13259.176180   \n",
       "64 2021-03-31  13690.816254  11107.790983  11424.764683  13618.895667   \n",
       "65 2021-06-30  14080.996492  11558.217457  11915.350839  13976.415687   \n",
       "\n",
       "     trend_upper  additive_terms  additive_terms_lower  additive_terms_upper  \\\n",
       "61  12520.100180    -2366.468947          -2366.468947          -2366.468947   \n",
       "62  12933.059440    -2402.631837          -2402.631837          -2402.631837   \n",
       "63  13350.977109    -2394.355054          -2394.355054          -2394.355054   \n",
       "64  13764.573010    -2414.531911          -2414.531911          -2414.531911   \n",
       "65  14186.194944    -2342.582276          -2342.582276          -2342.582276   \n",
       "\n",
       "         yearly  yearly_lower  yearly_upper  multiplicative_terms  \\\n",
       "61 -2366.468947  -2366.468947  -2366.468947                   0.0   \n",
       "62 -2402.631837  -2402.631837  -2402.631837                   0.0   \n",
       "63 -2394.355054  -2394.355054  -2394.355054                   0.0   \n",
       "64 -2414.531911  -2414.531911  -2414.531911                   0.0   \n",
       "65 -2342.582276  -2342.582276  -2342.582276                   0.0   \n",
       "\n",
       "    multiplicative_terms_lower  multiplicative_terms_upper          yhat  \n",
       "61                         0.0                         0.0  10149.518898  \n",
       "62                         0.0                         0.0  10507.823941  \n",
       "63                         0.0                         0.0  10910.568657  \n",
       "64                         0.0                         0.0  11276.284343  \n",
       "65                         0.0                         0.0  11738.414215  "
      ]
     },
     "execution_count": 103,
     "metadata": {},
     "output_type": "execute_result"
    }
   ],
   "source": [
    "m = Prophet()\n",
    "m.fit(df_rev_fb)\n",
    "\n",
    "future = m.make_future_dataframe(periods=5,freq = 'Q')\n",
    "forecast = m.predict(future)\n",
    "forecast.tail()"
   ]
  },
  {
   "cell_type": "code",
   "execution_count": 104,
   "metadata": {},
   "outputs": [
    {
     "data": {
      "text/plain": [
       "<matplotlib.axes._subplots.AxesSubplot at 0x2a1f0401408>"
      ]
     },
     "execution_count": 104,
     "metadata": {},
     "output_type": "execute_result"
    },
    {
     "data": {
      "image/png": "[encoded data removed]",
      "text/plain": [
       "<Figure size 864x576 with 1 Axes>"
      ]
     },
     "metadata": {
      "needs_background": "dark"
     },
     "output_type": "display_data"
    }
   ],
   "source": [
    "ax = forecast.plot(x='ds',y='yhat',label='Predictions',legend=True,figsize=(12,8))\n",
    "\n",
    "df_rev_fb.plot(x='ds',y='y',label='True',legend=True,ax=ax)"
   ]
  },
  {
   "cell_type": "code",
   "execution_count": null,
   "metadata": {},
   "outputs": [],
   "source": [
    "import pickle\n",
    "\n",
    "pickle.dump(m, open('model_RD.pkl','wb'))\n",
    "\n",
    "# Loading model to compare the results\n",
    "model = pickle.load(open('model_COGS.pkl','rb'))\n",
    "print(model.predict(start=len(df_rev),end=len(df_rev)+5))"
   ]
  }
 ],
 "metadata": {
  "kernelspec": {
   "display_name": "Python 3",
   "language": "python",
   "name": "python3"
  },
  "language_info": {
   "codemirror_mode": {
    "name": "ipython",
    "version": 3
   },
   "file_extension": ".py",
   "mimetype": "text/x-python",
   "name": "python",
   "nbconvert_exporter": "python",
   "pygments_lexer": "ipython3",
   "version": "3.7.6"
  }
 },
 "nbformat": 4,
 "nbformat_minor": 4
}
