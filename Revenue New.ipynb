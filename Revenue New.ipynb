{
 "cells": [
  {
   "cell_type": "code",
   "execution_count": 1,
   "metadata": {},
   "outputs": [],
   "source": [
    "import numpy as np\n",
    "import pandas as pd\n",
    "import matplotlib as mpl\n",
    "import matplotlib.pyplot as plt\n",
    "import seaborn as sns"
   ]
  },
  {
   "cell_type": "code",
   "execution_count": 2,
   "metadata": {},
   "outputs": [],
   "source": [
    "def mean_absolute_percentage_error(y_true, y_pred): \n",
    "    \n",
    "    \"\"\"\n",
    "    This function calculates mean_absolute_percentage_error\n",
    "    \n",
    "    Input:\n",
    "        y_true (array): True values\n",
    "        y_pred (array): Preicted values\n",
    "\n",
    "    Returns: \n",
    "        Calculated MAPE \n",
    "    \n",
    "    \"\"\"\n",
    "    \n",
    "    y_true, y_pred = np.array(y_true), np.array(y_pred)\n",
    "    return np.mean(np.abs((y_true - y_pred) / y_true)) * 100"
   ]
  },
  {
   "cell_type": "code",
   "execution_count": 3,
   "metadata": {},
   "outputs": [
    {
     "data": {
      "text/html": [
       "<div>\n",
       "<style scoped>\n",
       "    .dataframe tbody tr th:only-of-type {\n",
       "        vertical-align: middle;\n",
       "    }\n",
       "\n",
       "    .dataframe tbody tr th {\n",
       "        vertical-align: top;\n",
       "    }\n",
       "\n",
       "    .dataframe thead th {\n",
       "        text-align: right;\n",
       "    }\n",
       "</style>\n",
       "<table border=\"1\" class=\"dataframe\">\n",
       "  <thead>\n",
       "    <tr style=\"text-align: right;\">\n",
       "      <th></th>\n",
       "      <th>Quaterly</th>\n",
       "      <th>Revenue</th>\n",
       "      <th>Cost of Goods Sold</th>\n",
       "      <th>Gross Profit</th>\n",
       "      <th>Research and Development Expenses</th>\n",
       "      <th>SG&amp;A Expenses</th>\n",
       "      <th>Other Operating Income or Expenses</th>\n",
       "      <th>Operating Expenses</th>\n",
       "      <th>Operating Income</th>\n",
       "      <th>Total Non-Operating Income/Expense</th>\n",
       "      <th>...</th>\n",
       "      <th>Income Taxes</th>\n",
       "      <th>Income After Taxes</th>\n",
       "      <th>Income from Continuous Operations</th>\n",
       "      <th>Net Income</th>\n",
       "      <th>EBITDA</th>\n",
       "      <th>EBIT</th>\n",
       "      <th>Basic Shares Outstanding</th>\n",
       "      <th>Shares Outstanding</th>\n",
       "      <th>Basic EPS</th>\n",
       "      <th>EPS</th>\n",
       "    </tr>\n",
       "  </thead>\n",
       "  <tbody>\n",
       "    <tr>\n",
       "      <th>0</th>\n",
       "      <td>2021-09-30</td>\n",
       "      <td>110812</td>\n",
       "      <td>62930</td>\n",
       "      <td>47882</td>\n",
       "      <td>14380</td>\n",
       "      <td>28661</td>\n",
       "      <td>11.0</td>\n",
       "      <td>105960</td>\n",
       "      <td>4852</td>\n",
       "      <td>-537.0</td>\n",
       "      <td>...</td>\n",
       "      <td>1155</td>\n",
       "      <td>3160</td>\n",
       "      <td>3156</td>\n",
       "      <td>3156</td>\n",
       "      <td>13800</td>\n",
       "      <td>4852</td>\n",
       "      <td>507</td>\n",
       "      <td>515</td>\n",
       "      <td>6.23</td>\n",
       "      <td>6.12</td>\n",
       "    </tr>\n",
       "    <tr>\n",
       "      <th>1</th>\n",
       "      <td>2021-06-30</td>\n",
       "      <td>113080</td>\n",
       "      <td>64176</td>\n",
       "      <td>48904</td>\n",
       "      <td>13871</td>\n",
       "      <td>27320</td>\n",
       "      <td>-11.0</td>\n",
       "      <td>105378</td>\n",
       "      <td>7702</td>\n",
       "      <td>932.0</td>\n",
       "      <td>...</td>\n",
       "      <td>868</td>\n",
       "      <td>7766</td>\n",
       "      <td>7778</td>\n",
       "      <td>7778</td>\n",
       "      <td>15740</td>\n",
       "      <td>7702</td>\n",
       "      <td>505</td>\n",
       "      <td>514</td>\n",
       "      <td>15.40</td>\n",
       "      <td>15.12</td>\n",
       "    </tr>\n",
       "    <tr>\n",
       "      <th>2</th>\n",
       "      <td>2021-03-31</td>\n",
       "      <td>108518</td>\n",
       "      <td>62403</td>\n",
       "      <td>46115</td>\n",
       "      <td>12488</td>\n",
       "      <td>24724</td>\n",
       "      <td>-38.0</td>\n",
       "      <td>99653</td>\n",
       "      <td>8865</td>\n",
       "      <td>1403.0</td>\n",
       "      <td>...</td>\n",
       "      <td>2156</td>\n",
       "      <td>8112</td>\n",
       "      <td>8107</td>\n",
       "      <td>8107</td>\n",
       "      <td>16373</td>\n",
       "      <td>8865</td>\n",
       "      <td>504</td>\n",
       "      <td>513</td>\n",
       "      <td>16.09</td>\n",
       "      <td>15.79</td>\n",
       "    </tr>\n",
       "    <tr>\n",
       "      <th>3</th>\n",
       "      <td>2020-12-31</td>\n",
       "      <td>125555</td>\n",
       "      <td>79284</td>\n",
       "      <td>46271</td>\n",
       "      <td>12051</td>\n",
       "      <td>27844</td>\n",
       "      <td>497.0</td>\n",
       "      <td>118682</td>\n",
       "      <td>6873</td>\n",
       "      <td>892.0</td>\n",
       "      <td>...</td>\n",
       "      <td>566</td>\n",
       "      <td>7199</td>\n",
       "      <td>7222</td>\n",
       "      <td>7222</td>\n",
       "      <td>14491</td>\n",
       "      <td>6873</td>\n",
       "      <td>500</td>\n",
       "      <td>510</td>\n",
       "      <td>14.42</td>\n",
       "      <td>14.15</td>\n",
       "    </tr>\n",
       "    <tr>\n",
       "      <th>4</th>\n",
       "      <td>2020-09-30</td>\n",
       "      <td>96145</td>\n",
       "      <td>57106</td>\n",
       "      <td>39039</td>\n",
       "      <td>10976</td>\n",
       "      <td>21807</td>\n",
       "      <td>-62.0</td>\n",
       "      <td>89951</td>\n",
       "      <td>6194</td>\n",
       "      <td>615.0</td>\n",
       "      <td>...</td>\n",
       "      <td>569</td>\n",
       "      <td>6240</td>\n",
       "      <td>6331</td>\n",
       "      <td>6331</td>\n",
       "      <td>12717</td>\n",
       "      <td>6194</td>\n",
       "      <td>501</td>\n",
       "      <td>512</td>\n",
       "      <td>12.63</td>\n",
       "      <td>12.37</td>\n",
       "    </tr>\n",
       "  </tbody>\n",
       "</table>\n",
       "<p>5 rows × 21 columns</p>\n",
       "</div>"
      ],
      "text/plain": [
       "     Quaterly  Revenue  Cost of Goods Sold  Gross Profit  \\\n",
       "0  2021-09-30   110812               62930         47882   \n",
       "1  2021-06-30   113080               64176         48904   \n",
       "2  2021-03-31   108518               62403         46115   \n",
       "3  2020-12-31   125555               79284         46271   \n",
       "4  2020-09-30    96145               57106         39039   \n",
       "\n",
       "   Research and Development Expenses   SG&A Expenses  \\\n",
       "0                              14380           28661   \n",
       "1                              13871           27320   \n",
       "2                              12488           24724   \n",
       "3                              12051           27844   \n",
       "4                              10976           21807   \n",
       "\n",
       "   Other Operating Income or Expenses  Operating Expenses  Operating Income  \\\n",
       "0                                11.0              105960              4852   \n",
       "1                               -11.0              105378              7702   \n",
       "2                               -38.0               99653              8865   \n",
       "3                               497.0              118682              6873   \n",
       "4                               -62.0               89951              6194   \n",
       "\n",
       "   Total Non-Operating Income/Expense  ...  Income Taxes  Income After Taxes  \\\n",
       "0                              -537.0  ...          1155                3160   \n",
       "1                               932.0  ...           868                7766   \n",
       "2                              1403.0  ...          2156                8112   \n",
       "3                               892.0  ...           566                7199   \n",
       "4                               615.0  ...           569                6240   \n",
       "\n",
       "   Income from Continuous Operations  Net Income  EBITDA  EBIT  \\\n",
       "0                               3156        3156   13800  4852   \n",
       "1                               7778        7778   15740  7702   \n",
       "2                               8107        8107   16373  8865   \n",
       "3                               7222        7222   14491  6873   \n",
       "4                               6331        6331   12717  6194   \n",
       "\n",
       "   Basic Shares Outstanding  Shares Outstanding  Basic EPS    EPS  \n",
       "0                       507                 515       6.23   6.12  \n",
       "1                       505                 514      15.40  15.12  \n",
       "2                       504                 513      16.09  15.79  \n",
       "3                       500                 510      14.42  14.15  \n",
       "4                       501                 512      12.63  12.37  \n",
       "\n",
       "[5 rows x 21 columns]"
      ]
     },
     "execution_count": 3,
     "metadata": {},
     "output_type": "execute_result"
    }
   ],
   "source": [
    "df = pd.read_excel('macrotrends_amazon.xlsx')\n",
    "df.head()"
   ]
  },
  {
   "cell_type": "code",
   "execution_count": 4,
   "metadata": {},
   "outputs": [
    {
     "data": {
      "text/html": [
       "<div>\n",
       "<style scoped>\n",
       "    .dataframe tbody tr th:only-of-type {\n",
       "        vertical-align: middle;\n",
       "    }\n",
       "\n",
       "    .dataframe tbody tr th {\n",
       "        vertical-align: top;\n",
       "    }\n",
       "\n",
       "    .dataframe thead th {\n",
       "        text-align: right;\n",
       "    }\n",
       "</style>\n",
       "<table border=\"1\" class=\"dataframe\">\n",
       "  <thead>\n",
       "    <tr style=\"text-align: right;\">\n",
       "      <th></th>\n",
       "      <th>Quaterly</th>\n",
       "      <th>Revenue</th>\n",
       "      <th>Cost of Goods Sold</th>\n",
       "      <th>Gross Profit</th>\n",
       "      <th>Research and Development Expenses</th>\n",
       "      <th>SG&amp;A Expenses</th>\n",
       "      <th>Other Operating Income or Expenses</th>\n",
       "      <th>Operating Expenses</th>\n",
       "      <th>Operating Income</th>\n",
       "      <th>Total Non-Operating Income/Expense</th>\n",
       "      <th>...</th>\n",
       "      <th>Income Taxes</th>\n",
       "      <th>Income After Taxes</th>\n",
       "      <th>Income from Continuous Operations</th>\n",
       "      <th>Net Income</th>\n",
       "      <th>EBITDA</th>\n",
       "      <th>EBIT</th>\n",
       "      <th>Basic Shares Outstanding</th>\n",
       "      <th>Shares Outstanding</th>\n",
       "      <th>Basic EPS</th>\n",
       "      <th>EPS</th>\n",
       "    </tr>\n",
       "  </thead>\n",
       "  <tbody>\n",
       "    <tr>\n",
       "      <th>2021-09-30</th>\n",
       "      <td>2021-09-30</td>\n",
       "      <td>110812</td>\n",
       "      <td>62930</td>\n",
       "      <td>47882</td>\n",
       "      <td>14380</td>\n",
       "      <td>28661</td>\n",
       "      <td>11.0</td>\n",
       "      <td>105960</td>\n",
       "      <td>4852</td>\n",
       "      <td>-537.0</td>\n",
       "      <td>...</td>\n",
       "      <td>1155</td>\n",
       "      <td>3160</td>\n",
       "      <td>3156</td>\n",
       "      <td>3156</td>\n",
       "      <td>13800</td>\n",
       "      <td>4852</td>\n",
       "      <td>507</td>\n",
       "      <td>515</td>\n",
       "      <td>6.23</td>\n",
       "      <td>6.12</td>\n",
       "    </tr>\n",
       "    <tr>\n",
       "      <th>2021-06-30</th>\n",
       "      <td>2021-06-30</td>\n",
       "      <td>113080</td>\n",
       "      <td>64176</td>\n",
       "      <td>48904</td>\n",
       "      <td>13871</td>\n",
       "      <td>27320</td>\n",
       "      <td>-11.0</td>\n",
       "      <td>105378</td>\n",
       "      <td>7702</td>\n",
       "      <td>932.0</td>\n",
       "      <td>...</td>\n",
       "      <td>868</td>\n",
       "      <td>7766</td>\n",
       "      <td>7778</td>\n",
       "      <td>7778</td>\n",
       "      <td>15740</td>\n",
       "      <td>7702</td>\n",
       "      <td>505</td>\n",
       "      <td>514</td>\n",
       "      <td>15.40</td>\n",
       "      <td>15.12</td>\n",
       "    </tr>\n",
       "    <tr>\n",
       "      <th>2021-03-31</th>\n",
       "      <td>2021-03-31</td>\n",
       "      <td>108518</td>\n",
       "      <td>62403</td>\n",
       "      <td>46115</td>\n",
       "      <td>12488</td>\n",
       "      <td>24724</td>\n",
       "      <td>-38.0</td>\n",
       "      <td>99653</td>\n",
       "      <td>8865</td>\n",
       "      <td>1403.0</td>\n",
       "      <td>...</td>\n",
       "      <td>2156</td>\n",
       "      <td>8112</td>\n",
       "      <td>8107</td>\n",
       "      <td>8107</td>\n",
       "      <td>16373</td>\n",
       "      <td>8865</td>\n",
       "      <td>504</td>\n",
       "      <td>513</td>\n",
       "      <td>16.09</td>\n",
       "      <td>15.79</td>\n",
       "    </tr>\n",
       "    <tr>\n",
       "      <th>2020-12-31</th>\n",
       "      <td>2020-12-31</td>\n",
       "      <td>125555</td>\n",
       "      <td>79284</td>\n",
       "      <td>46271</td>\n",
       "      <td>12051</td>\n",
       "      <td>27844</td>\n",
       "      <td>497.0</td>\n",
       "      <td>118682</td>\n",
       "      <td>6873</td>\n",
       "      <td>892.0</td>\n",
       "      <td>...</td>\n",
       "      <td>566</td>\n",
       "      <td>7199</td>\n",
       "      <td>7222</td>\n",
       "      <td>7222</td>\n",
       "      <td>14491</td>\n",
       "      <td>6873</td>\n",
       "      <td>500</td>\n",
       "      <td>510</td>\n",
       "      <td>14.42</td>\n",
       "      <td>14.15</td>\n",
       "    </tr>\n",
       "    <tr>\n",
       "      <th>2020-09-30</th>\n",
       "      <td>2020-09-30</td>\n",
       "      <td>96145</td>\n",
       "      <td>57106</td>\n",
       "      <td>39039</td>\n",
       "      <td>10976</td>\n",
       "      <td>21807</td>\n",
       "      <td>-62.0</td>\n",
       "      <td>89951</td>\n",
       "      <td>6194</td>\n",
       "      <td>615.0</td>\n",
       "      <td>...</td>\n",
       "      <td>569</td>\n",
       "      <td>6240</td>\n",
       "      <td>6331</td>\n",
       "      <td>6331</td>\n",
       "      <td>12717</td>\n",
       "      <td>6194</td>\n",
       "      <td>501</td>\n",
       "      <td>512</td>\n",
       "      <td>12.63</td>\n",
       "      <td>12.37</td>\n",
       "    </tr>\n",
       "  </tbody>\n",
       "</table>\n",
       "<p>5 rows × 21 columns</p>\n",
       "</div>"
      ],
      "text/plain": [
       "              Quaterly  Revenue  Cost of Goods Sold  Gross Profit  \\\n",
       "2021-09-30  2021-09-30   110812               62930         47882   \n",
       "2021-06-30  2021-06-30   113080               64176         48904   \n",
       "2021-03-31  2021-03-31   108518               62403         46115   \n",
       "2020-12-31  2020-12-31   125555               79284         46271   \n",
       "2020-09-30  2020-09-30    96145               57106         39039   \n",
       "\n",
       "            Research and Development Expenses   SG&A Expenses  \\\n",
       "2021-09-30                              14380           28661   \n",
       "2021-06-30                              13871           27320   \n",
       "2021-03-31                              12488           24724   \n",
       "2020-12-31                              12051           27844   \n",
       "2020-09-30                              10976           21807   \n",
       "\n",
       "            Other Operating Income or Expenses  Operating Expenses  \\\n",
       "2021-09-30                                11.0              105960   \n",
       "2021-06-30                               -11.0              105378   \n",
       "2021-03-31                               -38.0               99653   \n",
       "2020-12-31                               497.0              118682   \n",
       "2020-09-30                               -62.0               89951   \n",
       "\n",
       "            Operating Income  Total Non-Operating Income/Expense  ...  \\\n",
       "2021-09-30              4852                              -537.0  ...   \n",
       "2021-06-30              7702                               932.0  ...   \n",
       "2021-03-31              8865                              1403.0  ...   \n",
       "2020-12-31              6873                               892.0  ...   \n",
       "2020-09-30              6194                               615.0  ...   \n",
       "\n",
       "            Income Taxes  Income After Taxes  \\\n",
       "2021-09-30          1155                3160   \n",
       "2021-06-30           868                7766   \n",
       "2021-03-31          2156                8112   \n",
       "2020-12-31           566                7199   \n",
       "2020-09-30           569                6240   \n",
       "\n",
       "            Income from Continuous Operations  Net Income  EBITDA  EBIT  \\\n",
       "2021-09-30                               3156        3156   13800  4852   \n",
       "2021-06-30                               7778        7778   15740  7702   \n",
       "2021-03-31                               8107        8107   16373  8865   \n",
       "2020-12-31                               7222        7222   14491  6873   \n",
       "2020-09-30                               6331        6331   12717  6194   \n",
       "\n",
       "            Basic Shares Outstanding  Shares Outstanding  Basic EPS    EPS  \n",
       "2021-09-30                       507                 515       6.23   6.12  \n",
       "2021-06-30                       505                 514      15.40  15.12  \n",
       "2021-03-31                       504                 513      16.09  15.79  \n",
       "2020-12-31                       500                 510      14.42  14.15  \n",
       "2020-09-30                       501                 512      12.63  12.37  \n",
       "\n",
       "[5 rows x 21 columns]"
      ]
     },
     "execution_count": 4,
     "metadata": {},
     "output_type": "execute_result"
    }
   ],
   "source": [
    "quater=pd.date_range('2005-03-31',periods=67,freq='Q')\n",
    "df =df.set_index(quater[::-1])\n",
    "df.head()"
   ]
  },
  {
   "cell_type": "code",
   "execution_count": 5,
   "metadata": {},
   "outputs": [
    {
     "data": {
      "text/html": [
       "<div>\n",
       "<style scoped>\n",
       "    .dataframe tbody tr th:only-of-type {\n",
       "        vertical-align: middle;\n",
       "    }\n",
       "\n",
       "    .dataframe tbody tr th {\n",
       "        vertical-align: top;\n",
       "    }\n",
       "\n",
       "    .dataframe thead th {\n",
       "        text-align: right;\n",
       "    }\n",
       "</style>\n",
       "<table border=\"1\" class=\"dataframe\">\n",
       "  <thead>\n",
       "    <tr style=\"text-align: right;\">\n",
       "      <th></th>\n",
       "      <th>Revenue</th>\n",
       "      <th>Cost of Goods Sold</th>\n",
       "      <th>Gross Profit</th>\n",
       "      <th>Research and Development Expenses</th>\n",
       "      <th>SG&amp;A Expenses</th>\n",
       "      <th>Other Operating Income or Expenses</th>\n",
       "      <th>Operating Expenses</th>\n",
       "      <th>Operating Income</th>\n",
       "      <th>Total Non-Operating Income/Expense</th>\n",
       "      <th>Pre-Tax Income</th>\n",
       "      <th>Income Taxes</th>\n",
       "      <th>Income After Taxes</th>\n",
       "      <th>Income from Continuous Operations</th>\n",
       "      <th>Net Income</th>\n",
       "      <th>EBITDA</th>\n",
       "      <th>EBIT</th>\n",
       "      <th>Basic Shares Outstanding</th>\n",
       "      <th>Shares Outstanding</th>\n",
       "      <th>Basic EPS</th>\n",
       "      <th>EPS</th>\n",
       "    </tr>\n",
       "  </thead>\n",
       "  <tbody>\n",
       "    <tr>\n",
       "      <th>2021-09-30</th>\n",
       "      <td>110812</td>\n",
       "      <td>62930</td>\n",
       "      <td>47882</td>\n",
       "      <td>14380</td>\n",
       "      <td>28661</td>\n",
       "      <td>11.0</td>\n",
       "      <td>105960</td>\n",
       "      <td>4852</td>\n",
       "      <td>-537.0</td>\n",
       "      <td>4315</td>\n",
       "      <td>1155</td>\n",
       "      <td>3160</td>\n",
       "      <td>3156</td>\n",
       "      <td>3156</td>\n",
       "      <td>13800</td>\n",
       "      <td>4852</td>\n",
       "      <td>507</td>\n",
       "      <td>515</td>\n",
       "      <td>6.23</td>\n",
       "      <td>6.12</td>\n",
       "    </tr>\n",
       "    <tr>\n",
       "      <th>2021-06-30</th>\n",
       "      <td>113080</td>\n",
       "      <td>64176</td>\n",
       "      <td>48904</td>\n",
       "      <td>13871</td>\n",
       "      <td>27320</td>\n",
       "      <td>-11.0</td>\n",
       "      <td>105378</td>\n",
       "      <td>7702</td>\n",
       "      <td>932.0</td>\n",
       "      <td>8634</td>\n",
       "      <td>868</td>\n",
       "      <td>7766</td>\n",
       "      <td>7778</td>\n",
       "      <td>7778</td>\n",
       "      <td>15740</td>\n",
       "      <td>7702</td>\n",
       "      <td>505</td>\n",
       "      <td>514</td>\n",
       "      <td>15.40</td>\n",
       "      <td>15.12</td>\n",
       "    </tr>\n",
       "    <tr>\n",
       "      <th>2021-03-31</th>\n",
       "      <td>108518</td>\n",
       "      <td>62403</td>\n",
       "      <td>46115</td>\n",
       "      <td>12488</td>\n",
       "      <td>24724</td>\n",
       "      <td>-38.0</td>\n",
       "      <td>99653</td>\n",
       "      <td>8865</td>\n",
       "      <td>1403.0</td>\n",
       "      <td>10268</td>\n",
       "      <td>2156</td>\n",
       "      <td>8112</td>\n",
       "      <td>8107</td>\n",
       "      <td>8107</td>\n",
       "      <td>16373</td>\n",
       "      <td>8865</td>\n",
       "      <td>504</td>\n",
       "      <td>513</td>\n",
       "      <td>16.09</td>\n",
       "      <td>15.79</td>\n",
       "    </tr>\n",
       "    <tr>\n",
       "      <th>2020-12-31</th>\n",
       "      <td>125555</td>\n",
       "      <td>79284</td>\n",
       "      <td>46271</td>\n",
       "      <td>12051</td>\n",
       "      <td>27844</td>\n",
       "      <td>497.0</td>\n",
       "      <td>118682</td>\n",
       "      <td>6873</td>\n",
       "      <td>892.0</td>\n",
       "      <td>7765</td>\n",
       "      <td>566</td>\n",
       "      <td>7199</td>\n",
       "      <td>7222</td>\n",
       "      <td>7222</td>\n",
       "      <td>14491</td>\n",
       "      <td>6873</td>\n",
       "      <td>500</td>\n",
       "      <td>510</td>\n",
       "      <td>14.42</td>\n",
       "      <td>14.15</td>\n",
       "    </tr>\n",
       "    <tr>\n",
       "      <th>2020-09-30</th>\n",
       "      <td>96145</td>\n",
       "      <td>57106</td>\n",
       "      <td>39039</td>\n",
       "      <td>10976</td>\n",
       "      <td>21807</td>\n",
       "      <td>-62.0</td>\n",
       "      <td>89951</td>\n",
       "      <td>6194</td>\n",
       "      <td>615.0</td>\n",
       "      <td>6809</td>\n",
       "      <td>569</td>\n",
       "      <td>6240</td>\n",
       "      <td>6331</td>\n",
       "      <td>6331</td>\n",
       "      <td>12717</td>\n",
       "      <td>6194</td>\n",
       "      <td>501</td>\n",
       "      <td>512</td>\n",
       "      <td>12.63</td>\n",
       "      <td>12.37</td>\n",
       "    </tr>\n",
       "  </tbody>\n",
       "</table>\n",
       "</div>"
      ],
      "text/plain": [
       "            Revenue  Cost of Goods Sold  Gross Profit  \\\n",
       "2021-09-30   110812               62930         47882   \n",
       "2021-06-30   113080               64176         48904   \n",
       "2021-03-31   108518               62403         46115   \n",
       "2020-12-31   125555               79284         46271   \n",
       "2020-09-30    96145               57106         39039   \n",
       "\n",
       "            Research and Development Expenses   SG&A Expenses  \\\n",
       "2021-09-30                              14380           28661   \n",
       "2021-06-30                              13871           27320   \n",
       "2021-03-31                              12488           24724   \n",
       "2020-12-31                              12051           27844   \n",
       "2020-09-30                              10976           21807   \n",
       "\n",
       "            Other Operating Income or Expenses  Operating Expenses  \\\n",
       "2021-09-30                                11.0              105960   \n",
       "2021-06-30                               -11.0              105378   \n",
       "2021-03-31                               -38.0               99653   \n",
       "2020-12-31                               497.0              118682   \n",
       "2020-09-30                               -62.0               89951   \n",
       "\n",
       "            Operating Income  Total Non-Operating Income/Expense  \\\n",
       "2021-09-30              4852                              -537.0   \n",
       "2021-06-30              7702                               932.0   \n",
       "2021-03-31              8865                              1403.0   \n",
       "2020-12-31              6873                               892.0   \n",
       "2020-09-30              6194                               615.0   \n",
       "\n",
       "             Pre-Tax Income  Income Taxes  Income After Taxes  \\\n",
       "2021-09-30             4315          1155                3160   \n",
       "2021-06-30             8634           868                7766   \n",
       "2021-03-31            10268          2156                8112   \n",
       "2020-12-31             7765           566                7199   \n",
       "2020-09-30             6809           569                6240   \n",
       "\n",
       "            Income from Continuous Operations  Net Income  EBITDA  EBIT  \\\n",
       "2021-09-30                               3156        3156   13800  4852   \n",
       "2021-06-30                               7778        7778   15740  7702   \n",
       "2021-03-31                               8107        8107   16373  8865   \n",
       "2020-12-31                               7222        7222   14491  6873   \n",
       "2020-09-30                               6331        6331   12717  6194   \n",
       "\n",
       "            Basic Shares Outstanding  Shares Outstanding  Basic EPS    EPS  \n",
       "2021-09-30                       507                 515       6.23   6.12  \n",
       "2021-06-30                       505                 514      15.40  15.12  \n",
       "2021-03-31                       504                 513      16.09  15.79  \n",
       "2020-12-31                       500                 510      14.42  14.15  \n",
       "2020-09-30                       501                 512      12.63  12.37  "
      ]
     },
     "execution_count": 5,
     "metadata": {},
     "output_type": "execute_result"
    }
   ],
   "source": [
    "df=df.drop('Quaterly',axis=1)\n",
    "df.head()"
   ]
  },
  {
   "cell_type": "code",
   "execution_count": 6,
   "metadata": {},
   "outputs": [
    {
     "data": {
      "text/plain": [
       "<matplotlib.axes._subplots.AxesSubplot at 0x140a280fb88>"
      ]
     },
     "execution_count": 6,
     "metadata": {},
     "output_type": "execute_result"
    },
    {
     "data": {
      "image/png": "[encoded data removed]",
      "text/plain": [
       "<Figure size 864x576 with 1 Axes>"
      ]
     },
     "metadata": {
      "needs_background": "light"
     },
     "output_type": "display_data"
    }
   ],
   "source": [
    "df['Revenue'].plot(figsize=(12,8))"
   ]
  },
  {
   "cell_type": "code",
   "execution_count": 7,
   "metadata": {},
   "outputs": [
    {
     "data": {
      "text/plain": [
       "<matplotlib.axes._subplots.AxesSubplot at 0x140a4aff2c8>"
      ]
     },
     "execution_count": 7,
     "metadata": {},
     "output_type": "execute_result"
    },
    {
     "data": {
      "image/png": "[encoded data removed]",
      "text/plain": [
       "<Figure size 432x288 with 1 Axes>"
      ]
     },
     "metadata": {
      "needs_background": "light"
     },
     "output_type": "display_data"
    }
   ],
   "source": [
    "df['Revenue'].plot(xlim=['2005-01-01','2020-03-31'])"
   ]
  },
  {
   "cell_type": "markdown",
   "metadata": {},
   "source": [
    "### Dropping data after 2020-03-31"
   ]
  },
  {
   "cell_type": "code",
   "execution_count": 8,
   "metadata": {},
   "outputs": [],
   "source": [
    "new_df=df.iloc[6:]"
   ]
  },
  {
   "cell_type": "code",
   "execution_count": 9,
   "metadata": {},
   "outputs": [],
   "source": [
    "df_rev=pd.DataFrame()\n",
    "df_rev['Revenue']=new_df['Revenue'][::-1]\n",
    "df_rev=df_rev.set_index(new_df.index[::-1])"
   ]
  },
  {
   "cell_type": "code",
   "execution_count": 10,
   "metadata": {},
   "outputs": [
    {
     "data": {
      "image/png": "[encoded data removed]",
      "text/plain": [
       "<Figure size 432x288 with 4 Axes>"
      ]
     },
     "metadata": {
      "needs_background": "light"
     },
     "output_type": "display_data"
    }
   ],
   "source": [
    "from statsmodels.tsa.seasonal import seasonal_decompose\n",
    "\n",
    "result = seasonal_decompose(df_rev['Revenue'], model='mul')  # model='mul' also works\n",
    "result.plot();"
   ]
  },
  {
   "cell_type": "code",
   "execution_count": 11,
   "metadata": {},
   "outputs": [],
   "source": [
    "plt.rcParams[\"ytick.color\"]='white'\n",
    "plt.rcParams[\"xtick.color\"]='white'"
   ]
  },
  {
   "cell_type": "code",
   "execution_count": 12,
   "metadata": {},
   "outputs": [
    {
     "data": {
      "text/plain": [
       "<matplotlib.axes._subplots.AxesSubplot at 0x140a4d3aa48>"
      ]
     },
     "execution_count": 12,
     "metadata": {},
     "output_type": "execute_result"
    },
    {
     "data": {
      "image/png": "[encoded data removed]",
      "text/plain": [
       "<Figure size 432x288 with 1 Axes>"
      ]
     },
     "metadata": {
      "needs_background": "dark"
     },
     "output_type": "display_data"
    }
   ],
   "source": [
    "result.seasonal.iloc[0:10].plot()"
   ]
  },
  {
   "cell_type": "markdown",
   "metadata": {},
   "source": [
    "### Holt Winter"
   ]
  },
  {
   "cell_type": "code",
   "execution_count": 13,
   "metadata": {},
   "outputs": [
    {
     "name": "stderr",
     "output_type": "stream",
     "text": [
      "C:\\Users\\aryan\\anaconda3\\lib\\site-packages\\statsmodels\\tsa\\holtwinters.py:744: ConvergenceWarning: Optimization failed to converge. Check mle_retvals.\n",
      "  ConvergenceWarning)\n"
     ]
    },
    {
     "data": {
      "text/html": [
       "<div>\n",
       "<style scoped>\n",
       "    .dataframe tbody tr th:only-of-type {\n",
       "        vertical-align: middle;\n",
       "    }\n",
       "\n",
       "    .dataframe tbody tr th {\n",
       "        vertical-align: top;\n",
       "    }\n",
       "\n",
       "    .dataframe thead th {\n",
       "        text-align: right;\n",
       "    }\n",
       "</style>\n",
       "<table border=\"1\" class=\"dataframe\">\n",
       "  <thead>\n",
       "    <tr style=\"text-align: right;\">\n",
       "      <th></th>\n",
       "      <th>Revenue</th>\n",
       "      <th>DESadd4</th>\n",
       "    </tr>\n",
       "  </thead>\n",
       "  <tbody>\n",
       "    <tr>\n",
       "      <th>2005-03-31</th>\n",
       "      <td>1902</td>\n",
       "      <td>1902.016676</td>\n",
       "    </tr>\n",
       "    <tr>\n",
       "      <th>2005-06-30</th>\n",
       "      <td>1753</td>\n",
       "      <td>1852.491354</td>\n",
       "    </tr>\n",
       "    <tr>\n",
       "      <th>2005-09-30</th>\n",
       "      <td>1858</td>\n",
       "      <td>1844.012076</td>\n",
       "    </tr>\n",
       "    <tr>\n",
       "      <th>2005-12-31</th>\n",
       "      <td>2977</td>\n",
       "      <td>2210.699639</td>\n",
       "    </tr>\n",
       "    <tr>\n",
       "      <th>2006-03-31</th>\n",
       "      <td>2279</td>\n",
       "      <td>2301.936206</td>\n",
       "    </tr>\n",
       "  </tbody>\n",
       "</table>\n",
       "</div>"
      ],
      "text/plain": [
       "            Revenue      DESadd4\n",
       "2005-03-31     1902  1902.016676\n",
       "2005-06-30     1753  1852.491354\n",
       "2005-09-30     1858  1844.012076\n",
       "2005-12-31     2977  2210.699639\n",
       "2006-03-31     2279  2301.936206"
      ]
     },
     "execution_count": 13,
     "metadata": {},
     "output_type": "execute_result"
    }
   ],
   "source": [
    "from statsmodels.tsa.holtwinters import ExponentialSmoothing\n",
    "\n",
    "df_rev['DESadd4'] = ExponentialSmoothing(df_rev['Revenue'], trend='add').fit().fittedvalues.shift(-1)\n",
    "df_rev.head()"
   ]
  },
  {
   "cell_type": "code",
   "execution_count": 14,
   "metadata": {},
   "outputs": [
    {
     "data": {
      "text/plain": [
       "[]"
      ]
     },
     "execution_count": 14,
     "metadata": {},
     "output_type": "execute_result"
    },
    {
     "data": {
      "image/png": "[encoded data removed]",
      "text/plain": [
       "<Figure size 864x432 with 1 Axes>"
      ]
     },
     "metadata": {
      "needs_background": "dark"
     },
     "output_type": "display_data"
    }
   ],
   "source": [
    "df_rev[['Revenue','DESadd4']].iloc[40:].plot(figsize=(12,6)).plot()"
   ]
  },
  {
   "cell_type": "code",
   "execution_count": 15,
   "metadata": {},
   "outputs": [
    {
     "data": {
      "text/plain": [
       "[]"
      ]
     },
     "execution_count": 15,
     "metadata": {},
     "output_type": "execute_result"
    },
    {
     "data": {
      "image/png": "[encoded data removed]",
      "text/plain": [
       "<Figure size 864x432 with 1 Axes>"
      ]
     },
     "metadata": {
      "needs_background": "dark"
     },
     "output_type": "display_data"
    }
   ],
   "source": [
    "df_rev['TESadd12'] = ExponentialSmoothing(df_rev['Revenue'],trend='add',seasonal='mul',seasonal_periods=4).fit().fittedvalues\n",
    "df_rev[['Revenue','TESadd12']].iloc[40:].plot(figsize=(12,6)).plot()"
   ]
  },
  {
   "cell_type": "markdown",
   "metadata": {},
   "source": [
    "### Spliting Data\n"
   ]
  },
  {
   "cell_type": "code",
   "execution_count": 16,
   "metadata": {},
   "outputs": [
    {
     "data": {
      "text/plain": [
       "61"
      ]
     },
     "execution_count": 16,
     "metadata": {},
     "output_type": "execute_result"
    }
   ],
   "source": [
    "len(df_rev)"
   ]
  },
  {
   "cell_type": "code",
   "execution_count": 17,
   "metadata": {},
   "outputs": [
    {
     "data": {
      "text/html": [
       "<div>\n",
       "<style scoped>\n",
       "    .dataframe tbody tr th:only-of-type {\n",
       "        vertical-align: middle;\n",
       "    }\n",
       "\n",
       "    .dataframe tbody tr th {\n",
       "        vertical-align: top;\n",
       "    }\n",
       "\n",
       "    .dataframe thead th {\n",
       "        text-align: right;\n",
       "    }\n",
       "</style>\n",
       "<table border=\"1\" class=\"dataframe\">\n",
       "  <thead>\n",
       "    <tr style=\"text-align: right;\">\n",
       "      <th></th>\n",
       "      <th>Revenue</th>\n",
       "      <th>DESadd4</th>\n",
       "      <th>TESadd12</th>\n",
       "    </tr>\n",
       "  </thead>\n",
       "  <tbody>\n",
       "    <tr>\n",
       "      <th>2019-03-31</th>\n",
       "      <td>59700</td>\n",
       "      <td>68376.402156</td>\n",
       "      <td>59900.345152</td>\n",
       "    </tr>\n",
       "    <tr>\n",
       "      <th>2019-06-30</th>\n",
       "      <td>63404</td>\n",
       "      <td>70088.844712</td>\n",
       "      <td>60645.145296</td>\n",
       "    </tr>\n",
       "    <tr>\n",
       "      <th>2019-09-30</th>\n",
       "      <td>69981</td>\n",
       "      <td>73073.965493</td>\n",
       "      <td>66695.242553</td>\n",
       "    </tr>\n",
       "    <tr>\n",
       "      <th>2019-12-31</th>\n",
       "      <td>87437</td>\n",
       "      <td>80861.882364</td>\n",
       "      <td>90488.596246</td>\n",
       "    </tr>\n",
       "    <tr>\n",
       "      <th>2020-03-31</th>\n",
       "      <td>75452</td>\n",
       "      <td>NaN</td>\n",
       "      <td>73614.183860</td>\n",
       "    </tr>\n",
       "  </tbody>\n",
       "</table>\n",
       "</div>"
      ],
      "text/plain": [
       "            Revenue       DESadd4      TESadd12\n",
       "2019-03-31    59700  68376.402156  59900.345152\n",
       "2019-06-30    63404  70088.844712  60645.145296\n",
       "2019-09-30    69981  73073.965493  66695.242553\n",
       "2019-12-31    87437  80861.882364  90488.596246\n",
       "2020-03-31    75452           NaN  73614.183860"
      ]
     },
     "execution_count": 17,
     "metadata": {},
     "output_type": "execute_result"
    }
   ],
   "source": [
    "df_rev.iloc[56:]"
   ]
  },
  {
   "cell_type": "code",
   "execution_count": 18,
   "metadata": {},
   "outputs": [],
   "source": [
    "train_data = df_rev.iloc[:56]\n",
    "test_data = df_rev.iloc[56:]"
   ]
  },
  {
   "cell_type": "code",
   "execution_count": 19,
   "metadata": {},
   "outputs": [
    {
     "name": "stderr",
     "output_type": "stream",
     "text": [
      "C:\\Users\\aryan\\anaconda3\\lib\\site-packages\\statsmodels\\tsa\\holtwinters.py:744: ConvergenceWarning: Optimization failed to converge. Check mle_retvals.\n",
      "  ConvergenceWarning)\n",
      "C:\\Users\\aryan\\anaconda3\\lib\\site-packages\\statsmodels\\tsa\\base\\tsa_model.py:342: FutureWarning: The 'freq' argument in Timestamp is deprecated and will be removed in a future version.\n",
      "  date_key = Timestamp(key, freq=base_index.freq)\n"
     ]
    },
    {
     "data": {
      "text/plain": [
       "2019-03-31    59245.155439\n",
       "2019-06-30    59962.403782\n",
       "2019-09-30    63531.382438\n",
       "2019-12-31    83249.086956\n",
       "2020-03-31    66704.143594\n",
       "Freq: Q-DEC, Name: HW Forecast, dtype: float64"
      ]
     },
     "execution_count": 19,
     "metadata": {},
     "output_type": "execute_result"
    }
   ],
   "source": [
    "fitted_model1 = ExponentialSmoothing(train_data['Revenue'],trend='add',seasonal='mul',seasonal_periods=4).fit()\n",
    "test_predictions = fitted_model1.forecast(5).rename('HW Forecast')\n",
    "test_predictions"
   ]
  },
  {
   "cell_type": "code",
   "execution_count": 20,
   "metadata": {},
   "outputs": [
    {
     "data": {
      "image/png": "[encoded data removed]",
      "text/plain": [
       "<Figure size 864x576 with 1 Axes>"
      ]
     },
     "metadata": {
      "needs_background": "dark"
     },
     "output_type": "display_data"
    }
   ],
   "source": [
    "test_data['Revenue'].plot(legend=True,label='TEST',figsize=(12,8))\n",
    "test_predictions.plot(legend=True,label='PREDICTION');"
   ]
  },
  {
   "cell_type": "code",
   "execution_count": 21,
   "metadata": {},
   "outputs": [
    {
     "data": {
      "text/plain": [
       "6.357947596057553"
      ]
     },
     "execution_count": 21,
     "metadata": {},
     "output_type": "execute_result"
    }
   ],
   "source": [
    "mean_absolute_percentage_error(test_data['Revenue'], test_predictions)"
   ]
  },
  {
   "cell_type": "markdown",
   "metadata": {},
   "source": [
    "#### Holt Winter MAPE 6.35"
   ]
  },
  {
   "cell_type": "code",
   "execution_count": 22,
   "metadata": {},
   "outputs": [
    {
     "data": {
      "image/png": "[encoded data removed]",
      "text/plain": [
       "<Figure size 864x576 with 1 Axes>"
      ]
     },
     "metadata": {
      "needs_background": "dark"
     },
     "output_type": "display_data"
    }
   ],
   "source": [
    "df_rev['Revenue'].plot(legend=True,label='TEST',figsize=(12,8))\n",
    "test_predictions.plot(legend=True,label='PREDICTION');"
   ]
  },
  {
   "cell_type": "code",
   "execution_count": 23,
   "metadata": {},
   "outputs": [
    {
     "name": "stderr",
     "output_type": "stream",
     "text": [
      "C:\\Users\\aryan\\anaconda3\\lib\\site-packages\\statsmodels\\tsa\\base\\tsa_model.py:342: FutureWarning: The 'freq' argument in Timestamp is deprecated and will be removed in a future version.\n",
      "  date_key = Timestamp(key, freq=base_index.freq)\n"
     ]
    },
    {
     "data": {
      "text/plain": [
       "27.551498625178123"
      ]
     },
     "execution_count": 23,
     "metadata": {},
     "output_type": "execute_result"
    }
   ],
   "source": [
    "fitted_model1 = ExponentialSmoothing(df_rev['Revenue'],trend='add',seasonal='mul',seasonal_periods=4).fit()\n",
    "test_predictions = fitted_model1.forecast(5).rename('HW Forecast')\n",
    "mean_absolute_percentage_error(test_data['Revenue'], test_predictions)"
   ]
  },
  {
   "cell_type": "code",
   "execution_count": 24,
   "metadata": {},
   "outputs": [],
   "source": [
    "import warnings\n",
    "warnings.filterwarnings(\"ignore\")"
   ]
  },
  {
   "cell_type": "markdown",
   "metadata": {},
   "source": [
    "### AR Model"
   ]
  },
  {
   "cell_type": "code",
   "execution_count": 25,
   "metadata": {},
   "outputs": [
    {
     "data": {
      "text/plain": [
       "56"
      ]
     },
     "execution_count": 25,
     "metadata": {},
     "output_type": "execute_result"
    }
   ],
   "source": [
    "len(train_data)"
   ]
  },
  {
   "cell_type": "code",
   "execution_count": 26,
   "metadata": {},
   "outputs": [],
   "source": [
    "from statsmodels.tsa.ar_model import AR,ARResults\n",
    "start = len(train_data)\n",
    "end = len(train_data)+len(test_data)-1\n",
    "mape=[]\n",
    "rename = f'AR(1) Predictions'\n",
    "for i in range(1,13):\n",
    "    model = AR(train_data['Revenue'])\n",
    "    ARfit = model.fit(maxlag=i,method='cmle')\n",
    "    #print(f'\\nLag: {ARfit.k_ar}')\n",
    "    #print(f'Coefficients:\\n{ARfit.params}')\n",
    "    predictions23 = ARfit.predict(start=start,end=end,dynamic=False).rename(rename)\n",
    "    #print(mean_absolute_percentage_error(test_data[col],predictions23))\n",
    "    mape.append([mean_absolute_percentage_error(test_data['Revenue'],predictions23),i])"
   ]
  },
  {
   "cell_type": "code",
   "execution_count": 27,
   "metadata": {},
   "outputs": [
    {
     "data": {
      "text/plain": [
       "[1.990863836526378, 5]"
      ]
     },
     "execution_count": 27,
     "metadata": {},
     "output_type": "execute_result"
    }
   ],
   "source": [
    "min(mape)"
   ]
  },
  {
   "cell_type": "code",
   "execution_count": 28,
   "metadata": {},
   "outputs": [
    {
     "name": "stdout",
     "output_type": "stream",
     "text": [
      "Lag: 5\n",
      "Coefficients:\n",
      "const         159.310972\n",
      "L1.Revenue      0.831514\n",
      "L2.Revenue      0.016143\n",
      "L3.Revenue     -0.010671\n",
      "L4.Revenue      1.130804\n",
      "L5.Revenue     -0.927311\n",
      "dtype: float64\n"
     ]
    },
    {
     "data": {
      "text/plain": [
       "1.990863836526378"
      ]
     },
     "execution_count": 28,
     "metadata": {},
     "output_type": "execute_result"
    }
   ],
   "source": [
    "model = AR(train_data['Revenue'])\n",
    "ARfit = model.fit(maxlag=5,method='cmle')\n",
    "print(f'Lag: {ARfit.k_ar}')\n",
    "print(f'Coefficients:\\n{ARfit.params}')\n",
    "predictions23 = ARfit.predict(start=start,end=end,dynamic=False).rename(rename)\n",
    "mean_absolute_percentage_error(test_data['Revenue'],predictions23)"
   ]
  },
  {
   "cell_type": "code",
   "execution_count": 29,
   "metadata": {},
   "outputs": [
    {
     "data": {
      "image/png": "[encoded data removed]",
      "text/plain": [
       "<Figure size 432x288 with 1 Axes>"
      ]
     },
     "metadata": {
      "needs_background": "dark"
     },
     "output_type": "display_data"
    }
   ],
   "source": [
    "test_data['Revenue'].plot(legend=True,label='TEST')\n",
    "predictions23.plot(legend=True,label='PREDICTION');"
   ]
  },
  {
   "cell_type": "code",
   "execution_count": 30,
   "metadata": {},
   "outputs": [
    {
     "data": {
      "image/png": "[encoded data removed]",
      "text/plain": [
       "<Figure size 432x288 with 1 Axes>"
      ]
     },
     "metadata": {
      "needs_background": "dark"
     },
     "output_type": "display_data"
    }
   ],
   "source": [
    "df_rev['Revenue'].plot(legend=True,label='TEST')\n",
    "predictions23.plot(legend=True,label='PREDICTION');"
   ]
  },
  {
   "cell_type": "markdown",
   "metadata": {},
   "source": [
    "AR(5) Model MAPE 1.99"
   ]
  },
  {
   "cell_type": "markdown",
   "metadata": {},
   "source": [
    "### Stationarity"
   ]
  },
  {
   "cell_type": "code",
   "execution_count": 31,
   "metadata": {},
   "outputs": [],
   "source": [
    "from statsmodels.tsa.stattools import adfuller\n",
    "\n",
    "def adf_test(series,title=''):\n",
    "    \"\"\"\n",
    "    Pass in a time series and an optional title, returns an ADF report\n",
    "    \"\"\"\n",
    "    print(f'Augmented Dickey-Fuller Test: {title}')\n",
    "    result = adfuller(series.dropna(),autolag='AIC') # .dropna() handles differenced data\n",
    "    \n",
    "    labels = ['ADF test statistic','p-value','# lags used','# observations']\n",
    "    out = pd.Series(result[0:4],index=labels)\n",
    "\n",
    "    for key,val in result[4].items():\n",
    "        out[f'critical value ({key})']=val\n",
    "        \n",
    "    print(out.to_string())          # .to_string() removes the line \"dtype: float64\"\n",
    "    \n",
    "    if result[1] <= 0.05:\n",
    "        print(\"Strong evidence against the null hypothesis\")\n",
    "        print(\"Reject the null hypothesis\")\n",
    "        print(\"Data has no unit root and is stationary\")\n",
    "    else:\n",
    "        print(\"Weak evidence against the null hypothesis\")\n",
    "        print(\"Fail to reject the null hypothesis\")\n",
    "        print(\"Data has a unit root and is non-stationary\")"
   ]
  },
  {
   "cell_type": "code",
   "execution_count": 32,
   "metadata": {},
   "outputs": [
    {
     "name": "stdout",
     "output_type": "stream",
     "text": [
      "Augmented Dickey-Fuller Test: \n",
      "ADF test statistic       4.042269\n",
      "p-value                  1.000000\n",
      "# lags used              5.000000\n",
      "# observations          50.000000\n",
      "critical value (1%)     -3.568486\n",
      "critical value (5%)     -2.921360\n",
      "critical value (10%)    -2.598662\n",
      "Weak evidence against the null hypothesis\n",
      "Fail to reject the null hypothesis\n",
      "Data has a unit root and is non-stationary\n"
     ]
    }
   ],
   "source": [
    "adf_test(train_data['Revenue'],title='')"
   ]
  },
  {
   "cell_type": "code",
   "execution_count": 33,
   "metadata": {},
   "outputs": [],
   "source": [
    "diff = train_data['Revenue'].diff()"
   ]
  },
  {
   "cell_type": "code",
   "execution_count": 34,
   "metadata": {},
   "outputs": [
    {
     "name": "stdout",
     "output_type": "stream",
     "text": [
      "Augmented Dickey-Fuller Test: \n",
      "ADF test statistic       2.394311\n",
      "p-value                  0.999008\n",
      "# lags used              8.000000\n",
      "# observations          46.000000\n",
      "critical value (1%)     -3.581258\n",
      "critical value (5%)     -2.926785\n",
      "critical value (10%)    -2.601541\n",
      "Weak evidence against the null hypothesis\n",
      "Fail to reject the null hypothesis\n",
      "Data has a unit root and is non-stationary\n"
     ]
    }
   ],
   "source": [
    "adf_test(diff,title='')"
   ]
  },
  {
   "cell_type": "markdown",
   "metadata": {},
   "source": [
    "1"
   ]
  },
  {
   "cell_type": "code",
   "execution_count": 35,
   "metadata": {},
   "outputs": [],
   "source": [
    "diff = diff.diff()"
   ]
  },
  {
   "cell_type": "code",
   "execution_count": 36,
   "metadata": {},
   "outputs": [
    {
     "name": "stdout",
     "output_type": "stream",
     "text": [
      "Augmented Dickey-Fuller Test: \n",
      "ADF test statistic      -4.869994\n",
      "p-value                  0.000040\n",
      "# lags used              5.000000\n",
      "# observations          48.000000\n",
      "critical value (1%)     -3.574589\n",
      "critical value (5%)     -2.923954\n",
      "critical value (10%)    -2.600039\n",
      "Strong evidence against the null hypothesis\n",
      "Reject the null hypothesis\n",
      "Data has no unit root and is stationary\n"
     ]
    }
   ],
   "source": [
    "adf_test(diff,title='')"
   ]
  },
  {
   "cell_type": "markdown",
   "metadata": {},
   "source": [
    "2"
   ]
  },
  {
   "cell_type": "code",
   "execution_count": 37,
   "metadata": {},
   "outputs": [
    {
     "data": {
      "text/plain": [
       "<matplotlib.axes._subplots.AxesSubplot at 0x140a572ac08>"
      ]
     },
     "execution_count": 37,
     "metadata": {},
     "output_type": "execute_result"
    },
    {
     "data": {
      "image/png": "[encoded data removed]",
      "text/plain": [
       "<Figure size 432x288 with 1 Axes>"
      ]
     },
     "metadata": {
      "needs_background": "dark"
     },
     "output_type": "display_data"
    }
   ],
   "source": [
    "diff.plot()"
   ]
  },
  {
   "cell_type": "code",
   "execution_count": 38,
   "metadata": {},
   "outputs": [
    {
     "data": {
      "text/html": [
       "<table class=\"simpletable\">\n",
       "<caption>SARIMAX Results</caption>\n",
       "<tr>\n",
       "  <th>Dep. Variable:</th>           <td>y</td>        <th>  No. Observations:  </th>    <td>56</td>   \n",
       "</tr>\n",
       "<tr>\n",
       "  <th>Model:</th>           <td>SARIMAX(1, 2, 2)</td> <th>  Log Likelihood     </th> <td>-528.876</td>\n",
       "</tr>\n",
       "<tr>\n",
       "  <th>Date:</th>            <td>Tue, 15 Mar 2022</td> <th>  AIC                </th> <td>1067.752</td>\n",
       "</tr>\n",
       "<tr>\n",
       "  <th>Time:</th>                <td>12:07:01</td>     <th>  BIC                </th> <td>1077.697</td>\n",
       "</tr>\n",
       "<tr>\n",
       "  <th>Sample:</th>                  <td>0</td>        <th>  HQIC               </th> <td>1071.587</td>\n",
       "</tr>\n",
       "<tr>\n",
       "  <th></th>                       <td> - 56</td>      <th>                     </th>     <td> </td>   \n",
       "</tr>\n",
       "<tr>\n",
       "  <th>Covariance Type:</th>        <td>opg</td>       <th>                     </th>     <td> </td>   \n",
       "</tr>\n",
       "</table>\n",
       "<table class=\"simpletable\">\n",
       "<tr>\n",
       "      <td></td>         <th>coef</th>     <th>std err</th>      <th>z</th>      <th>P>|z|</th>  <th>[0.025</th>    <th>0.975]</th>  \n",
       "</tr>\n",
       "<tr>\n",
       "  <th>intercept</th> <td>  143.9325</td> <td>   82.303</td> <td>    1.749</td> <td> 0.080</td> <td>  -17.379</td> <td>  305.244</td>\n",
       "</tr>\n",
       "<tr>\n",
       "  <th>ar.L1</th>     <td>   -1.0000</td> <td>    0.039</td> <td>  -25.938</td> <td> 0.000</td> <td>   -1.076</td> <td>   -0.924</td>\n",
       "</tr>\n",
       "<tr>\n",
       "  <th>ma.L1</th>     <td>   -0.0805</td> <td>    0.305</td> <td>   -0.264</td> <td> 0.792</td> <td>   -0.678</td> <td>    0.517</td>\n",
       "</tr>\n",
       "<tr>\n",
       "  <th>ma.L2</th>     <td>   -0.8971</td> <td>    0.243</td> <td>   -3.689</td> <td> 0.000</td> <td>   -1.374</td> <td>   -0.420</td>\n",
       "</tr>\n",
       "<tr>\n",
       "  <th>sigma2</th>    <td> 1.908e+07</td> <td>    0.001</td> <td> 3.17e+10</td> <td> 0.000</td> <td> 1.91e+07</td> <td> 1.91e+07</td>\n",
       "</tr>\n",
       "</table>\n",
       "<table class=\"simpletable\">\n",
       "<tr>\n",
       "  <th>Ljung-Box (Q):</th>          <td>323.35</td> <th>  Jarque-Bera (JB):  </th> <td>1.57</td>\n",
       "</tr>\n",
       "<tr>\n",
       "  <th>Prob(Q):</th>                 <td>0.00</td>  <th>  Prob(JB):          </th> <td>0.46</td>\n",
       "</tr>\n",
       "<tr>\n",
       "  <th>Heteroskedasticity (H):</th>  <td>19.49</td> <th>  Skew:              </th> <td>0.40</td>\n",
       "</tr>\n",
       "<tr>\n",
       "  <th>Prob(H) (two-sided):</th>     <td>0.00</td>  <th>  Kurtosis:          </th> <td>2.78</td>\n",
       "</tr>\n",
       "</table><br/><br/>Warnings:<br/>[1] Covariance matrix calculated using the outer product of gradients (complex-step).<br/>[2] Covariance matrix is singular or near-singular, with condition number 4.23e+28. Standard errors may be unstable."
      ],
      "text/plain": [
       "<class 'statsmodels.iolib.summary.Summary'>\n",
       "\"\"\"\n",
       "                               SARIMAX Results                                \n",
       "==============================================================================\n",
       "Dep. Variable:                      y   No. Observations:                   56\n",
       "Model:               SARIMAX(1, 2, 2)   Log Likelihood                -528.876\n",
       "Date:                Tue, 15 Mar 2022   AIC                           1067.752\n",
       "Time:                        12:07:01   BIC                           1077.697\n",
       "Sample:                             0   HQIC                          1071.587\n",
       "                                 - 56                                         \n",
       "Covariance Type:                  opg                                         \n",
       "==============================================================================\n",
       "                 coef    std err          z      P>|z|      [0.025      0.975]\n",
       "------------------------------------------------------------------------------\n",
       "intercept    143.9325     82.303      1.749      0.080     -17.379     305.244\n",
       "ar.L1         -1.0000      0.039    -25.938      0.000      -1.076      -0.924\n",
       "ma.L1         -0.0805      0.305     -0.264      0.792      -0.678       0.517\n",
       "ma.L2         -0.8971      0.243     -3.689      0.000      -1.374      -0.420\n",
       "sigma2      1.908e+07      0.001   3.17e+10      0.000    1.91e+07    1.91e+07\n",
       "===================================================================================\n",
       "Ljung-Box (Q):                      323.35   Jarque-Bera (JB):                 1.57\n",
       "Prob(Q):                              0.00   Prob(JB):                         0.46\n",
       "Heteroskedasticity (H):              19.49   Skew:                             0.40\n",
       "Prob(H) (two-sided):                  0.00   Kurtosis:                         2.78\n",
       "===================================================================================\n",
       "\n",
       "Warnings:\n",
       "[1] Covariance matrix calculated using the outer product of gradients (complex-step).\n",
       "[2] Covariance matrix is singular or near-singular, with condition number 4.23e+28. Standard errors may be unstable.\n",
       "\"\"\""
      ]
     },
     "execution_count": 38,
     "metadata": {},
     "output_type": "execute_result"
    }
   ],
   "source": [
    "from pmdarima import auto_arima\n",
    "auto_arima(train_data['Revenue']).summary()"
   ]
  },
  {
   "cell_type": "code",
   "execution_count": 39,
   "metadata": {},
   "outputs": [
    {
     "data": {
      "text/html": [
       "<table class=\"simpletable\">\n",
       "<caption>ARIMA Model Results</caption>\n",
       "<tr>\n",
       "  <th>Dep. Variable:</th>    <td>D2.Revenue</td>    <th>  No. Observations:  </th>    <td>54</td>   \n",
       "</tr>\n",
       "<tr>\n",
       "  <th>Model:</th>          <td>ARIMA(1, 2, 1)</td>  <th>  Log Likelihood     </th> <td>-534.978</td>\n",
       "</tr>\n",
       "<tr>\n",
       "  <th>Method:</th>             <td>css-mle</td>     <th>  S.D. of innovations</th> <td>4649.391</td>\n",
       "</tr>\n",
       "<tr>\n",
       "  <th>Date:</th>          <td>Tue, 15 Mar 2022</td> <th>  AIC                </th> <td>1077.956</td>\n",
       "</tr>\n",
       "<tr>\n",
       "  <th>Time:</th>              <td>12:07:03</td>     <th>  BIC                </th> <td>1085.912</td>\n",
       "</tr>\n",
       "<tr>\n",
       "  <th>Sample:</th>           <td>09-30-2005</td>    <th>  HQIC               </th> <td>1081.024</td>\n",
       "</tr>\n",
       "<tr>\n",
       "  <th></th>                 <td>- 12-31-2018</td>   <th>                     </th>     <td> </td>   \n",
       "</tr>\n",
       "</table>\n",
       "<table class=\"simpletable\">\n",
       "<tr>\n",
       "          <td></td>            <th>coef</th>     <th>std err</th>      <th>z</th>      <th>P>|z|</th>  <th>[0.025</th>    <th>0.975]</th>  \n",
       "</tr>\n",
       "<tr>\n",
       "  <th>const</th>            <td>   68.9495</td> <td>   29.952</td> <td>    2.302</td> <td> 0.021</td> <td>   10.246</td> <td>  127.653</td>\n",
       "</tr>\n",
       "<tr>\n",
       "  <th>ar.L1.D2.Revenue</th> <td>   -0.3397</td> <td>    0.136</td> <td>   -2.495</td> <td> 0.013</td> <td>   -0.606</td> <td>   -0.073</td>\n",
       "</tr>\n",
       "<tr>\n",
       "  <th>ma.L1.D2.Revenue</th> <td>   -1.0000</td> <td>    0.054</td> <td>  -18.384</td> <td> 0.000</td> <td>   -1.107</td> <td>   -0.893</td>\n",
       "</tr>\n",
       "</table>\n",
       "<table class=\"simpletable\">\n",
       "<caption>Roots</caption>\n",
       "<tr>\n",
       "    <td></td>   <th>            Real</th>  <th>         Imaginary</th> <th>         Modulus</th>  <th>        Frequency</th>\n",
       "</tr>\n",
       "<tr>\n",
       "  <th>AR.1</th> <td>          -2.9440</td> <td>          +0.0000j</td> <td>           2.9440</td> <td>           0.5000</td>\n",
       "</tr>\n",
       "<tr>\n",
       "  <th>MA.1</th> <td>           1.0000</td> <td>          +0.0000j</td> <td>           1.0000</td> <td>           0.0000</td>\n",
       "</tr>\n",
       "</table>"
      ],
      "text/plain": [
       "<class 'statsmodels.iolib.summary.Summary'>\n",
       "\"\"\"\n",
       "                             ARIMA Model Results                              \n",
       "==============================================================================\n",
       "Dep. Variable:             D2.Revenue   No. Observations:                   54\n",
       "Model:                 ARIMA(1, 2, 1)   Log Likelihood                -534.978\n",
       "Method:                       css-mle   S.D. of innovations           4649.391\n",
       "Date:                Tue, 15 Mar 2022   AIC                           1077.956\n",
       "Time:                        12:07:03   BIC                           1085.912\n",
       "Sample:                    09-30-2005   HQIC                          1081.024\n",
       "                         - 12-31-2018                                         \n",
       "====================================================================================\n",
       "                       coef    std err          z      P>|z|      [0.025      0.975]\n",
       "------------------------------------------------------------------------------------\n",
       "const               68.9495     29.952      2.302      0.021      10.246     127.653\n",
       "ar.L1.D2.Revenue    -0.3397      0.136     -2.495      0.013      -0.606      -0.073\n",
       "ma.L1.D2.Revenue    -1.0000      0.054    -18.384      0.000      -1.107      -0.893\n",
       "                                    Roots                                    \n",
       "=============================================================================\n",
       "                  Real          Imaginary           Modulus         Frequency\n",
       "-----------------------------------------------------------------------------\n",
       "AR.1           -2.9440           +0.0000j            2.9440            0.5000\n",
       "MA.1            1.0000           +0.0000j            1.0000            0.0000\n",
       "-----------------------------------------------------------------------------\n",
       "\"\"\""
      ]
     },
     "execution_count": 39,
     "metadata": {},
     "output_type": "execute_result"
    }
   ],
   "source": [
    "from statsmodels.tsa.arima_model import ARMA,ARMAResults,ARIMA,ARIMAResults\n",
    "from statsmodels.graphics.tsaplots import plot_acf,plot_pacf\n",
    "\n",
    "model = ARIMA(train_data['Revenue'],order=(1,2,1))\n",
    "results = model.fit()\n",
    "results.summary()"
   ]
  },
  {
   "cell_type": "markdown",
   "metadata": {},
   "source": [
    "model = ARIMA(train_data['Revenue'],order=(1,2,2))\n",
    "results = model.fit()\n",
    "results.summary()"
   ]
  },
  {
   "cell_type": "code",
   "execution_count": 41,
   "metadata": {},
   "outputs": [
    {
     "data": {
      "text/plain": [
       "104.31709890485332"
      ]
     },
     "execution_count": 41,
     "metadata": {},
     "output_type": "execute_result"
    }
   ],
   "source": [
    "start=len(train_data)\n",
    "end=len(train_data)+len(test_data)-1\n",
    "predictions = results.predict(start=start, end=end).rename('ARIMA(2,2) Predictions')\n",
    "mean_absolute_percentage_error(test_data['Revenue'],predictions)"
   ]
  },
  {
   "cell_type": "code",
   "execution_count": 42,
   "metadata": {},
   "outputs": [
    {
     "data": {
      "image/png": "[encoded data removed]",
      "text/plain": [
       "<Figure size 432x288 with 1 Axes>"
      ]
     },
     "metadata": {
      "needs_background": "dark"
     },
     "output_type": "display_data"
    }
   ],
   "source": [
    "test_data['Revenue'].plot(legend=True,label='TEST')\n",
    "predictions.plot(legend=True,label='PREDICTION');"
   ]
  },
  {
   "cell_type": "code",
   "execution_count": 43,
   "metadata": {},
   "outputs": [
    {
     "data": {
      "text/html": [
       "<table class=\"simpletable\">\n",
       "<caption>SARIMAX Results</caption>\n",
       "<tr>\n",
       "  <th>Dep. Variable:</th>           <td>y</td>        <th>  No. Observations:  </th>    <td>54</td>   \n",
       "</tr>\n",
       "<tr>\n",
       "  <th>Model:</th>           <td>SARIMAX(1, 0, 2)</td> <th>  Log Likelihood     </th> <td>-535.398</td>\n",
       "</tr>\n",
       "<tr>\n",
       "  <th>Date:</th>            <td>Tue, 15 Mar 2022</td> <th>  AIC                </th> <td>1080.796</td>\n",
       "</tr>\n",
       "<tr>\n",
       "  <th>Time:</th>                <td>12:07:24</td>     <th>  BIC                </th> <td>1090.741</td>\n",
       "</tr>\n",
       "<tr>\n",
       "  <th>Sample:</th>                  <td>0</td>        <th>  HQIC               </th> <td>1084.632</td>\n",
       "</tr>\n",
       "<tr>\n",
       "  <th></th>                       <td> - 54</td>      <th>                     </th>     <td> </td>   \n",
       "</tr>\n",
       "<tr>\n",
       "  <th>Covariance Type:</th>        <td>opg</td>       <th>                     </th>     <td> </td>   \n",
       "</tr>\n",
       "</table>\n",
       "<table class=\"simpletable\">\n",
       "<tr>\n",
       "      <td></td>         <th>coef</th>     <th>std err</th>      <th>z</th>      <th>P>|z|</th>  <th>[0.025</th>    <th>0.975]</th>  \n",
       "</tr>\n",
       "<tr>\n",
       "  <th>intercept</th> <td> -217.3673</td> <td>  534.192</td> <td>   -0.407</td> <td> 0.684</td> <td>-1264.364</td> <td>  829.629</td>\n",
       "</tr>\n",
       "<tr>\n",
       "  <th>ar.L1</th>     <td>   -0.9898</td> <td>    0.093</td> <td>  -10.667</td> <td> 0.000</td> <td>   -1.172</td> <td>   -0.808</td>\n",
       "</tr>\n",
       "<tr>\n",
       "  <th>ma.L1</th>     <td>    0.0520</td> <td>    0.316</td> <td>    0.165</td> <td> 0.869</td> <td>   -0.567</td> <td>    0.670</td>\n",
       "</tr>\n",
       "<tr>\n",
       "  <th>ma.L2</th>     <td>   -0.7853</td> <td>    0.319</td> <td>   -2.464</td> <td> 0.014</td> <td>   -1.410</td> <td>   -0.161</td>\n",
       "</tr>\n",
       "<tr>\n",
       "  <th>sigma2</th>    <td> 3.147e+07</td> <td>    0.006</td> <td>  5.1e+09</td> <td> 0.000</td> <td> 3.15e+07</td> <td> 3.15e+07</td>\n",
       "</tr>\n",
       "</table>\n",
       "<table class=\"simpletable\">\n",
       "<tr>\n",
       "  <th>Ljung-Box (Q):</th>          <td>302.47</td> <th>  Jarque-Bera (JB):  </th> <td>1.18</td>\n",
       "</tr>\n",
       "<tr>\n",
       "  <th>Prob(Q):</th>                 <td>0.00</td>  <th>  Prob(JB):          </th> <td>0.56</td>\n",
       "</tr>\n",
       "<tr>\n",
       "  <th>Heteroskedasticity (H):</th>  <td>19.41</td> <th>  Skew:              </th> <td>0.36</td>\n",
       "</tr>\n",
       "<tr>\n",
       "  <th>Prob(H) (two-sided):</th>     <td>0.00</td>  <th>  Kurtosis:          </th> <td>2.87</td>\n",
       "</tr>\n",
       "</table><br/><br/>Warnings:<br/>[1] Covariance matrix calculated using the outer product of gradients (complex-step).<br/>[2] Covariance matrix is singular or near-singular, with condition number 2.42e+26. Standard errors may be unstable."
      ],
      "text/plain": [
       "<class 'statsmodels.iolib.summary.Summary'>\n",
       "\"\"\"\n",
       "                               SARIMAX Results                                \n",
       "==============================================================================\n",
       "Dep. Variable:                      y   No. Observations:                   54\n",
       "Model:               SARIMAX(1, 0, 2)   Log Likelihood                -535.398\n",
       "Date:                Tue, 15 Mar 2022   AIC                           1080.796\n",
       "Time:                        12:07:24   BIC                           1090.741\n",
       "Sample:                             0   HQIC                          1084.632\n",
       "                                 - 54                                         \n",
       "Covariance Type:                  opg                                         \n",
       "==============================================================================\n",
       "                 coef    std err          z      P>|z|      [0.025      0.975]\n",
       "------------------------------------------------------------------------------\n",
       "intercept   -217.3673    534.192     -0.407      0.684   -1264.364     829.629\n",
       "ar.L1         -0.9898      0.093    -10.667      0.000      -1.172      -0.808\n",
       "ma.L1          0.0520      0.316      0.165      0.869      -0.567       0.670\n",
       "ma.L2         -0.7853      0.319     -2.464      0.014      -1.410      -0.161\n",
       "sigma2      3.147e+07      0.006    5.1e+09      0.000    3.15e+07    3.15e+07\n",
       "===================================================================================\n",
       "Ljung-Box (Q):                      302.47   Jarque-Bera (JB):                 1.18\n",
       "Prob(Q):                              0.00   Prob(JB):                         0.56\n",
       "Heteroskedasticity (H):              19.41   Skew:                             0.36\n",
       "Prob(H) (two-sided):                  0.00   Kurtosis:                         2.87\n",
       "===================================================================================\n",
       "\n",
       "Warnings:\n",
       "[1] Covariance matrix calculated using the outer product of gradients (complex-step).\n",
       "[2] Covariance matrix is singular or near-singular, with condition number 2.42e+26. Standard errors may be unstable.\n",
       "\"\"\""
      ]
     },
     "execution_count": 43,
     "metadata": {},
     "output_type": "execute_result"
    }
   ],
   "source": [
    "from pmdarima import auto_arima\n",
    "auto_arima(diff[2:]).summary()"
   ]
  },
  {
   "cell_type": "code",
   "execution_count": 66,
   "metadata": {},
   "outputs": [
    {
     "data": {
      "text/html": [
       "<table class=\"simpletable\">\n",
       "<caption>ARMA Model Results</caption>\n",
       "<tr>\n",
       "  <th>Dep. Variable:</th>      <td>Revenue</td>     <th>  No. Observations:  </th>    <td>54</td>   \n",
       "</tr>\n",
       "<tr>\n",
       "  <th>Model:</th>            <td>ARMA(1, 1)</td>    <th>  Log Likelihood     </th> <td>-534.978</td>\n",
       "</tr>\n",
       "<tr>\n",
       "  <th>Method:</th>             <td>css-mle</td>     <th>  S.D. of innovations</th> <td>4649.391</td>\n",
       "</tr>\n",
       "<tr>\n",
       "  <th>Date:</th>          <td>Tue, 15 Mar 2022</td> <th>  AIC                </th> <td>1077.956</td>\n",
       "</tr>\n",
       "<tr>\n",
       "  <th>Time:</th>              <td>12:12:31</td>     <th>  BIC                </th> <td>1085.912</td>\n",
       "</tr>\n",
       "<tr>\n",
       "  <th>Sample:</th>           <td>09-30-2005</td>    <th>  HQIC               </th> <td>1081.024</td>\n",
       "</tr>\n",
       "<tr>\n",
       "  <th></th>                 <td>- 12-31-2018</td>   <th>                     </th>     <td> </td>   \n",
       "</tr>\n",
       "</table>\n",
       "<table class=\"simpletable\">\n",
       "<tr>\n",
       "        <td></td>           <th>coef</th>     <th>std err</th>      <th>z</th>      <th>P>|z|</th>  <th>[0.025</th>    <th>0.975]</th>  \n",
       "</tr>\n",
       "<tr>\n",
       "  <th>const</th>         <td>   68.9495</td> <td>   29.952</td> <td>    2.302</td> <td> 0.021</td> <td>   10.246</td> <td>  127.653</td>\n",
       "</tr>\n",
       "<tr>\n",
       "  <th>ar.L1.Revenue</th> <td>   -0.3397</td> <td>    0.136</td> <td>   -2.495</td> <td> 0.013</td> <td>   -0.606</td> <td>   -0.073</td>\n",
       "</tr>\n",
       "<tr>\n",
       "  <th>ma.L1.Revenue</th> <td>   -1.0000</td> <td>    0.054</td> <td>  -18.384</td> <td> 0.000</td> <td>   -1.107</td> <td>   -0.893</td>\n",
       "</tr>\n",
       "</table>\n",
       "<table class=\"simpletable\">\n",
       "<caption>Roots</caption>\n",
       "<tr>\n",
       "    <td></td>   <th>            Real</th>  <th>         Imaginary</th> <th>         Modulus</th>  <th>        Frequency</th>\n",
       "</tr>\n",
       "<tr>\n",
       "  <th>AR.1</th> <td>          -2.9440</td> <td>          +0.0000j</td> <td>           2.9440</td> <td>           0.5000</td>\n",
       "</tr>\n",
       "<tr>\n",
       "  <th>MA.1</th> <td>           1.0000</td> <td>          +0.0000j</td> <td>           1.0000</td> <td>           0.0000</td>\n",
       "</tr>\n",
       "</table>"
      ],
      "text/plain": [
       "<class 'statsmodels.iolib.summary.Summary'>\n",
       "\"\"\"\n",
       "                              ARMA Model Results                              \n",
       "==============================================================================\n",
       "Dep. Variable:                Revenue   No. Observations:                   54\n",
       "Model:                     ARMA(1, 1)   Log Likelihood                -534.978\n",
       "Method:                       css-mle   S.D. of innovations           4649.391\n",
       "Date:                Tue, 15 Mar 2022   AIC                           1077.956\n",
       "Time:                        12:12:31   BIC                           1085.912\n",
       "Sample:                    09-30-2005   HQIC                          1081.024\n",
       "                         - 12-31-2018                                         \n",
       "=================================================================================\n",
       "                    coef    std err          z      P>|z|      [0.025      0.975]\n",
       "---------------------------------------------------------------------------------\n",
       "const            68.9495     29.952      2.302      0.021      10.246     127.653\n",
       "ar.L1.Revenue    -0.3397      0.136     -2.495      0.013      -0.606      -0.073\n",
       "ma.L1.Revenue    -1.0000      0.054    -18.384      0.000      -1.107      -0.893\n",
       "                                    Roots                                    \n",
       "=============================================================================\n",
       "                  Real          Imaginary           Modulus         Frequency\n",
       "-----------------------------------------------------------------------------\n",
       "AR.1           -2.9440           +0.0000j            2.9440            0.5000\n",
       "MA.1            1.0000           +0.0000j            1.0000            0.0000\n",
       "-----------------------------------------------------------------------------\n",
       "\"\"\""
      ]
     },
     "execution_count": 66,
     "metadata": {},
     "output_type": "execute_result"
    }
   ],
   "source": [
    "model = ARMA(diff[2:],order=(1,1))\n",
    "results = model.fit()\n",
    "results.summary()"
   ]
  },
  {
   "cell_type": "code",
   "execution_count": 67,
   "metadata": {},
   "outputs": [],
   "source": [
    "start=len(train_data)-2\n",
    "end=len(train_data)+len(test_data)-1-2\n",
    "predictions = results.predict(start=start, end=end).rename('ARMA(2,2) Predictions')"
   ]
  },
  {
   "cell_type": "code",
   "execution_count": 68,
   "metadata": {},
   "outputs": [
    {
     "data": {
      "text/html": [
       "<div>\n",
       "<style scoped>\n",
       "    .dataframe tbody tr th:only-of-type {\n",
       "        vertical-align: middle;\n",
       "    }\n",
       "\n",
       "    .dataframe tbody tr th {\n",
       "        vertical-align: top;\n",
       "    }\n",
       "\n",
       "    .dataframe thead th {\n",
       "        text-align: right;\n",
       "    }\n",
       "</style>\n",
       "<table border=\"1\" class=\"dataframe\">\n",
       "  <thead>\n",
       "    <tr style=\"text-align: right;\">\n",
       "      <th></th>\n",
       "      <th>Revenue</th>\n",
       "      <th>DESadd4</th>\n",
       "      <th>TESadd12</th>\n",
       "    </tr>\n",
       "  </thead>\n",
       "  <tbody>\n",
       "    <tr>\n",
       "      <th>2019-03-31</th>\n",
       "      <td>59700</td>\n",
       "      <td>68376.402156</td>\n",
       "      <td>59900.345152</td>\n",
       "    </tr>\n",
       "    <tr>\n",
       "      <th>2019-06-30</th>\n",
       "      <td>63404</td>\n",
       "      <td>70088.844712</td>\n",
       "      <td>60645.145296</td>\n",
       "    </tr>\n",
       "    <tr>\n",
       "      <th>2019-09-30</th>\n",
       "      <td>69981</td>\n",
       "      <td>73073.965493</td>\n",
       "      <td>66695.242553</td>\n",
       "    </tr>\n",
       "    <tr>\n",
       "      <th>2019-12-31</th>\n",
       "      <td>87437</td>\n",
       "      <td>80861.882364</td>\n",
       "      <td>90488.596246</td>\n",
       "    </tr>\n",
       "    <tr>\n",
       "      <th>2020-03-31</th>\n",
       "      <td>75452</td>\n",
       "      <td>NaN</td>\n",
       "      <td>73614.183860</td>\n",
       "    </tr>\n",
       "  </tbody>\n",
       "</table>\n",
       "</div>"
      ],
      "text/plain": [
       "            Revenue       DESadd4      TESadd12\n",
       "2019-03-31    59700  68376.402156  59900.345152\n",
       "2019-06-30    63404  70088.844712  60645.145296\n",
       "2019-09-30    69981  73073.965493  66695.242553\n",
       "2019-12-31    87437  80861.882364  90488.596246\n",
       "2020-03-31    75452           NaN  73614.183860"
      ]
     },
     "execution_count": 68,
     "metadata": {},
     "output_type": "execute_result"
    }
   ],
   "source": [
    "test_data"
   ]
  },
  {
   "cell_type": "code",
   "execution_count": 69,
   "metadata": {},
   "outputs": [
    {
     "data": {
      "text/html": [
       "<div>\n",
       "<style scoped>\n",
       "    .dataframe tbody tr th:only-of-type {\n",
       "        vertical-align: middle;\n",
       "    }\n",
       "\n",
       "    .dataframe tbody tr th {\n",
       "        vertical-align: top;\n",
       "    }\n",
       "\n",
       "    .dataframe thead th {\n",
       "        text-align: right;\n",
       "    }\n",
       "</style>\n",
       "<table border=\"1\" class=\"dataframe\">\n",
       "  <thead>\n",
       "    <tr style=\"text-align: right;\">\n",
       "      <th></th>\n",
       "      <th>Fcast</th>\n",
       "    </tr>\n",
       "  </thead>\n",
       "  <tbody>\n",
       "    <tr>\n",
       "      <th>2019-03-31</th>\n",
       "      <td>-17220.336669</td>\n",
       "    </tr>\n",
       "    <tr>\n",
       "      <th>2019-06-30</th>\n",
       "      <td>5941.669050</td>\n",
       "    </tr>\n",
       "    <tr>\n",
       "      <th>2019-09-30</th>\n",
       "      <td>-1925.860212</td>\n",
       "    </tr>\n",
       "    <tr>\n",
       "      <th>2019-12-31</th>\n",
       "      <td>746.534288</td>\n",
       "    </tr>\n",
       "    <tr>\n",
       "      <th>2020-03-31</th>\n",
       "      <td>-161.208426</td>\n",
       "    </tr>\n",
       "  </tbody>\n",
       "</table>\n",
       "</div>"
      ],
      "text/plain": [
       "                   Fcast\n",
       "2019-03-31 -17220.336669\n",
       "2019-06-30   5941.669050\n",
       "2019-09-30  -1925.860212\n",
       "2019-12-31    746.534288\n",
       "2020-03-31   -161.208426"
      ]
     },
     "execution_count": 69,
     "metadata": {},
     "output_type": "execute_result"
    }
   ],
   "source": [
    "idx = pd.date_range('2019-03-31', periods=5, freq='Q')\n",
    "pred = pd.DataFrame(predictions.to_list(),index=idx,columns=['Fcast'])\n",
    "pred\n"
   ]
  },
  {
   "cell_type": "code",
   "execution_count": 70,
   "metadata": {},
   "outputs": [
    {
     "data": {
      "text/html": [
       "<div>\n",
       "<style scoped>\n",
       "    .dataframe tbody tr th:only-of-type {\n",
       "        vertical-align: middle;\n",
       "    }\n",
       "\n",
       "    .dataframe tbody tr th {\n",
       "        vertical-align: top;\n",
       "    }\n",
       "\n",
       "    .dataframe thead th {\n",
       "        text-align: right;\n",
       "    }\n",
       "</style>\n",
       "<table border=\"1\" class=\"dataframe\">\n",
       "  <thead>\n",
       "    <tr style=\"text-align: right;\">\n",
       "      <th></th>\n",
       "      <th>Fcast</th>\n",
       "      <th>forecast</th>\n",
       "    </tr>\n",
       "  </thead>\n",
       "  <tbody>\n",
       "    <tr>\n",
       "      <th>2019-03-31</th>\n",
       "      <td>-17220.336669</td>\n",
       "      <td>70969.663331</td>\n",
       "    </tr>\n",
       "    <tr>\n",
       "      <th>2019-06-30</th>\n",
       "      <td>5941.669050</td>\n",
       "      <td>75497.995711</td>\n",
       "    </tr>\n",
       "    <tr>\n",
       "      <th>2019-09-30</th>\n",
       "      <td>-1925.860212</td>\n",
       "      <td>78100.467881</td>\n",
       "    </tr>\n",
       "    <tr>\n",
       "      <th>2019-12-31</th>\n",
       "      <td>746.534288</td>\n",
       "      <td>81449.474338</td>\n",
       "    </tr>\n",
       "    <tr>\n",
       "      <th>2020-03-31</th>\n",
       "      <td>-161.208426</td>\n",
       "      <td>84637.272369</td>\n",
       "    </tr>\n",
       "  </tbody>\n",
       "</table>\n",
       "</div>"
      ],
      "text/plain": [
       "                   Fcast      forecast\n",
       "2019-03-31 -17220.336669  70969.663331\n",
       "2019-06-30   5941.669050  75497.995711\n",
       "2019-09-30  -1925.860212  78100.467881\n",
       "2019-12-31    746.534288  81449.474338\n",
       "2020-03-31   -161.208426  84637.272369"
      ]
     },
     "execution_count": 70,
     "metadata": {},
     "output_type": "execute_result"
    }
   ],
   "source": [
    "forecast = []\n",
    "\n",
    "# Capture the two most recent values from the training set\n",
    "v2,v1 = train_data['Revenue'].iloc[-2:]\n",
    "\n",
    "# Apply the formula\n",
    "for i in pred['Fcast']:\n",
    "    newval = i + 2*v1 - v2\n",
    "    forecast.append(newval)\n",
    "    v2,v1 = v1,newval\n",
    "\n",
    "pred['forecast']=forecast\n",
    "pred"
   ]
  },
  {
   "cell_type": "code",
   "execution_count": 71,
   "metadata": {},
   "outputs": [
    {
     "data": {
      "text/plain": [
       "13.71510534963058"
      ]
     },
     "execution_count": 71,
     "metadata": {},
     "output_type": "execute_result"
    }
   ],
   "source": [
    "mean_absolute_percentage_error(test_data['Revenue'], pred['forecast'])"
   ]
  },
  {
   "cell_type": "code",
   "execution_count": 72,
   "metadata": {},
   "outputs": [
    {
     "data": {
      "text/html": [
       "<table class=\"simpletable\">\n",
       "<caption>SARIMAX Results</caption>\n",
       "<tr>\n",
       "  <th>Dep. Variable:</th>                  <td>y</td>               <th>  No. Observations:  </th>    <td>56</td>   \n",
       "</tr>\n",
       "<tr>\n",
       "  <th>Model:</th>           <td>SARIMAX(2, 1, 2)x(2, 1, [], 4)</td> <th>  Log Likelihood     </th> <td>-417.174</td>\n",
       "</tr>\n",
       "<tr>\n",
       "  <th>Date:</th>                   <td>Tue, 15 Mar 2022</td>        <th>  AIC                </th>  <td>848.347</td>\n",
       "</tr>\n",
       "<tr>\n",
       "  <th>Time:</th>                       <td>12:13:08</td>            <th>  BIC                </th>  <td>861.870</td>\n",
       "</tr>\n",
       "<tr>\n",
       "  <th>Sample:</th>                         <td>0</td>               <th>  HQIC               </th>  <td>853.514</td>\n",
       "</tr>\n",
       "<tr>\n",
       "  <th></th>                              <td> - 56</td>             <th>                     </th>     <td> </td>   \n",
       "</tr>\n",
       "<tr>\n",
       "  <th>Covariance Type:</th>               <td>opg</td>              <th>                     </th>     <td> </td>   \n",
       "</tr>\n",
       "</table>\n",
       "<table class=\"simpletable\">\n",
       "<tr>\n",
       "     <td></td>        <th>coef</th>     <th>std err</th>      <th>z</th>      <th>P>|z|</th>  <th>[0.025</th>    <th>0.975]</th>  \n",
       "</tr>\n",
       "<tr>\n",
       "  <th>ar.L1</th>   <td>    1.3398</td> <td>    0.262</td> <td>    5.112</td> <td> 0.000</td> <td>    0.826</td> <td>    1.853</td>\n",
       "</tr>\n",
       "<tr>\n",
       "  <th>ar.L2</th>   <td>   -0.9675</td> <td>    0.205</td> <td>   -4.724</td> <td> 0.000</td> <td>   -1.369</td> <td>   -0.566</td>\n",
       "</tr>\n",
       "<tr>\n",
       "  <th>ma.L1</th>   <td>   -0.9597</td> <td>    0.296</td> <td>   -3.241</td> <td> 0.001</td> <td>   -1.540</td> <td>   -0.379</td>\n",
       "</tr>\n",
       "<tr>\n",
       "  <th>ma.L2</th>   <td>    0.4501</td> <td>    0.246</td> <td>    1.831</td> <td> 0.067</td> <td>   -0.032</td> <td>    0.932</td>\n",
       "</tr>\n",
       "<tr>\n",
       "  <th>ar.S.L4</th> <td>    0.4082</td> <td>    0.370</td> <td>    1.103</td> <td> 0.270</td> <td>   -0.317</td> <td>    1.134</td>\n",
       "</tr>\n",
       "<tr>\n",
       "  <th>ar.S.L8</th> <td>    0.4525</td> <td>    0.510</td> <td>    0.887</td> <td> 0.375</td> <td>   -0.548</td> <td>    1.453</td>\n",
       "</tr>\n",
       "<tr>\n",
       "  <th>sigma2</th>  <td> 6.802e+05</td> <td> 1.36e+05</td> <td>    5.010</td> <td> 0.000</td> <td> 4.14e+05</td> <td> 9.46e+05</td>\n",
       "</tr>\n",
       "</table>\n",
       "<table class=\"simpletable\">\n",
       "<tr>\n",
       "  <th>Ljung-Box (Q):</th>          <td>19.78</td> <th>  Jarque-Bera (JB):  </th> <td>38.65</td>\n",
       "</tr>\n",
       "<tr>\n",
       "  <th>Prob(Q):</th>                <td>1.00</td>  <th>  Prob(JB):          </th> <td>0.00</td> \n",
       "</tr>\n",
       "<tr>\n",
       "  <th>Heteroskedasticity (H):</th> <td>10.42</td> <th>  Skew:              </th> <td>0.75</td> \n",
       "</tr>\n",
       "<tr>\n",
       "  <th>Prob(H) (two-sided):</th>    <td>0.00</td>  <th>  Kurtosis:          </th> <td>7.00</td> \n",
       "</tr>\n",
       "</table><br/><br/>Warnings:<br/>[1] Covariance matrix calculated using the outer product of gradients (complex-step)."
      ],
      "text/plain": [
       "<class 'statsmodels.iolib.summary.Summary'>\n",
       "\"\"\"\n",
       "                                     SARIMAX Results                                      \n",
       "==========================================================================================\n",
       "Dep. Variable:                                  y   No. Observations:                   56\n",
       "Model:             SARIMAX(2, 1, 2)x(2, 1, [], 4)   Log Likelihood                -417.174\n",
       "Date:                            Tue, 15 Mar 2022   AIC                            848.347\n",
       "Time:                                    12:13:08   BIC                            861.870\n",
       "Sample:                                         0   HQIC                           853.514\n",
       "                                             - 56                                         \n",
       "Covariance Type:                              opg                                         \n",
       "==============================================================================\n",
       "                 coef    std err          z      P>|z|      [0.025      0.975]\n",
       "------------------------------------------------------------------------------\n",
       "ar.L1          1.3398      0.262      5.112      0.000       0.826       1.853\n",
       "ar.L2         -0.9675      0.205     -4.724      0.000      -1.369      -0.566\n",
       "ma.L1         -0.9597      0.296     -3.241      0.001      -1.540      -0.379\n",
       "ma.L2          0.4501      0.246      1.831      0.067      -0.032       0.932\n",
       "ar.S.L4        0.4082      0.370      1.103      0.270      -0.317       1.134\n",
       "ar.S.L8        0.4525      0.510      0.887      0.375      -0.548       1.453\n",
       "sigma2      6.802e+05   1.36e+05      5.010      0.000    4.14e+05    9.46e+05\n",
       "===================================================================================\n",
       "Ljung-Box (Q):                       19.78   Jarque-Bera (JB):                38.65\n",
       "Prob(Q):                              1.00   Prob(JB):                         0.00\n",
       "Heteroskedasticity (H):              10.42   Skew:                             0.75\n",
       "Prob(H) (two-sided):                  0.00   Kurtosis:                         7.00\n",
       "===================================================================================\n",
       "\n",
       "Warnings:\n",
       "[1] Covariance matrix calculated using the outer product of gradients (complex-step).\n",
       "\"\"\""
      ]
     },
     "execution_count": 72,
     "metadata": {},
     "output_type": "execute_result"
    }
   ],
   "source": [
    "from pmdarima import auto_arima\n",
    "auto_arima(train_data['Revenue'],m=4).summary()"
   ]
  },
  {
   "cell_type": "code",
   "execution_count": 73,
   "metadata": {},
   "outputs": [
    {
     "data": {
      "text/html": [
       "<table class=\"simpletable\">\n",
       "<caption>SARIMAX Results</caption>\n",
       "<tr>\n",
       "  <th>Dep. Variable:</th>               <td>Revenue</td>            <th>  No. Observations:  </th>    <td>56</td>   \n",
       "</tr>\n",
       "<tr>\n",
       "  <th>Model:</th>           <td>SARIMAX(2, 1, 2)x(2, 1, [], 4)</td> <th>  Log Likelihood     </th> <td>-417.174</td>\n",
       "</tr>\n",
       "<tr>\n",
       "  <th>Date:</th>                   <td>Tue, 15 Mar 2022</td>        <th>  AIC                </th>  <td>848.347</td>\n",
       "</tr>\n",
       "<tr>\n",
       "  <th>Time:</th>                       <td>12:14:21</td>            <th>  BIC                </th>  <td>861.870</td>\n",
       "</tr>\n",
       "<tr>\n",
       "  <th>Sample:</th>                    <td>03-31-2005</td>           <th>  HQIC               </th>  <td>853.514</td>\n",
       "</tr>\n",
       "<tr>\n",
       "  <th></th>                          <td>- 12-31-2018</td>          <th>                     </th>     <td> </td>   \n",
       "</tr>\n",
       "<tr>\n",
       "  <th>Covariance Type:</th>               <td>opg</td>              <th>                     </th>     <td> </td>   \n",
       "</tr>\n",
       "</table>\n",
       "<table class=\"simpletable\">\n",
       "<tr>\n",
       "     <td></td>        <th>coef</th>     <th>std err</th>      <th>z</th>      <th>P>|z|</th>  <th>[0.025</th>    <th>0.975]</th>  \n",
       "</tr>\n",
       "<tr>\n",
       "  <th>ar.L1</th>   <td>    1.3398</td> <td>    0.262</td> <td>    5.112</td> <td> 0.000</td> <td>    0.826</td> <td>    1.853</td>\n",
       "</tr>\n",
       "<tr>\n",
       "  <th>ar.L2</th>   <td>   -0.9675</td> <td>    0.205</td> <td>   -4.724</td> <td> 0.000</td> <td>   -1.369</td> <td>   -0.566</td>\n",
       "</tr>\n",
       "<tr>\n",
       "  <th>ma.L1</th>   <td>   -0.9597</td> <td>    0.296</td> <td>   -3.241</td> <td> 0.001</td> <td>   -1.540</td> <td>   -0.379</td>\n",
       "</tr>\n",
       "<tr>\n",
       "  <th>ma.L2</th>   <td>    0.4501</td> <td>    0.246</td> <td>    1.831</td> <td> 0.067</td> <td>   -0.032</td> <td>    0.932</td>\n",
       "</tr>\n",
       "<tr>\n",
       "  <th>ar.S.L4</th> <td>    0.4082</td> <td>    0.370</td> <td>    1.103</td> <td> 0.270</td> <td>   -0.317</td> <td>    1.134</td>\n",
       "</tr>\n",
       "<tr>\n",
       "  <th>ar.S.L8</th> <td>    0.4525</td> <td>    0.510</td> <td>    0.887</td> <td> 0.375</td> <td>   -0.548</td> <td>    1.453</td>\n",
       "</tr>\n",
       "<tr>\n",
       "  <th>sigma2</th>  <td> 6.802e+05</td> <td> 1.36e+05</td> <td>    5.010</td> <td> 0.000</td> <td> 4.14e+05</td> <td> 9.46e+05</td>\n",
       "</tr>\n",
       "</table>\n",
       "<table class=\"simpletable\">\n",
       "<tr>\n",
       "  <th>Ljung-Box (Q):</th>          <td>19.78</td> <th>  Jarque-Bera (JB):  </th> <td>38.65</td>\n",
       "</tr>\n",
       "<tr>\n",
       "  <th>Prob(Q):</th>                <td>1.00</td>  <th>  Prob(JB):          </th> <td>0.00</td> \n",
       "</tr>\n",
       "<tr>\n",
       "  <th>Heteroskedasticity (H):</th> <td>10.42</td> <th>  Skew:              </th> <td>0.75</td> \n",
       "</tr>\n",
       "<tr>\n",
       "  <th>Prob(H) (two-sided):</th>    <td>0.00</td>  <th>  Kurtosis:          </th> <td>7.00</td> \n",
       "</tr>\n",
       "</table><br/><br/>Warnings:<br/>[1] Covariance matrix calculated using the outer product of gradients (complex-step)."
      ],
      "text/plain": [
       "<class 'statsmodels.iolib.summary.Summary'>\n",
       "\"\"\"\n",
       "                                     SARIMAX Results                                      \n",
       "==========================================================================================\n",
       "Dep. Variable:                            Revenue   No. Observations:                   56\n",
       "Model:             SARIMAX(2, 1, 2)x(2, 1, [], 4)   Log Likelihood                -417.174\n",
       "Date:                            Tue, 15 Mar 2022   AIC                            848.347\n",
       "Time:                                    12:14:21   BIC                            861.870\n",
       "Sample:                                03-31-2005   HQIC                           853.514\n",
       "                                     - 12-31-2018                                         \n",
       "Covariance Type:                              opg                                         \n",
       "==============================================================================\n",
       "                 coef    std err          z      P>|z|      [0.025      0.975]\n",
       "------------------------------------------------------------------------------\n",
       "ar.L1          1.3398      0.262      5.112      0.000       0.826       1.853\n",
       "ar.L2         -0.9675      0.205     -4.724      0.000      -1.369      -0.566\n",
       "ma.L1         -0.9597      0.296     -3.241      0.001      -1.540      -0.379\n",
       "ma.L2          0.4501      0.246      1.831      0.067      -0.032       0.932\n",
       "ar.S.L4        0.4082      0.370      1.103      0.270      -0.317       1.134\n",
       "ar.S.L8        0.4525      0.510      0.887      0.375      -0.548       1.453\n",
       "sigma2      6.802e+05   1.36e+05      5.010      0.000    4.14e+05    9.46e+05\n",
       "===================================================================================\n",
       "Ljung-Box (Q):                       19.78   Jarque-Bera (JB):                38.65\n",
       "Prob(Q):                              1.00   Prob(JB):                         0.00\n",
       "Heteroskedasticity (H):              10.42   Skew:                             0.75\n",
       "Prob(H) (two-sided):                  0.00   Kurtosis:                         7.00\n",
       "===================================================================================\n",
       "\n",
       "Warnings:\n",
       "[1] Covariance matrix calculated using the outer product of gradients (complex-step).\n",
       "\"\"\""
      ]
     },
     "execution_count": 73,
     "metadata": {},
     "output_type": "execute_result"
    }
   ],
   "source": [
    "from statsmodels.tsa.statespace.sarimax import SARIMAX\n",
    "\n",
    "model = SARIMAX(train_data['Revenue'],order=(2,1,2),seasonal_order=(2,1,[],4))\n",
    "results = model.fit()\n",
    "results.summary()"
   ]
  },
  {
   "cell_type": "code",
   "execution_count": 74,
   "metadata": {},
   "outputs": [
    {
     "data": {
      "text/plain": [
       "4.976312226283121"
      ]
     },
     "execution_count": 74,
     "metadata": {},
     "output_type": "execute_result"
    }
   ],
   "source": [
    "start=len(train_data)\n",
    "end=len(train_data)+len(test_data)-1\n",
    "predictions = results.predict(start=start, end=end).rename('ARIMA(2,2) Predictions')\n",
    "mean_absolute_percentage_error(test_data['Revenue'],predictions)"
   ]
  },
  {
   "cell_type": "code",
   "execution_count": 75,
   "metadata": {},
   "outputs": [
    {
     "data": {
      "image/png": "[encoded data removed]",
      "text/plain": [
       "<Figure size 432x288 with 1 Axes>"
      ]
     },
     "metadata": {
      "needs_background": "dark"
     },
     "output_type": "display_data"
    }
   ],
   "source": [
    "test_data['Revenue'].plot(legend=True,label='TEST')\n",
    "predictions.plot(legend=True,label='PREDICTION');"
   ]
  },
  {
   "cell_type": "code",
   "execution_count": 76,
   "metadata": {},
   "outputs": [],
   "source": [
    "from prophet import Prophet\n",
    "df_rev_fb=pd.DataFrame()\n",
    "\n",
    "\n",
    "df_rev_fb['y']=new_df['Revenue'][::-1]\n",
    "df_rev_fb['ds']=new_df.index[::-1]"
   ]
  },
  {
   "cell_type": "code",
   "execution_count": 77,
   "metadata": {},
   "outputs": [
    {
     "data": {
      "text/html": [
       "<div>\n",
       "<style scoped>\n",
       "    .dataframe tbody tr th:only-of-type {\n",
       "        vertical-align: middle;\n",
       "    }\n",
       "\n",
       "    .dataframe tbody tr th {\n",
       "        vertical-align: top;\n",
       "    }\n",
       "\n",
       "    .dataframe thead th {\n",
       "        text-align: right;\n",
       "    }\n",
       "</style>\n",
       "<table border=\"1\" class=\"dataframe\">\n",
       "  <thead>\n",
       "    <tr style=\"text-align: right;\">\n",
       "      <th></th>\n",
       "      <th>y</th>\n",
       "      <th>ds</th>\n",
       "    </tr>\n",
       "  </thead>\n",
       "  <tbody>\n",
       "    <tr>\n",
       "      <th>2005-03-31</th>\n",
       "      <td>1902</td>\n",
       "      <td>2005-03-31</td>\n",
       "    </tr>\n",
       "    <tr>\n",
       "      <th>2005-06-30</th>\n",
       "      <td>1753</td>\n",
       "      <td>2005-06-30</td>\n",
       "    </tr>\n",
       "    <tr>\n",
       "      <th>2005-09-30</th>\n",
       "      <td>1858</td>\n",
       "      <td>2005-09-30</td>\n",
       "    </tr>\n",
       "    <tr>\n",
       "      <th>2005-12-31</th>\n",
       "      <td>2977</td>\n",
       "      <td>2005-12-31</td>\n",
       "    </tr>\n",
       "    <tr>\n",
       "      <th>2006-03-31</th>\n",
       "      <td>2279</td>\n",
       "      <td>2006-03-31</td>\n",
       "    </tr>\n",
       "    <tr>\n",
       "      <th>...</th>\n",
       "      <td>...</td>\n",
       "      <td>...</td>\n",
       "    </tr>\n",
       "    <tr>\n",
       "      <th>2019-03-31</th>\n",
       "      <td>59700</td>\n",
       "      <td>2019-03-31</td>\n",
       "    </tr>\n",
       "    <tr>\n",
       "      <th>2019-06-30</th>\n",
       "      <td>63404</td>\n",
       "      <td>2019-06-30</td>\n",
       "    </tr>\n",
       "    <tr>\n",
       "      <th>2019-09-30</th>\n",
       "      <td>69981</td>\n",
       "      <td>2019-09-30</td>\n",
       "    </tr>\n",
       "    <tr>\n",
       "      <th>2019-12-31</th>\n",
       "      <td>87437</td>\n",
       "      <td>2019-12-31</td>\n",
       "    </tr>\n",
       "    <tr>\n",
       "      <th>2020-03-31</th>\n",
       "      <td>75452</td>\n",
       "      <td>2020-03-31</td>\n",
       "    </tr>\n",
       "  </tbody>\n",
       "</table>\n",
       "<p>61 rows × 2 columns</p>\n",
       "</div>"
      ],
      "text/plain": [
       "                y         ds\n",
       "2005-03-31   1902 2005-03-31\n",
       "2005-06-30   1753 2005-06-30\n",
       "2005-09-30   1858 2005-09-30\n",
       "2005-12-31   2977 2005-12-31\n",
       "2006-03-31   2279 2006-03-31\n",
       "...           ...        ...\n",
       "2019-03-31  59700 2019-03-31\n",
       "2019-06-30  63404 2019-06-30\n",
       "2019-09-30  69981 2019-09-30\n",
       "2019-12-31  87437 2019-12-31\n",
       "2020-03-31  75452 2020-03-31\n",
       "\n",
       "[61 rows x 2 columns]"
      ]
     },
     "execution_count": 77,
     "metadata": {},
     "output_type": "execute_result"
    }
   ],
   "source": [
    "df_rev_fb"
   ]
  },
  {
   "cell_type": "code",
   "execution_count": 78,
   "metadata": {},
   "outputs": [],
   "source": [
    "train_data_fb = df_rev_fb.iloc[:56]\n",
    "test_data_fb = df_rev_fb.iloc[56:]"
   ]
  },
  {
   "cell_type": "code",
   "execution_count": 80,
   "metadata": {},
   "outputs": [
    {
     "name": "stderr",
     "output_type": "stream",
     "text": [
      "INFO:prophet:Disabling weekly seasonality. Run prophet with weekly_seasonality=True to override this.\n",
      "INFO:prophet:Disabling daily seasonality. Run prophet with daily_seasonality=True to override this.\n"
     ]
    },
    {
     "data": {
      "text/html": [
       "<div>\n",
       "<style scoped>\n",
       "    .dataframe tbody tr th:only-of-type {\n",
       "        vertical-align: middle;\n",
       "    }\n",
       "\n",
       "    .dataframe tbody tr th {\n",
       "        vertical-align: top;\n",
       "    }\n",
       "\n",
       "    .dataframe thead th {\n",
       "        text-align: right;\n",
       "    }\n",
       "</style>\n",
       "<table border=\"1\" class=\"dataframe\">\n",
       "  <thead>\n",
       "    <tr style=\"text-align: right;\">\n",
       "      <th></th>\n",
       "      <th>ds</th>\n",
       "      <th>trend</th>\n",
       "      <th>yhat_lower</th>\n",
       "      <th>yhat_upper</th>\n",
       "      <th>trend_lower</th>\n",
       "      <th>trend_upper</th>\n",
       "      <th>additive_terms</th>\n",
       "      <th>additive_terms_lower</th>\n",
       "      <th>additive_terms_upper</th>\n",
       "      <th>yearly</th>\n",
       "      <th>yearly_lower</th>\n",
       "      <th>yearly_upper</th>\n",
       "      <th>multiplicative_terms</th>\n",
       "      <th>multiplicative_terms_lower</th>\n",
       "      <th>multiplicative_terms_upper</th>\n",
       "      <th>yhat</th>\n",
       "    </tr>\n",
       "  </thead>\n",
       "  <tbody>\n",
       "    <tr>\n",
       "      <th>56</th>\n",
       "      <td>2019-03-31</td>\n",
       "      <td>-572.921238</td>\n",
       "      <td>59389.430735</td>\n",
       "      <td>64480.854680</td>\n",
       "      <td>-592.157019</td>\n",
       "      <td>-552.197825</td>\n",
       "      <td>62510.788965</td>\n",
       "      <td>62510.788965</td>\n",
       "      <td>62510.788965</td>\n",
       "      <td>62510.788965</td>\n",
       "      <td>62510.788965</td>\n",
       "      <td>62510.788965</td>\n",
       "      <td>0.0</td>\n",
       "      <td>0.0</td>\n",
       "      <td>0.0</td>\n",
       "      <td>61937.867727</td>\n",
       "    </tr>\n",
       "    <tr>\n",
       "      <th>57</th>\n",
       "      <td>2019-06-30</td>\n",
       "      <td>1990.543127</td>\n",
       "      <td>61181.840258</td>\n",
       "      <td>66322.726735</td>\n",
       "      <td>1876.689013</td>\n",
       "      <td>2100.818967</td>\n",
       "      <td>61831.090742</td>\n",
       "      <td>61831.090742</td>\n",
       "      <td>61831.090742</td>\n",
       "      <td>61831.090742</td>\n",
       "      <td>61831.090742</td>\n",
       "      <td>61831.090742</td>\n",
       "      <td>0.0</td>\n",
       "      <td>0.0</td>\n",
       "      <td>0.0</td>\n",
       "      <td>63821.633869</td>\n",
       "    </tr>\n",
       "    <tr>\n",
       "      <th>58</th>\n",
       "      <td>2019-09-30</td>\n",
       "      <td>4582.177429</td>\n",
       "      <td>64027.455455</td>\n",
       "      <td>69287.229195</td>\n",
       "      <td>4357.341123</td>\n",
       "      <td>4838.510289</td>\n",
       "      <td>62060.027050</td>\n",
       "      <td>62060.027050</td>\n",
       "      <td>62060.027050</td>\n",
       "      <td>62060.027050</td>\n",
       "      <td>62060.027050</td>\n",
       "      <td>62060.027050</td>\n",
       "      <td>0.0</td>\n",
       "      <td>0.0</td>\n",
       "      <td>0.0</td>\n",
       "      <td>66642.204480</td>\n",
       "    </tr>\n",
       "    <tr>\n",
       "      <th>59</th>\n",
       "      <td>2019-12-31</td>\n",
       "      <td>7173.811732</td>\n",
       "      <td>72396.531639</td>\n",
       "      <td>77519.777150</td>\n",
       "      <td>6805.907260</td>\n",
       "      <td>7584.417945</td>\n",
       "      <td>67711.851625</td>\n",
       "      <td>67711.851625</td>\n",
       "      <td>67711.851625</td>\n",
       "      <td>67711.851625</td>\n",
       "      <td>67711.851625</td>\n",
       "      <td>67711.851625</td>\n",
       "      <td>0.0</td>\n",
       "      <td>0.0</td>\n",
       "      <td>0.0</td>\n",
       "      <td>74885.663357</td>\n",
       "    </tr>\n",
       "    <tr>\n",
       "      <th>60</th>\n",
       "      <td>2020-03-31</td>\n",
       "      <td>9737.276096</td>\n",
       "      <td>68566.641598</td>\n",
       "      <td>74039.273603</td>\n",
       "      <td>9177.704446</td>\n",
       "      <td>10339.007971</td>\n",
       "      <td>61589.985689</td>\n",
       "      <td>61589.985689</td>\n",
       "      <td>61589.985689</td>\n",
       "      <td>61589.985689</td>\n",
       "      <td>61589.985689</td>\n",
       "      <td>61589.985689</td>\n",
       "      <td>0.0</td>\n",
       "      <td>0.0</td>\n",
       "      <td>0.0</td>\n",
       "      <td>71327.261786</td>\n",
       "    </tr>\n",
       "  </tbody>\n",
       "</table>\n",
       "</div>"
      ],
      "text/plain": [
       "           ds        trend    yhat_lower    yhat_upper  trend_lower  \\\n",
       "56 2019-03-31  -572.921238  59389.430735  64480.854680  -592.157019   \n",
       "57 2019-06-30  1990.543127  61181.840258  66322.726735  1876.689013   \n",
       "58 2019-09-30  4582.177429  64027.455455  69287.229195  4357.341123   \n",
       "59 2019-12-31  7173.811732  72396.531639  77519.777150  6805.907260   \n",
       "60 2020-03-31  9737.276096  68566.641598  74039.273603  9177.704446   \n",
       "\n",
       "     trend_upper  additive_terms  additive_terms_lower  additive_terms_upper  \\\n",
       "56   -552.197825    62510.788965          62510.788965          62510.788965   \n",
       "57   2100.818967    61831.090742          61831.090742          61831.090742   \n",
       "58   4838.510289    62060.027050          62060.027050          62060.027050   \n",
       "59   7584.417945    67711.851625          67711.851625          67711.851625   \n",
       "60  10339.007971    61589.985689          61589.985689          61589.985689   \n",
       "\n",
       "          yearly  yearly_lower  yearly_upper  multiplicative_terms  \\\n",
       "56  62510.788965  62510.788965  62510.788965                   0.0   \n",
       "57  61831.090742  61831.090742  61831.090742                   0.0   \n",
       "58  62060.027050  62060.027050  62060.027050                   0.0   \n",
       "59  67711.851625  67711.851625  67711.851625                   0.0   \n",
       "60  61589.985689  61589.985689  61589.985689                   0.0   \n",
       "\n",
       "    multiplicative_terms_lower  multiplicative_terms_upper          yhat  \n",
       "56                         0.0                         0.0  61937.867727  \n",
       "57                         0.0                         0.0  63821.633869  \n",
       "58                         0.0                         0.0  66642.204480  \n",
       "59                         0.0                         0.0  74885.663357  \n",
       "60                         0.0                         0.0  71327.261786  "
      ]
     },
     "execution_count": 80,
     "metadata": {},
     "output_type": "execute_result"
    }
   ],
   "source": [
    "m = Prophet()\n",
    "m.fit(train_data_fb)\n",
    "\n",
    "future = m.make_future_dataframe(periods=5,freq = 'Q')\n",
    "forecast = m.predict(future)\n",
    "forecast.tail()"
   ]
  },
  {
   "cell_type": "code",
   "execution_count": 83,
   "metadata": {},
   "outputs": [
    {
     "data": {
      "text/plain": [
       "<matplotlib.axes._subplots.AxesSubplot at 0x140aa629ac8>"
      ]
     },
     "execution_count": 83,
     "metadata": {},
     "output_type": "execute_result"
    },
    {
     "data": {
      "image/png": "[encoded data removed]",
      "text/plain": [
       "<Figure size 864x576 with 1 Axes>"
      ]
     },
     "metadata": {
      "needs_background": "dark"
     },
     "output_type": "display_data"
    }
   ],
   "source": [
    "ax = forecast.plot(x='ds',y='yhat',label='Predictions',legend=True,figsize=(12,8))\n",
    "\n",
    "df_rev_fb.plot(x='ds',y='y',label='True',legend=True,ax=ax)"
   ]
  },
  {
   "cell_type": "code",
   "execution_count": 84,
   "metadata": {},
   "outputs": [],
   "source": [
    "pred=forecast[-5:]['yhat']"
   ]
  },
  {
   "cell_type": "code",
   "execution_count": 85,
   "metadata": {},
   "outputs": [
    {
     "data": {
      "text/plain": [
       "5.799927409526575"
      ]
     },
     "execution_count": 85,
     "metadata": {},
     "output_type": "execute_result"
    }
   ],
   "source": [
    "mean_absolute_percentage_error(test_data_fb['y'],pred)"
   ]
  },
  {
   "cell_type": "code",
   "execution_count": 91,
   "metadata": {},
   "outputs": [],
   "source": [
    "start=len(df_rev)\n",
    "end=len(df_rev)-1+5\n",
    "\n",
    "\n",
    "model = AR(df_rev['Revenue'])\n",
    "ARfit = model.fit(maxlag=5,method='cmle')\n",
    "predictions23 = ARfit.predict(start=start,end=end,dynamic=False)"
   ]
  },
  {
   "cell_type": "code",
   "execution_count": 92,
   "metadata": {},
   "outputs": [
    {
     "data": {
      "text/plain": [
       "2020-06-30     80219.519294\n",
       "2020-09-30     88116.722360\n",
       "2020-12-31    107761.916610\n",
       "2021-03-31     94631.530488\n",
       "2021-06-30    100811.582117\n",
       "Freq: Q-DEC, dtype: float64"
      ]
     },
     "execution_count": 92,
     "metadata": {},
     "output_type": "execute_result"
    }
   ],
   "source": [
    "predictions23"
   ]
  },
  {
   "cell_type": "code",
   "execution_count": 93,
   "metadata": {},
   "outputs": [
    {
     "data": {
      "image/png": "[encoded data removed]",
      "text/plain": [
       "<Figure size 432x288 with 1 Axes>"
      ]
     },
     "metadata": {
      "needs_background": "dark"
     },
     "output_type": "display_data"
    }
   ],
   "source": [
    "df_rev['Revenue'].plot(legend=True,label='TEST')\n",
    "predictions23.plot(legend=True,label='PREDICTION');"
   ]
  },
  {
   "cell_type": "code",
   "execution_count": 105,
   "metadata": {},
   "outputs": [
    {
     "name": "stdout",
     "output_type": "stream",
     "text": [
      "2020-06-30     80219.519294\n",
      "2020-09-30     88116.722360\n",
      "2020-12-31    107761.916610\n",
      "2021-03-31     94631.530488\n",
      "2021-06-30    100811.582117\n",
      "2021-09-30    110367.212414\n",
      "Freq: Q-DEC, dtype: float64\n"
     ]
    }
   ],
   "source": [
    "import pickle\n",
    "\n",
    "pickle.dump(ARfit, open('model_revenue.pkl','wb'))\n",
    "\n",
    "# Loading model to compare the results\n",
    "model = pickle.load(open('model_revenue.pkl','rb'))\n",
    "print(model.predict(start=len(df_rev),end=len(df_rev)+5))"
   ]
  }
 ],
 "metadata": {
  "kernelspec": {
   "display_name": "Python 3",
   "language": "python",
   "name": "python3"
  },
  "language_info": {
   "codemirror_mode": {
    "name": "ipython",
    "version": 3
   },
   "file_extension": ".py",
   "mimetype": "text/x-python",
   "name": "python",
   "nbconvert_exporter": "python",
   "pygments_lexer": "ipython3",
   "version": "3.7.6"
  }
 },
 "nbformat": 4,
 "nbformat_minor": 4
}
